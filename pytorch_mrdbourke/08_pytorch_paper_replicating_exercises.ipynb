{
  "nbformat": 4,
  "nbformat_minor": 0,
  "metadata": {
    "colab": {
      "provenance": [],
      "gpuType": "T4"
    },
    "kernelspec": {
      "name": "python3",
      "display_name": "Python 3"
    },
    "language_info": {
      "name": "python"
    },
    "accelerator": "GPU",
    "widgets": {
      "application/vnd.jupyter.widget-state+json": {
        "a51c73288a214012b4c0f0af852adc66": {
          "model_module": "@jupyter-widgets/controls",
          "model_name": "HBoxModel",
          "model_module_version": "1.5.0",
          "state": {
            "_dom_classes": [],
            "_model_module": "@jupyter-widgets/controls",
            "_model_module_version": "1.5.0",
            "_model_name": "HBoxModel",
            "_view_count": null,
            "_view_module": "@jupyter-widgets/controls",
            "_view_module_version": "1.5.0",
            "_view_name": "HBoxView",
            "box_style": "",
            "children": [
              "IPY_MODEL_09509ed1a56f498983482a1dae3067fb",
              "IPY_MODEL_99085431d9c84ec18caee93752f511a0",
              "IPY_MODEL_007406d9282242938b01262a3cdcef5a"
            ],
            "layout": "IPY_MODEL_e6c35e9fbf9d4dd9b4df358b62ccf618"
          }
        },
        "09509ed1a56f498983482a1dae3067fb": {
          "model_module": "@jupyter-widgets/controls",
          "model_name": "HTMLModel",
          "model_module_version": "1.5.0",
          "state": {
            "_dom_classes": [],
            "_model_module": "@jupyter-widgets/controls",
            "_model_module_version": "1.5.0",
            "_model_name": "HTMLModel",
            "_view_count": null,
            "_view_module": "@jupyter-widgets/controls",
            "_view_module_version": "1.5.0",
            "_view_name": "HTMLView",
            "description": "",
            "description_tooltip": null,
            "layout": "IPY_MODEL_a67aeea6d4424f11a09f0061fed763b6",
            "placeholder": "​",
            "style": "IPY_MODEL_843e5a4647c44be89645b5bf450c5a68",
            "value": "100%"
          }
        },
        "99085431d9c84ec18caee93752f511a0": {
          "model_module": "@jupyter-widgets/controls",
          "model_name": "FloatProgressModel",
          "model_module_version": "1.5.0",
          "state": {
            "_dom_classes": [],
            "_model_module": "@jupyter-widgets/controls",
            "_model_module_version": "1.5.0",
            "_model_name": "FloatProgressModel",
            "_view_count": null,
            "_view_module": "@jupyter-widgets/controls",
            "_view_module_version": "1.5.0",
            "_view_name": "ProgressView",
            "bar_style": "success",
            "description": "",
            "description_tooltip": null,
            "layout": "IPY_MODEL_0cebfea8a4ac431cbe2acb523d5d4cc7",
            "max": 10,
            "min": 0,
            "orientation": "horizontal",
            "style": "IPY_MODEL_3a21a82d8fc846e981395ba146c46a3a",
            "value": 10
          }
        },
        "007406d9282242938b01262a3cdcef5a": {
          "model_module": "@jupyter-widgets/controls",
          "model_name": "HTMLModel",
          "model_module_version": "1.5.0",
          "state": {
            "_dom_classes": [],
            "_model_module": "@jupyter-widgets/controls",
            "_model_module_version": "1.5.0",
            "_model_name": "HTMLModel",
            "_view_count": null,
            "_view_module": "@jupyter-widgets/controls",
            "_view_module_version": "1.5.0",
            "_view_name": "HTMLView",
            "description": "",
            "description_tooltip": null,
            "layout": "IPY_MODEL_e1eacb79f21e4896892c310b7dfdf8b7",
            "placeholder": "​",
            "style": "IPY_MODEL_cecb3846a0c44b29963c136640aa8bbb",
            "value": " 10/10 [01:35&lt;00:00,  9.84s/it]"
          }
        },
        "e6c35e9fbf9d4dd9b4df358b62ccf618": {
          "model_module": "@jupyter-widgets/base",
          "model_name": "LayoutModel",
          "model_module_version": "1.2.0",
          "state": {
            "_model_module": "@jupyter-widgets/base",
            "_model_module_version": "1.2.0",
            "_model_name": "LayoutModel",
            "_view_count": null,
            "_view_module": "@jupyter-widgets/base",
            "_view_module_version": "1.2.0",
            "_view_name": "LayoutView",
            "align_content": null,
            "align_items": null,
            "align_self": null,
            "border": null,
            "bottom": null,
            "display": null,
            "flex": null,
            "flex_flow": null,
            "grid_area": null,
            "grid_auto_columns": null,
            "grid_auto_flow": null,
            "grid_auto_rows": null,
            "grid_column": null,
            "grid_gap": null,
            "grid_row": null,
            "grid_template_areas": null,
            "grid_template_columns": null,
            "grid_template_rows": null,
            "height": null,
            "justify_content": null,
            "justify_items": null,
            "left": null,
            "margin": null,
            "max_height": null,
            "max_width": null,
            "min_height": null,
            "min_width": null,
            "object_fit": null,
            "object_position": null,
            "order": null,
            "overflow": null,
            "overflow_x": null,
            "overflow_y": null,
            "padding": null,
            "right": null,
            "top": null,
            "visibility": null,
            "width": null
          }
        },
        "a67aeea6d4424f11a09f0061fed763b6": {
          "model_module": "@jupyter-widgets/base",
          "model_name": "LayoutModel",
          "model_module_version": "1.2.0",
          "state": {
            "_model_module": "@jupyter-widgets/base",
            "_model_module_version": "1.2.0",
            "_model_name": "LayoutModel",
            "_view_count": null,
            "_view_module": "@jupyter-widgets/base",
            "_view_module_version": "1.2.0",
            "_view_name": "LayoutView",
            "align_content": null,
            "align_items": null,
            "align_self": null,
            "border": null,
            "bottom": null,
            "display": null,
            "flex": null,
            "flex_flow": null,
            "grid_area": null,
            "grid_auto_columns": null,
            "grid_auto_flow": null,
            "grid_auto_rows": null,
            "grid_column": null,
            "grid_gap": null,
            "grid_row": null,
            "grid_template_areas": null,
            "grid_template_columns": null,
            "grid_template_rows": null,
            "height": null,
            "justify_content": null,
            "justify_items": null,
            "left": null,
            "margin": null,
            "max_height": null,
            "max_width": null,
            "min_height": null,
            "min_width": null,
            "object_fit": null,
            "object_position": null,
            "order": null,
            "overflow": null,
            "overflow_x": null,
            "overflow_y": null,
            "padding": null,
            "right": null,
            "top": null,
            "visibility": null,
            "width": null
          }
        },
        "843e5a4647c44be89645b5bf450c5a68": {
          "model_module": "@jupyter-widgets/controls",
          "model_name": "DescriptionStyleModel",
          "model_module_version": "1.5.0",
          "state": {
            "_model_module": "@jupyter-widgets/controls",
            "_model_module_version": "1.5.0",
            "_model_name": "DescriptionStyleModel",
            "_view_count": null,
            "_view_module": "@jupyter-widgets/base",
            "_view_module_version": "1.2.0",
            "_view_name": "StyleView",
            "description_width": ""
          }
        },
        "0cebfea8a4ac431cbe2acb523d5d4cc7": {
          "model_module": "@jupyter-widgets/base",
          "model_name": "LayoutModel",
          "model_module_version": "1.2.0",
          "state": {
            "_model_module": "@jupyter-widgets/base",
            "_model_module_version": "1.2.0",
            "_model_name": "LayoutModel",
            "_view_count": null,
            "_view_module": "@jupyter-widgets/base",
            "_view_module_version": "1.2.0",
            "_view_name": "LayoutView",
            "align_content": null,
            "align_items": null,
            "align_self": null,
            "border": null,
            "bottom": null,
            "display": null,
            "flex": null,
            "flex_flow": null,
            "grid_area": null,
            "grid_auto_columns": null,
            "grid_auto_flow": null,
            "grid_auto_rows": null,
            "grid_column": null,
            "grid_gap": null,
            "grid_row": null,
            "grid_template_areas": null,
            "grid_template_columns": null,
            "grid_template_rows": null,
            "height": null,
            "justify_content": null,
            "justify_items": null,
            "left": null,
            "margin": null,
            "max_height": null,
            "max_width": null,
            "min_height": null,
            "min_width": null,
            "object_fit": null,
            "object_position": null,
            "order": null,
            "overflow": null,
            "overflow_x": null,
            "overflow_y": null,
            "padding": null,
            "right": null,
            "top": null,
            "visibility": null,
            "width": null
          }
        },
        "3a21a82d8fc846e981395ba146c46a3a": {
          "model_module": "@jupyter-widgets/controls",
          "model_name": "ProgressStyleModel",
          "model_module_version": "1.5.0",
          "state": {
            "_model_module": "@jupyter-widgets/controls",
            "_model_module_version": "1.5.0",
            "_model_name": "ProgressStyleModel",
            "_view_count": null,
            "_view_module": "@jupyter-widgets/base",
            "_view_module_version": "1.2.0",
            "_view_name": "StyleView",
            "bar_color": null,
            "description_width": ""
          }
        },
        "e1eacb79f21e4896892c310b7dfdf8b7": {
          "model_module": "@jupyter-widgets/base",
          "model_name": "LayoutModel",
          "model_module_version": "1.2.0",
          "state": {
            "_model_module": "@jupyter-widgets/base",
            "_model_module_version": "1.2.0",
            "_model_name": "LayoutModel",
            "_view_count": null,
            "_view_module": "@jupyter-widgets/base",
            "_view_module_version": "1.2.0",
            "_view_name": "LayoutView",
            "align_content": null,
            "align_items": null,
            "align_self": null,
            "border": null,
            "bottom": null,
            "display": null,
            "flex": null,
            "flex_flow": null,
            "grid_area": null,
            "grid_auto_columns": null,
            "grid_auto_flow": null,
            "grid_auto_rows": null,
            "grid_column": null,
            "grid_gap": null,
            "grid_row": null,
            "grid_template_areas": null,
            "grid_template_columns": null,
            "grid_template_rows": null,
            "height": null,
            "justify_content": null,
            "justify_items": null,
            "left": null,
            "margin": null,
            "max_height": null,
            "max_width": null,
            "min_height": null,
            "min_width": null,
            "object_fit": null,
            "object_position": null,
            "order": null,
            "overflow": null,
            "overflow_x": null,
            "overflow_y": null,
            "padding": null,
            "right": null,
            "top": null,
            "visibility": null,
            "width": null
          }
        },
        "cecb3846a0c44b29963c136640aa8bbb": {
          "model_module": "@jupyter-widgets/controls",
          "model_name": "DescriptionStyleModel",
          "model_module_version": "1.5.0",
          "state": {
            "_model_module": "@jupyter-widgets/controls",
            "_model_module_version": "1.5.0",
            "_model_name": "DescriptionStyleModel",
            "_view_count": null,
            "_view_module": "@jupyter-widgets/base",
            "_view_module_version": "1.2.0",
            "_view_name": "StyleView",
            "description_width": ""
          }
        },
        "f81d483453a84bc096c57c35bfda9e4c": {
          "model_module": "@jupyter-widgets/controls",
          "model_name": "HBoxModel",
          "model_module_version": "1.5.0",
          "state": {
            "_dom_classes": [],
            "_model_module": "@jupyter-widgets/controls",
            "_model_module_version": "1.5.0",
            "_model_name": "HBoxModel",
            "_view_count": null,
            "_view_module": "@jupyter-widgets/controls",
            "_view_module_version": "1.5.0",
            "_view_name": "HBoxView",
            "box_style": "",
            "children": [
              "IPY_MODEL_6735b375eb9b4709afc14cec1694bab6",
              "IPY_MODEL_7785550cb3a84b7099a33009b2c732e0",
              "IPY_MODEL_008daf822a7c410f821d6a2d3739359a"
            ],
            "layout": "IPY_MODEL_b3d5dd1918194deb977a7fd305fd7772"
          }
        },
        "6735b375eb9b4709afc14cec1694bab6": {
          "model_module": "@jupyter-widgets/controls",
          "model_name": "HTMLModel",
          "model_module_version": "1.5.0",
          "state": {
            "_dom_classes": [],
            "_model_module": "@jupyter-widgets/controls",
            "_model_module_version": "1.5.0",
            "_model_name": "HTMLModel",
            "_view_count": null,
            "_view_module": "@jupyter-widgets/controls",
            "_view_module_version": "1.5.0",
            "_view_name": "HTMLView",
            "description": "",
            "description_tooltip": null,
            "layout": "IPY_MODEL_30f7dfd7b0d0488181418d2153bf6e88",
            "placeholder": "​",
            "style": "IPY_MODEL_be19b6afedaf40f785ecaaeddc51a4b2",
            "value": "100%"
          }
        },
        "7785550cb3a84b7099a33009b2c732e0": {
          "model_module": "@jupyter-widgets/controls",
          "model_name": "FloatProgressModel",
          "model_module_version": "1.5.0",
          "state": {
            "_dom_classes": [],
            "_model_module": "@jupyter-widgets/controls",
            "_model_module_version": "1.5.0",
            "_model_name": "FloatProgressModel",
            "_view_count": null,
            "_view_module": "@jupyter-widgets/controls",
            "_view_module_version": "1.5.0",
            "_view_name": "ProgressView",
            "bar_style": "success",
            "description": "",
            "description_tooltip": null,
            "layout": "IPY_MODEL_5b4d44ab748a4e06a85b27c4d840b5f9",
            "max": 10,
            "min": 0,
            "orientation": "horizontal",
            "style": "IPY_MODEL_817e47b7662942cea18808b3b47b92c6",
            "value": 10
          }
        },
        "008daf822a7c410f821d6a2d3739359a": {
          "model_module": "@jupyter-widgets/controls",
          "model_name": "HTMLModel",
          "model_module_version": "1.5.0",
          "state": {
            "_dom_classes": [],
            "_model_module": "@jupyter-widgets/controls",
            "_model_module_version": "1.5.0",
            "_model_name": "HTMLModel",
            "_view_count": null,
            "_view_module": "@jupyter-widgets/controls",
            "_view_module_version": "1.5.0",
            "_view_name": "HTMLView",
            "description": "",
            "description_tooltip": null,
            "layout": "IPY_MODEL_b1c70e59e3004adc996c6e683573e1eb",
            "placeholder": "​",
            "style": "IPY_MODEL_e486c621c5954824bb4d137e14d086f8",
            "value": " 10/10 [01:30&lt;00:00,  9.01s/it]"
          }
        },
        "b3d5dd1918194deb977a7fd305fd7772": {
          "model_module": "@jupyter-widgets/base",
          "model_name": "LayoutModel",
          "model_module_version": "1.2.0",
          "state": {
            "_model_module": "@jupyter-widgets/base",
            "_model_module_version": "1.2.0",
            "_model_name": "LayoutModel",
            "_view_count": null,
            "_view_module": "@jupyter-widgets/base",
            "_view_module_version": "1.2.0",
            "_view_name": "LayoutView",
            "align_content": null,
            "align_items": null,
            "align_self": null,
            "border": null,
            "bottom": null,
            "display": null,
            "flex": null,
            "flex_flow": null,
            "grid_area": null,
            "grid_auto_columns": null,
            "grid_auto_flow": null,
            "grid_auto_rows": null,
            "grid_column": null,
            "grid_gap": null,
            "grid_row": null,
            "grid_template_areas": null,
            "grid_template_columns": null,
            "grid_template_rows": null,
            "height": null,
            "justify_content": null,
            "justify_items": null,
            "left": null,
            "margin": null,
            "max_height": null,
            "max_width": null,
            "min_height": null,
            "min_width": null,
            "object_fit": null,
            "object_position": null,
            "order": null,
            "overflow": null,
            "overflow_x": null,
            "overflow_y": null,
            "padding": null,
            "right": null,
            "top": null,
            "visibility": null,
            "width": null
          }
        },
        "30f7dfd7b0d0488181418d2153bf6e88": {
          "model_module": "@jupyter-widgets/base",
          "model_name": "LayoutModel",
          "model_module_version": "1.2.0",
          "state": {
            "_model_module": "@jupyter-widgets/base",
            "_model_module_version": "1.2.0",
            "_model_name": "LayoutModel",
            "_view_count": null,
            "_view_module": "@jupyter-widgets/base",
            "_view_module_version": "1.2.0",
            "_view_name": "LayoutView",
            "align_content": null,
            "align_items": null,
            "align_self": null,
            "border": null,
            "bottom": null,
            "display": null,
            "flex": null,
            "flex_flow": null,
            "grid_area": null,
            "grid_auto_columns": null,
            "grid_auto_flow": null,
            "grid_auto_rows": null,
            "grid_column": null,
            "grid_gap": null,
            "grid_row": null,
            "grid_template_areas": null,
            "grid_template_columns": null,
            "grid_template_rows": null,
            "height": null,
            "justify_content": null,
            "justify_items": null,
            "left": null,
            "margin": null,
            "max_height": null,
            "max_width": null,
            "min_height": null,
            "min_width": null,
            "object_fit": null,
            "object_position": null,
            "order": null,
            "overflow": null,
            "overflow_x": null,
            "overflow_y": null,
            "padding": null,
            "right": null,
            "top": null,
            "visibility": null,
            "width": null
          }
        },
        "be19b6afedaf40f785ecaaeddc51a4b2": {
          "model_module": "@jupyter-widgets/controls",
          "model_name": "DescriptionStyleModel",
          "model_module_version": "1.5.0",
          "state": {
            "_model_module": "@jupyter-widgets/controls",
            "_model_module_version": "1.5.0",
            "_model_name": "DescriptionStyleModel",
            "_view_count": null,
            "_view_module": "@jupyter-widgets/base",
            "_view_module_version": "1.2.0",
            "_view_name": "StyleView",
            "description_width": ""
          }
        },
        "5b4d44ab748a4e06a85b27c4d840b5f9": {
          "model_module": "@jupyter-widgets/base",
          "model_name": "LayoutModel",
          "model_module_version": "1.2.0",
          "state": {
            "_model_module": "@jupyter-widgets/base",
            "_model_module_version": "1.2.0",
            "_model_name": "LayoutModel",
            "_view_count": null,
            "_view_module": "@jupyter-widgets/base",
            "_view_module_version": "1.2.0",
            "_view_name": "LayoutView",
            "align_content": null,
            "align_items": null,
            "align_self": null,
            "border": null,
            "bottom": null,
            "display": null,
            "flex": null,
            "flex_flow": null,
            "grid_area": null,
            "grid_auto_columns": null,
            "grid_auto_flow": null,
            "grid_auto_rows": null,
            "grid_column": null,
            "grid_gap": null,
            "grid_row": null,
            "grid_template_areas": null,
            "grid_template_columns": null,
            "grid_template_rows": null,
            "height": null,
            "justify_content": null,
            "justify_items": null,
            "left": null,
            "margin": null,
            "max_height": null,
            "max_width": null,
            "min_height": null,
            "min_width": null,
            "object_fit": null,
            "object_position": null,
            "order": null,
            "overflow": null,
            "overflow_x": null,
            "overflow_y": null,
            "padding": null,
            "right": null,
            "top": null,
            "visibility": null,
            "width": null
          }
        },
        "817e47b7662942cea18808b3b47b92c6": {
          "model_module": "@jupyter-widgets/controls",
          "model_name": "ProgressStyleModel",
          "model_module_version": "1.5.0",
          "state": {
            "_model_module": "@jupyter-widgets/controls",
            "_model_module_version": "1.5.0",
            "_model_name": "ProgressStyleModel",
            "_view_count": null,
            "_view_module": "@jupyter-widgets/base",
            "_view_module_version": "1.2.0",
            "_view_name": "StyleView",
            "bar_color": null,
            "description_width": ""
          }
        },
        "b1c70e59e3004adc996c6e683573e1eb": {
          "model_module": "@jupyter-widgets/base",
          "model_name": "LayoutModel",
          "model_module_version": "1.2.0",
          "state": {
            "_model_module": "@jupyter-widgets/base",
            "_model_module_version": "1.2.0",
            "_model_name": "LayoutModel",
            "_view_count": null,
            "_view_module": "@jupyter-widgets/base",
            "_view_module_version": "1.2.0",
            "_view_name": "LayoutView",
            "align_content": null,
            "align_items": null,
            "align_self": null,
            "border": null,
            "bottom": null,
            "display": null,
            "flex": null,
            "flex_flow": null,
            "grid_area": null,
            "grid_auto_columns": null,
            "grid_auto_flow": null,
            "grid_auto_rows": null,
            "grid_column": null,
            "grid_gap": null,
            "grid_row": null,
            "grid_template_areas": null,
            "grid_template_columns": null,
            "grid_template_rows": null,
            "height": null,
            "justify_content": null,
            "justify_items": null,
            "left": null,
            "margin": null,
            "max_height": null,
            "max_width": null,
            "min_height": null,
            "min_width": null,
            "object_fit": null,
            "object_position": null,
            "order": null,
            "overflow": null,
            "overflow_x": null,
            "overflow_y": null,
            "padding": null,
            "right": null,
            "top": null,
            "visibility": null,
            "width": null
          }
        },
        "e486c621c5954824bb4d137e14d086f8": {
          "model_module": "@jupyter-widgets/controls",
          "model_name": "DescriptionStyleModel",
          "model_module_version": "1.5.0",
          "state": {
            "_model_module": "@jupyter-widgets/controls",
            "_model_module_version": "1.5.0",
            "_model_name": "DescriptionStyleModel",
            "_view_count": null,
            "_view_module": "@jupyter-widgets/base",
            "_view_module_version": "1.2.0",
            "_view_name": "StyleView",
            "description_width": ""
          }
        },
        "563a4788151b4d86b62613751374af71": {
          "model_module": "@jupyter-widgets/controls",
          "model_name": "HBoxModel",
          "model_module_version": "1.5.0",
          "state": {
            "_dom_classes": [],
            "_model_module": "@jupyter-widgets/controls",
            "_model_module_version": "1.5.0",
            "_model_name": "HBoxModel",
            "_view_count": null,
            "_view_module": "@jupyter-widgets/controls",
            "_view_module_version": "1.5.0",
            "_view_name": "HBoxView",
            "box_style": "",
            "children": [
              "IPY_MODEL_f8f55d45781b418e9b23e0fe1b0037b0",
              "IPY_MODEL_0e580148f4e44d6690556e9b68931cef",
              "IPY_MODEL_a81bcc08547d463da0eaef242e46d807"
            ],
            "layout": "IPY_MODEL_b3a3a0c1660946c3aab48f7560dcd98b"
          }
        },
        "f8f55d45781b418e9b23e0fe1b0037b0": {
          "model_module": "@jupyter-widgets/controls",
          "model_name": "HTMLModel",
          "model_module_version": "1.5.0",
          "state": {
            "_dom_classes": [],
            "_model_module": "@jupyter-widgets/controls",
            "_model_module_version": "1.5.0",
            "_model_name": "HTMLModel",
            "_view_count": null,
            "_view_module": "@jupyter-widgets/controls",
            "_view_module_version": "1.5.0",
            "_view_name": "HTMLView",
            "description": "",
            "description_tooltip": null,
            "layout": "IPY_MODEL_347979adcbb448fab41dd789a8236c4c",
            "placeholder": "​",
            "style": "IPY_MODEL_14112c9818c74fc8b1c8aab105300846",
            "value": "100%"
          }
        },
        "0e580148f4e44d6690556e9b68931cef": {
          "model_module": "@jupyter-widgets/controls",
          "model_name": "FloatProgressModel",
          "model_module_version": "1.5.0",
          "state": {
            "_dom_classes": [],
            "_model_module": "@jupyter-widgets/controls",
            "_model_module_version": "1.5.0",
            "_model_name": "FloatProgressModel",
            "_view_count": null,
            "_view_module": "@jupyter-widgets/controls",
            "_view_module_version": "1.5.0",
            "_view_name": "ProgressView",
            "bar_style": "success",
            "description": "",
            "description_tooltip": null,
            "layout": "IPY_MODEL_81408eea7faf40d0aaf5dcc39e3630aa",
            "max": 10,
            "min": 0,
            "orientation": "horizontal",
            "style": "IPY_MODEL_9990a44d218949eaaef595140d88b697",
            "value": 10
          }
        },
        "a81bcc08547d463da0eaef242e46d807": {
          "model_module": "@jupyter-widgets/controls",
          "model_name": "HTMLModel",
          "model_module_version": "1.5.0",
          "state": {
            "_dom_classes": [],
            "_model_module": "@jupyter-widgets/controls",
            "_model_module_version": "1.5.0",
            "_model_name": "HTMLModel",
            "_view_count": null,
            "_view_module": "@jupyter-widgets/controls",
            "_view_module_version": "1.5.0",
            "_view_name": "HTMLView",
            "description": "",
            "description_tooltip": null,
            "layout": "IPY_MODEL_cf01f732bcfb428ead671347c62a3e21",
            "placeholder": "​",
            "style": "IPY_MODEL_ee4bc30ec48f431082ba12e266f3d5f3",
            "value": " 10/10 [04:17&lt;00:00, 25.68s/it]"
          }
        },
        "b3a3a0c1660946c3aab48f7560dcd98b": {
          "model_module": "@jupyter-widgets/base",
          "model_name": "LayoutModel",
          "model_module_version": "1.2.0",
          "state": {
            "_model_module": "@jupyter-widgets/base",
            "_model_module_version": "1.2.0",
            "_model_name": "LayoutModel",
            "_view_count": null,
            "_view_module": "@jupyter-widgets/base",
            "_view_module_version": "1.2.0",
            "_view_name": "LayoutView",
            "align_content": null,
            "align_items": null,
            "align_self": null,
            "border": null,
            "bottom": null,
            "display": null,
            "flex": null,
            "flex_flow": null,
            "grid_area": null,
            "grid_auto_columns": null,
            "grid_auto_flow": null,
            "grid_auto_rows": null,
            "grid_column": null,
            "grid_gap": null,
            "grid_row": null,
            "grid_template_areas": null,
            "grid_template_columns": null,
            "grid_template_rows": null,
            "height": null,
            "justify_content": null,
            "justify_items": null,
            "left": null,
            "margin": null,
            "max_height": null,
            "max_width": null,
            "min_height": null,
            "min_width": null,
            "object_fit": null,
            "object_position": null,
            "order": null,
            "overflow": null,
            "overflow_x": null,
            "overflow_y": null,
            "padding": null,
            "right": null,
            "top": null,
            "visibility": null,
            "width": null
          }
        },
        "347979adcbb448fab41dd789a8236c4c": {
          "model_module": "@jupyter-widgets/base",
          "model_name": "LayoutModel",
          "model_module_version": "1.2.0",
          "state": {
            "_model_module": "@jupyter-widgets/base",
            "_model_module_version": "1.2.0",
            "_model_name": "LayoutModel",
            "_view_count": null,
            "_view_module": "@jupyter-widgets/base",
            "_view_module_version": "1.2.0",
            "_view_name": "LayoutView",
            "align_content": null,
            "align_items": null,
            "align_self": null,
            "border": null,
            "bottom": null,
            "display": null,
            "flex": null,
            "flex_flow": null,
            "grid_area": null,
            "grid_auto_columns": null,
            "grid_auto_flow": null,
            "grid_auto_rows": null,
            "grid_column": null,
            "grid_gap": null,
            "grid_row": null,
            "grid_template_areas": null,
            "grid_template_columns": null,
            "grid_template_rows": null,
            "height": null,
            "justify_content": null,
            "justify_items": null,
            "left": null,
            "margin": null,
            "max_height": null,
            "max_width": null,
            "min_height": null,
            "min_width": null,
            "object_fit": null,
            "object_position": null,
            "order": null,
            "overflow": null,
            "overflow_x": null,
            "overflow_y": null,
            "padding": null,
            "right": null,
            "top": null,
            "visibility": null,
            "width": null
          }
        },
        "14112c9818c74fc8b1c8aab105300846": {
          "model_module": "@jupyter-widgets/controls",
          "model_name": "DescriptionStyleModel",
          "model_module_version": "1.5.0",
          "state": {
            "_model_module": "@jupyter-widgets/controls",
            "_model_module_version": "1.5.0",
            "_model_name": "DescriptionStyleModel",
            "_view_count": null,
            "_view_module": "@jupyter-widgets/base",
            "_view_module_version": "1.2.0",
            "_view_name": "StyleView",
            "description_width": ""
          }
        },
        "81408eea7faf40d0aaf5dcc39e3630aa": {
          "model_module": "@jupyter-widgets/base",
          "model_name": "LayoutModel",
          "model_module_version": "1.2.0",
          "state": {
            "_model_module": "@jupyter-widgets/base",
            "_model_module_version": "1.2.0",
            "_model_name": "LayoutModel",
            "_view_count": null,
            "_view_module": "@jupyter-widgets/base",
            "_view_module_version": "1.2.0",
            "_view_name": "LayoutView",
            "align_content": null,
            "align_items": null,
            "align_self": null,
            "border": null,
            "bottom": null,
            "display": null,
            "flex": null,
            "flex_flow": null,
            "grid_area": null,
            "grid_auto_columns": null,
            "grid_auto_flow": null,
            "grid_auto_rows": null,
            "grid_column": null,
            "grid_gap": null,
            "grid_row": null,
            "grid_template_areas": null,
            "grid_template_columns": null,
            "grid_template_rows": null,
            "height": null,
            "justify_content": null,
            "justify_items": null,
            "left": null,
            "margin": null,
            "max_height": null,
            "max_width": null,
            "min_height": null,
            "min_width": null,
            "object_fit": null,
            "object_position": null,
            "order": null,
            "overflow": null,
            "overflow_x": null,
            "overflow_y": null,
            "padding": null,
            "right": null,
            "top": null,
            "visibility": null,
            "width": null
          }
        },
        "9990a44d218949eaaef595140d88b697": {
          "model_module": "@jupyter-widgets/controls",
          "model_name": "ProgressStyleModel",
          "model_module_version": "1.5.0",
          "state": {
            "_model_module": "@jupyter-widgets/controls",
            "_model_module_version": "1.5.0",
            "_model_name": "ProgressStyleModel",
            "_view_count": null,
            "_view_module": "@jupyter-widgets/base",
            "_view_module_version": "1.2.0",
            "_view_name": "StyleView",
            "bar_color": null,
            "description_width": ""
          }
        },
        "cf01f732bcfb428ead671347c62a3e21": {
          "model_module": "@jupyter-widgets/base",
          "model_name": "LayoutModel",
          "model_module_version": "1.2.0",
          "state": {
            "_model_module": "@jupyter-widgets/base",
            "_model_module_version": "1.2.0",
            "_model_name": "LayoutModel",
            "_view_count": null,
            "_view_module": "@jupyter-widgets/base",
            "_view_module_version": "1.2.0",
            "_view_name": "LayoutView",
            "align_content": null,
            "align_items": null,
            "align_self": null,
            "border": null,
            "bottom": null,
            "display": null,
            "flex": null,
            "flex_flow": null,
            "grid_area": null,
            "grid_auto_columns": null,
            "grid_auto_flow": null,
            "grid_auto_rows": null,
            "grid_column": null,
            "grid_gap": null,
            "grid_row": null,
            "grid_template_areas": null,
            "grid_template_columns": null,
            "grid_template_rows": null,
            "height": null,
            "justify_content": null,
            "justify_items": null,
            "left": null,
            "margin": null,
            "max_height": null,
            "max_width": null,
            "min_height": null,
            "min_width": null,
            "object_fit": null,
            "object_position": null,
            "order": null,
            "overflow": null,
            "overflow_x": null,
            "overflow_y": null,
            "padding": null,
            "right": null,
            "top": null,
            "visibility": null,
            "width": null
          }
        },
        "ee4bc30ec48f431082ba12e266f3d5f3": {
          "model_module": "@jupyter-widgets/controls",
          "model_name": "DescriptionStyleModel",
          "model_module_version": "1.5.0",
          "state": {
            "_model_module": "@jupyter-widgets/controls",
            "_model_module_version": "1.5.0",
            "_model_name": "DescriptionStyleModel",
            "_view_count": null,
            "_view_module": "@jupyter-widgets/base",
            "_view_module_version": "1.2.0",
            "_view_name": "StyleView",
            "description_width": ""
          }
        }
      }
    }
  },
  "cells": [
    {
      "cell_type": "markdown",
      "source": [
        "# 08. PyTorch Experiment Tracking Exercises\n",
        "\n",
        "Welcome to the 08. PyTorch Paper Replicating exercises.\n",
        "\n",
        "Your objective is to write code to satisify each of the exercises below.\n",
        "\n",
        "Some starter code has been provided to make sure you have all the resources you need.\n",
        "\n",
        "> **Note:** There may be more than one solution to each of the exercises.\n",
        "\n",
        "## Resources\n",
        "\n",
        "1. These exercises/solutions are based on [section 08. PyTorch Paper Replicating](https://www.learnpytorch.io/08_pytorch_paper_replicating/) of the Learn PyTorch for Deep Learning course by Zero to Mastery.\n",
        "2. See a live [walkthrough of the solutions (errors and all) on YouTube](https://youtu.be/tjpW_BY8y3g) (but try the exercises yourself first!).\n",
        "3. See [all solutions on the course GitHub](https://github.com/mrdbourke/pytorch-deep-learning/tree/main/extras/solutions).\n",
        "\n",
        "> **Note:** The first section of this notebook is dedicated to getting various helper functions and datasets used for the exercises. The exercises start at the heading \"Exercise 1: ...\"."
      ],
      "metadata": {
        "id": "zNqPNlYylluR"
      }
    },
    {
      "cell_type": "markdown",
      "source": [
        "### Get various imports and helper functions\n",
        "\n",
        "The code in the following cells prepares imports and data for the exercises below. They are taken from [08. PyTorch Paper Replicating](https://www.learnpytorch.io/08_pytorch_paper_replicating/)."
      ],
      "metadata": {
        "id": "sf8ab9cyHTzU"
      }
    },
    {
      "cell_type": "code",
      "source": [
        "# For this notebook to run with updated APIs, we need torch 1.12+ and torchvision 0.13+\n",
        "try:\n",
        "    import torch\n",
        "    import torchvision\n",
        "    assert int(torch.__version__.split(\".\")[1]) >= 12, \"torch version should be 1.12+\"\n",
        "    assert int(torchvision.__version__.split(\".\")[1]) >= 13, \"torchvision version should be 0.13+\"\n",
        "    print(f\"torch version: {torch.__version__}\")\n",
        "    print(f\"torchvision version: {torchvision.__version__}\")\n",
        "except:\n",
        "    print(f\"[INFO] torch/torchvision versions not as required, installing nightly versions.\")\n",
        "    !pip3 install -U --pre torch torchvision torchaudio --extra-index-url https://download.pytorch.org/whl/nightly/cu113\n",
        "    import torch\n",
        "    import torchvision\n",
        "    print(f\"torch version: {torch.__version__}\")\n",
        "    print(f\"torchvision version: {torchvision.__version__}\")\n"
      ],
      "metadata": {
        "colab": {
          "base_uri": "https://localhost:8080/"
        },
        "id": "ChRaHUSJ8DYZ",
        "outputId": "a83eac96-1cc7-4a16-8f9b-b2ed636fc0b7"
      },
      "execution_count": 2,
      "outputs": [
        {
          "output_type": "stream",
          "name": "stdout",
          "text": [
            "[INFO] torch/torchvision versions not as required, installing nightly versions.\n",
            "Looking in indexes: https://pypi.org/simple, https://download.pytorch.org/whl/nightly/cu113\n",
            "Requirement already satisfied: torch in /usr/local/lib/python3.10/dist-packages (2.4.1+cu121)\n",
            "Requirement already satisfied: torchvision in /usr/local/lib/python3.10/dist-packages (0.19.1+cu121)\n",
            "Requirement already satisfied: torchaudio in /usr/local/lib/python3.10/dist-packages (2.4.1+cu121)\n",
            "Requirement already satisfied: filelock in /usr/local/lib/python3.10/dist-packages (from torch) (3.16.1)\n",
            "Requirement already satisfied: typing-extensions>=4.8.0 in /usr/local/lib/python3.10/dist-packages (from torch) (4.12.2)\n",
            "Requirement already satisfied: sympy in /usr/local/lib/python3.10/dist-packages (from torch) (1.13.3)\n",
            "Requirement already satisfied: networkx in /usr/local/lib/python3.10/dist-packages (from torch) (3.3)\n",
            "Requirement already satisfied: jinja2 in /usr/local/lib/python3.10/dist-packages (from torch) (3.1.4)\n",
            "Requirement already satisfied: fsspec in /usr/local/lib/python3.10/dist-packages (from torch) (2024.6.1)\n",
            "Requirement already satisfied: numpy in /usr/local/lib/python3.10/dist-packages (from torchvision) (1.26.4)\n",
            "Requirement already satisfied: pillow!=8.3.*,>=5.3.0 in /usr/local/lib/python3.10/dist-packages (from torchvision) (10.4.0)\n",
            "Requirement already satisfied: MarkupSafe>=2.0 in /usr/local/lib/python3.10/dist-packages (from jinja2->torch) (2.1.5)\n",
            "Requirement already satisfied: mpmath<1.4,>=1.1.0 in /usr/local/lib/python3.10/dist-packages (from sympy->torch) (1.3.0)\n",
            "torch version: 2.4.1+cu121\n",
            "torchvision version: 0.19.1+cu121\n"
          ]
        }
      ]
    },
    {
      "cell_type": "code",
      "source": [
        "# Continue with regular imports\n",
        "import matplotlib.pyplot as plt\n",
        "import torch\n",
        "import torchvision\n",
        "\n",
        "from torch import nn\n",
        "from torchvision import transforms\n",
        "\n",
        "# Try to get torchinfo, install it if it doesn't work\n",
        "try:\n",
        "    from torchinfo import summary\n",
        "except:\n",
        "    print(\"[INFO] Couldn't find torchinfo... installing it.\")\n",
        "    !pip install -q torchinfo\n",
        "    from torchinfo import summary\n",
        "\n",
        "# Try to import the going_modular directory, download it from GitHub if it doesn't work\n",
        "try:\n",
        "    from going_modular.going_modular import data_setup, engine\n",
        "    from helper_functions import download_data, set_seeds, plot_loss_curves\n",
        "except:\n",
        "    # Get the going_modular scripts\n",
        "    print(\"[INFO] Couldn't find going_modular or helper_functions scripts... downloading them from GitHub.\")\n",
        "    !git clone https://github.com/mrdbourke/pytorch-deep-learning\n",
        "    !mv pytorch-deep-learning/going_modular .\n",
        "    !mv pytorch-deep-learning/helper_functions.py . # get the helper_functions.py script\n",
        "    !rm -rf pytorch-deep-learning\n",
        "    from going_modular.going_modular import data_setup, engine\n",
        "    from helper_functions import download_data, set_seeds, plot_loss_curves"
      ],
      "metadata": {
        "id": "Y5H5P8EjCNGK"
      },
      "execution_count": 3,
      "outputs": []
    },
    {
      "cell_type": "code",
      "source": [
        "device = \"cuda\" if torch.cuda.is_available() else \"cpu\"\n",
        "device"
      ],
      "metadata": {
        "colab": {
          "base_uri": "https://localhost:8080/",
          "height": 36
        },
        "id": "bE1AAH_uCjiP",
        "outputId": "76ccec68-370c-4d2d-e029-145d5c02e230"
      },
      "execution_count": 4,
      "outputs": [
        {
          "output_type": "execute_result",
          "data": {
            "text/plain": [
              "'cuda'"
            ],
            "application/vnd.google.colaboratory.intrinsic+json": {
              "type": "string"
            }
          },
          "metadata": {},
          "execution_count": 4
        }
      ]
    },
    {
      "cell_type": "markdown",
      "source": [
        "### Get data\n",
        "\n",
        "Want to download the data we've been using in PyTorch Paper Replicating: https://www.learnpytorch.io/08_pytorch_paper_replicating/#1-get-data"
      ],
      "metadata": {
        "id": "GmS5yuvxCpLp"
      }
    },
    {
      "cell_type": "code",
      "source": [
        "# Download pizza, steak, sushi images from GitHub\n",
        "image_path = download_data(source=\"https://github.com/mrdbourke/pytorch-deep-learning/raw/main/data/pizza_steak_sushi.zip\",\n",
        "                           destination=\"pizza_steak_sushi\")\n",
        "image_path"
      ],
      "metadata": {
        "colab": {
          "base_uri": "https://localhost:8080/"
        },
        "id": "dm772wqgCzN9",
        "outputId": "b3825c04-fd58-4741-db74-d24413bb80c9"
      },
      "execution_count": 5,
      "outputs": [
        {
          "output_type": "stream",
          "name": "stdout",
          "text": [
            "[INFO] data/pizza_steak_sushi directory exists, skipping download.\n"
          ]
        },
        {
          "output_type": "execute_result",
          "data": {
            "text/plain": [
              "PosixPath('data/pizza_steak_sushi')"
            ]
          },
          "metadata": {},
          "execution_count": 5
        }
      ]
    },
    {
      "cell_type": "code",
      "source": [
        "# Setup directory paths to train and test images\n",
        "train_dir = image_path / \"train\"\n",
        "test_dir = image_path / \"test\""
      ],
      "metadata": {
        "id": "r1ML2c-dCzCi"
      },
      "execution_count": 6,
      "outputs": []
    },
    {
      "cell_type": "markdown",
      "source": [
        "### Preprocess data\n",
        "\n",
        "Turn images into tensors using same code as PyTorch Paper Replicating section 2.1 and 2.2: https://www.learnpytorch.io/08_pytorch_paper_replicating/#21-prepare-transforms-for-images"
      ],
      "metadata": {
        "id": "nNBZ_2h_Cy86"
      }
    },
    {
      "cell_type": "code",
      "source": [
        "# Create image size (from Table 3 in the ViT paper)\n",
        "IMG_SIZE = 224\n",
        "\n",
        "# Create transform pipeline manually\n",
        "manual_transforms = transforms.Compose([\n",
        "    transforms.Resize((IMG_SIZE, IMG_SIZE)),\n",
        "    transforms.ToTensor(),\n",
        "])\n",
        "print(f\"Manually created transforms: {manual_transforms}\")"
      ],
      "metadata": {
        "colab": {
          "base_uri": "https://localhost:8080/"
        },
        "id": "mU0T4gP3DJdF",
        "outputId": "ad7c2666-76f2-4b1c-e955-517e5ee5563e"
      },
      "execution_count": 7,
      "outputs": [
        {
          "output_type": "stream",
          "name": "stdout",
          "text": [
            "Manually created transforms: Compose(\n",
            "    Resize(size=(224, 224), interpolation=bilinear, max_size=None, antialias=True)\n",
            "    ToTensor()\n",
            ")\n"
          ]
        }
      ]
    },
    {
      "cell_type": "code",
      "source": [
        "# Set the batch size\n",
        "BATCH_SIZE = 32 # this is lower than the ViT paper but it's because we're starting small\n",
        "\n",
        "# Create data loaders\n",
        "train_dataloader, test_dataloader, class_names = data_setup.create_dataloaders(\n",
        "    train_dir=train_dir,\n",
        "    test_dir=test_dir,\n",
        "    transform=manual_transforms, # use manually created transforms\n",
        "    batch_size=BATCH_SIZE\n",
        ")\n",
        "\n",
        "train_dataloader, test_dataloader, class_names"
      ],
      "metadata": {
        "colab": {
          "base_uri": "https://localhost:8080/"
        },
        "id": "W4vWgIprDJau",
        "outputId": "5b082198-9118-4597-f2cc-44c45099583f"
      },
      "execution_count": 8,
      "outputs": [
        {
          "output_type": "execute_result",
          "data": {
            "text/plain": [
              "(<torch.utils.data.dataloader.DataLoader at 0x797ab6b28820>,\n",
              " <torch.utils.data.dataloader.DataLoader at 0x797ab6b29690>,\n",
              " ['pizza', 'steak', 'sushi'])"
            ]
          },
          "metadata": {},
          "execution_count": 8
        }
      ]
    },
    {
      "cell_type": "code",
      "source": [
        "# Get a batch of images\n",
        "image_batch, label_batch = next(iter(train_dataloader))\n",
        "\n",
        "# Get a single image from the batch\n",
        "image, label = image_batch[0], label_batch[0]\n",
        "\n",
        "# View the batch shapes\n",
        "image.shape, label"
      ],
      "metadata": {
        "colab": {
          "base_uri": "https://localhost:8080/"
        },
        "id": "u7eLIFHyDJRr",
        "outputId": "4703ea43-e245-44a3-fdc8-be043089be78"
      },
      "execution_count": 9,
      "outputs": [
        {
          "output_type": "execute_result",
          "data": {
            "text/plain": [
              "(torch.Size([3, 224, 224]), tensor(0))"
            ]
          },
          "metadata": {},
          "execution_count": 9
        }
      ]
    },
    {
      "cell_type": "code",
      "source": [
        "# Plot image with matplotlib\n",
        "plt.imshow(image.permute(1, 2, 0)) # rearrange image dimensions to suit matplotlib [color_channels, height, width] -> [height, width, color_channels]\n",
        "plt.title(class_names[label])\n",
        "plt.axis(False);"
      ],
      "metadata": {
        "colab": {
          "base_uri": "https://localhost:8080/",
          "height": 428
        },
        "id": "2yyNHCmCDbSR",
        "outputId": "2216e57b-c0df-4226-ae04-2728caf37c1f"
      },
      "execution_count": 10,
      "outputs": [
        {
          "output_type": "display_data",
          "data": {
            "text/plain": [
              "<Figure size 640x480 with 1 Axes>"
            ],
            "image/png": "[encoded data removed]"
          },
          "metadata": {}
        }
      ]
    },
    {
      "cell_type": "markdown",
      "source": [
        "## 1. Replicate the ViT architecture we created with in-built [PyTorch transformer layers](https://pytorch.org/docs/stable/nn.html#transformer-layers).\n",
        "\n",
        "* You'll want to look into replacing our `TransformerEncoderBlock()` class with [`torch.nn.TransformerEncoderLayer()`](https://pytorch.org/docs/stable/generated/torch.nn.TransformerEncoderLayer.html#torch.nn.TransformerEncoderLayer) (these contain the same layers as our custom blocks).\n",
        "* You can stack `torch.nn.TransformerEncoderLayer()`'s on top of each other with [`torch.nn.TransformerEncoder()`](https://pytorch.org/docs/stable/generated/torch.nn.TransformerEncoder.html#torch.nn.TransformerEncoder)."
      ],
      "metadata": {
        "id": "nwmoMhW8IqSu"
      }
    },
    {
      "cell_type": "code",
      "source": [
        "# TODO: your code\n",
        "tensor = torch.randn(1, 3, 224, 224)\n",
        "tensor.shape"
      ],
      "metadata": {
        "colab": {
          "base_uri": "https://localhost:8080/"
        },
        "id": "12iLh1CUC2JH",
        "outputId": "49519884-2023-46a5-e6f1-9277ad7197c7"
      },
      "execution_count": 11,
      "outputs": [
        {
          "output_type": "execute_result",
          "data": {
            "text/plain": [
              "torch.Size([1, 3, 224, 224])"
            ]
          },
          "metadata": {},
          "execution_count": 11
        }
      ]
    },
    {
      "cell_type": "code",
      "source": [
        "conv = nn.Conv2d(3, 768, 16, stride=16)\n",
        "ten = conv(tensor)\n",
        "cls = torch.randn(1, 1, 768)\n",
        "prjt = torch.flatten(ten, start_dim=2).permute(0, 2, 1)\n",
        "torch.cat((cls, prjt), dim=1).shape"
      ],
      "metadata": {
        "colab": {
          "base_uri": "https://localhost:8080/"
        },
        "id": "Yv3uyN0GDkkY",
        "outputId": "1414ad66-f1ae-4bf9-c155-b2e93ac9dc53"
      },
      "execution_count": 12,
      "outputs": [
        {
          "output_type": "execute_result",
          "data": {
            "text/plain": [
              "torch.Size([1, 197, 768])"
            ]
          },
          "metadata": {},
          "execution_count": 12
        }
      ]
    },
    {
      "cell_type": "code",
      "source": [
        "class PatchEmbedding(nn.Module):\n",
        "    def __init__(self, input_dim, embedding_dim, patch_size):\n",
        "        super().__init__()\n",
        "        self.linear_projection = nn.Conv2d(input_dim, embedding_dim, patch_size, stride=patch_size)\n",
        "\n",
        "    def forward(self, x):\n",
        "        return torch.flatten(self.linear_projection(x), start_dim=2).permute(0, 2, 1)\n",
        "\n",
        "class EmbeddingBlock(nn.Module):\n",
        "    def __init__(self, img_size, input_dim, embedding_dim, patch_size):\n",
        "        assert img_size % patch_size == 0, f\"Image size ({img_size}) must be divisible by patch size ({patch_size})\"\n",
        "        super().__init__()\n",
        "\n",
        "        self.patch_emb = PatchEmbedding(input_dim, embedding_dim, patch_size)\n",
        "        self.class_emb = nn.Parameter(torch.randn(1, 1, embedding_dim))\n",
        "        self.pos_emb = nn.Parameter(torch.randn(img_size**2 // patch_size**2 + 1, embedding_dim))\n",
        "\n",
        "    def forward(self, x):\n",
        "        x = self.patch_emb(x)\n",
        "\n",
        "        batch_size = x.shape[0]\n",
        "        x = torch.cat((self.class_emb.expand(batch_size, -1, -1), x), dim=1)\n",
        "        return x + self.pos_emb"
      ],
      "metadata": {
        "id": "kSIYyOv5Fk0q"
      },
      "execution_count": 13,
      "outputs": []
    },
    {
      "cell_type": "code",
      "source": [
        "b = EmbeddingBlock(224, 3, 768, 16)\n",
        "b(tensor).shape"
      ],
      "metadata": {
        "colab": {
          "base_uri": "https://localhost:8080/"
        },
        "id": "1ID9Cm3WLZOX",
        "outputId": "5705022b-4f45-4ccb-ce6e-49c5d735710b"
      },
      "execution_count": 14,
      "outputs": [
        {
          "output_type": "execute_result",
          "data": {
            "text/plain": [
              "torch.Size([1, 197, 768])"
            ]
          },
          "metadata": {},
          "execution_count": 14
        }
      ]
    },
    {
      "cell_type": "code",
      "source": [
        "class ViT(nn.Module):\n",
        "    def __init__(self,\n",
        "                 img_size=224,\n",
        "                 input_dim=3,\n",
        "                 embedding_dim=768,\n",
        "                 patch_size=16,\n",
        "                 num_transformer_layers=12,\n",
        "                 mlp_size=3072,\n",
        "                 num_attn_heads=12,\n",
        "                 mlp_dropout=0.1,\n",
        "                 embedding_dropout=0.1,\n",
        "                 num_classes=3):\n",
        "\n",
        "        super().__init__()\n",
        "        self.embedding_block = EmbeddingBlock(img_size, input_dim, embedding_dim, patch_size)\n",
        "\n",
        "        transformer_layer = nn.TransformerEncoderLayer(d_model=embedding_dim,\n",
        "                                                       nhead=num_attn_heads,\n",
        "                                                       dim_feedforward=mlp_size,\n",
        "                                                       dropout=mlp_dropout,\n",
        "                                                       activation=\"gelu\",\n",
        "                                                       batch_first=True,\n",
        "                                                       norm_first=True)\n",
        "\n",
        "        self.encoder = nn.TransformerEncoder(transformer_layer, num_layers=num_transformer_layers)\n",
        "        self.classifier = nn.Sequential(nn.LayerNorm(embedding_dim),\n",
        "                                        nn.Linear(embedding_dim, num_classes))\n",
        "\n",
        "    def forward(self, x):\n",
        "        x = self.encoder(self.embedding_block(x))\n",
        "        return self.classifier(x[:, 0])"
      ],
      "metadata": {
        "id": "pmDd_YZ7VSrL"
      },
      "execution_count": 15,
      "outputs": []
    },
    {
      "cell_type": "code",
      "source": [
        "vit = ViT()"
      ],
      "metadata": {
        "colab": {
          "base_uri": "https://localhost:8080/"
        },
        "id": "HoIsOiiLbfdR",
        "outputId": "f700159b-41a9-4a05-876f-75bdccba14b3"
      },
      "execution_count": 15,
      "outputs": [
        {
          "output_type": "stream",
          "name": "stderr",
          "text": [
            "/usr/local/lib/python3.10/dist-packages/torch/nn/modules/transformer.py:307: UserWarning: enable_nested_tensor is True, but self.use_nested_tensor is False because encoder_layer.norm_first was True\n",
            "  warnings.warn(f\"enable_nested_tensor is True, but self.use_nested_tensor is False because {why_not_sparsity_fast_path}\")\n"
          ]
        }
      ]
    },
    {
      "cell_type": "code",
      "source": [
        "summary(model=vit,\n",
        "        input_size=(32, 3, 224, 224), # (batch_size, color_channels, height, width)\n",
        "        # col_names=[\"input_size\"], # uncomment for smaller output\n",
        "        col_names=[\"input_size\", \"output_size\", \"num_params\", \"trainable\"],\n",
        "        col_width=20,\n",
        "        row_settings=[\"var_names\"]\n",
        ")"
      ],
      "metadata": {
        "colab": {
          "base_uri": "https://localhost:8080/"
        },
        "id": "4D_pDRWxbZyG",
        "outputId": "776a34c9-54f0-4695-8d35-ef271eafb6c4"
      },
      "execution_count": null,
      "outputs": [
        {
          "output_type": "execute_result",
          "data": {
            "text/plain": [
              "=============================================================================================================================\n",
              "Layer (type (var_name))                       Input Shape          Output Shape         Param #              Trainable\n",
              "=============================================================================================================================\n",
              "ViT (ViT)                                     [32, 3, 224, 224]    [32, 3]              --                   True\n",
              "├─EmbeddingBlock (embedding_block)            [32, 3, 224, 224]    [32, 197, 768]       152,064              True\n",
              "│    └─PatchEmbedding (patch_emb)             [32, 3, 224, 224]    [32, 196, 768]       --                   True\n",
              "│    │    └─Conv2d (linear_projection)        [32, 3, 224, 224]    [32, 768, 14, 14]    590,592              True\n",
              "├─TransformerEncoder (encoder)                [32, 197, 768]       [32, 197, 768]       --                   True\n",
              "│    └─ModuleList (layers)                    --                   --                   --                   True\n",
              "│    │    └─TransformerEncoderLayer (0)       [32, 197, 768]       [32, 197, 768]       7,087,872            True\n",
              "│    │    └─TransformerEncoderLayer (1)       [32, 197, 768]       [32, 197, 768]       7,087,872            True\n",
              "│    │    └─TransformerEncoderLayer (2)       [32, 197, 768]       [32, 197, 768]       7,087,872            True\n",
              "│    │    └─TransformerEncoderLayer (3)       [32, 197, 768]       [32, 197, 768]       7,087,872            True\n",
              "│    │    └─TransformerEncoderLayer (4)       [32, 197, 768]       [32, 197, 768]       7,087,872            True\n",
              "│    │    └─TransformerEncoderLayer (5)       [32, 197, 768]       [32, 197, 768]       7,087,872            True\n",
              "│    │    └─TransformerEncoderLayer (6)       [32, 197, 768]       [32, 197, 768]       7,087,872            True\n",
              "│    │    └─TransformerEncoderLayer (7)       [32, 197, 768]       [32, 197, 768]       7,087,872            True\n",
              "│    │    └─TransformerEncoderLayer (8)       [32, 197, 768]       [32, 197, 768]       7,087,872            True\n",
              "│    │    └─TransformerEncoderLayer (9)       [32, 197, 768]       [32, 197, 768]       7,087,872            True\n",
              "│    │    └─TransformerEncoderLayer (10)      [32, 197, 768]       [32, 197, 768]       7,087,872            True\n",
              "│    │    └─TransformerEncoderLayer (11)      [32, 197, 768]       [32, 197, 768]       7,087,872            True\n",
              "├─Sequential (classifier)                     [32, 768]            [32, 3]              --                   True\n",
              "│    └─LayerNorm (0)                          [32, 768]            [32, 768]            1,536                True\n",
              "│    └─Linear (1)                             [32, 768]            [32, 3]              2,307                True\n",
              "=============================================================================================================================\n",
              "Total params: 85,800,963\n",
              "Trainable params: 85,800,963\n",
              "Non-trainable params: 0\n",
              "Total mult-adds (G): 3.70\n",
              "=============================================================================================================================\n",
              "Input size (MB): 19.27\n",
              "Forward/backward pass size (MB): 38.73\n",
              "Params size (MB): 2.38\n",
              "Estimated Total Size (MB): 60.38\n",
              "============================================================================================================================="
            ]
          },
          "metadata": {},
          "execution_count": 17
        }
      ]
    },
    {
      "cell_type": "markdown",
      "source": [
        "Let's test if it trains"
      ],
      "metadata": {
        "id": "4MRrxbxAclzF"
      }
    },
    {
      "cell_type": "code",
      "source": [
        "from going_modular.going_modular import engine\n",
        "\n",
        "# Setup the optimizer to optimize our ViT model parameters using hyperparameters from the ViT paper\n",
        "optimizer = torch.optim.Adam(params=vit.parameters(),\n",
        "                             lr=3e-3, # Base LR from Table 3 for ViT-* ImageNet-1k\n",
        "                             betas=(0.9, 0.999), # default values but also mentioned in ViT paper section 4.1 (Training & Fine-tuning)\n",
        "                             weight_decay=0.3) # from the ViT paper section 4.1 (Training & Fine-tuning) and Table 3 for ViT-* ImageNet-1k\n",
        "\n",
        "# Setup the loss function for multi-class classification\n",
        "loss_fn = torch.nn.CrossEntropyLoss()\n",
        "\n",
        "# Set the seeds\n",
        "set_seeds()\n",
        "\n",
        "# Train the model and save the training results to a dictionary\n",
        "results = engine.train(model=vit,\n",
        "                       train_dataloader=train_dataloader,\n",
        "                       test_dataloader=test_dataloader,\n",
        "                       optimizer=optimizer,\n",
        "                       loss_fn=loss_fn,\n",
        "                       epochs=10,\n",
        "                       device=device)"
      ],
      "metadata": {
        "colab": {
          "base_uri": "https://localhost:8080/",
          "height": 223,
          "referenced_widgets": [
            "a51c73288a214012b4c0f0af852adc66",
            "09509ed1a56f498983482a1dae3067fb",
            "99085431d9c84ec18caee93752f511a0",
            "007406d9282242938b01262a3cdcef5a",
            "e6c35e9fbf9d4dd9b4df358b62ccf618",
            "a67aeea6d4424f11a09f0061fed763b6",
            "843e5a4647c44be89645b5bf450c5a68",
            "0cebfea8a4ac431cbe2acb523d5d4cc7",
            "3a21a82d8fc846e981395ba146c46a3a",
            "e1eacb79f21e4896892c310b7dfdf8b7",
            "cecb3846a0c44b29963c136640aa8bbb"
          ]
        },
        "id": "tWpg4_v8cjy4",
        "outputId": "810bdd95-e243-4df8-b787-790e7a7d9c0c"
      },
      "execution_count": null,
      "outputs": [
        {
          "output_type": "display_data",
          "data": {
            "text/plain": [
              "  0%|          | 0/10 [00:00<?, ?it/s]"
            ],
            "application/vnd.jupyter.widget-view+json": {
              "version_major": 2,
              "version_minor": 0,
              "model_id": "a51c73288a214012b4c0f0af852adc66"
            }
          },
          "metadata": {}
        },
        {
          "output_type": "stream",
          "name": "stdout",
          "text": [
            "Epoch: 1 | train_loss: 2.9243 | train_acc: 0.3555 | test_loss: 4.9811 | test_acc: 0.2604\n",
            "Epoch: 2 | train_loss: 2.5164 | train_acc: 0.2891 | test_loss: 2.2444 | test_acc: 0.2604\n",
            "Epoch: 3 | train_loss: 1.4230 | train_acc: 0.4609 | test_loss: 1.4803 | test_acc: 0.2604\n",
            "Epoch: 4 | train_loss: 1.2223 | train_acc: 0.2930 | test_loss: 1.3715 | test_acc: 0.1979\n",
            "Epoch: 5 | train_loss: 1.1656 | train_acc: 0.2930 | test_loss: 1.2311 | test_acc: 0.2604\n",
            "Epoch: 6 | train_loss: 1.1739 | train_acc: 0.2891 | test_loss: 1.2669 | test_acc: 0.1979\n",
            "Epoch: 7 | train_loss: 1.2633 | train_acc: 0.2734 | test_loss: 1.2283 | test_acc: 0.1979\n",
            "Epoch: 8 | train_loss: 1.1218 | train_acc: 0.2812 | test_loss: 1.1823 | test_acc: 0.2604\n",
            "Epoch: 9 | train_loss: 1.1465 | train_acc: 0.4297 | test_loss: 1.0158 | test_acc: 0.5417\n",
            "Epoch: 10 | train_loss: 1.2778 | train_acc: 0.2617 | test_loss: 1.4462 | test_acc: 0.2604\n"
          ]
        }
      ]
    },
    {
      "cell_type": "markdown",
      "source": [
        "It works!"
      ],
      "metadata": {
        "id": "TZSL0HwLdfeA"
      }
    },
    {
      "cell_type": "markdown",
      "source": [
        "## 2. Turn the custom ViT architecture we created into a Python script, for example, `vit.py`.\n",
        "\n",
        "* You should be able to import an entire ViT model using something like`from vit import ViT`.\n",
        "* We covered the art of turning code cells into Python scrips in [05. PyTorch Going Modular](https://www.learnpytorch.io/05_pytorch_going_modular/).\n"
      ],
      "metadata": {
        "id": "MBWnDZao9w_5"
      }
    },
    {
      "cell_type": "code",
      "source": [
        "# TODO: your code\n",
        "from vit import ViTScript\n",
        "vit = ViTScript()\n",
        "\n",
        "summary(model=vit,\n",
        "        input_size=(32, 3, 224, 224), # (batch_size, color_channels, height, width)\n",
        "        # col_names=[\"input_size\"], # uncomment for smaller output\n",
        "        col_names=[\"input_size\", \"output_size\", \"num_params\", \"trainable\"],\n",
        "        col_width=20,\n",
        "        row_settings=[\"var_names\"]\n",
        ")"
      ],
      "metadata": {
        "id": "NFXVZNCzVYgV",
        "colab": {
          "base_uri": "https://localhost:8080/"
        },
        "outputId": "42e48dc9-6430-4272-b753-64453e6b1752"
      },
      "execution_count": 16,
      "outputs": [
        {
          "output_type": "stream",
          "name": "stderr",
          "text": [
            "/usr/local/lib/python3.10/dist-packages/torch/nn/modules/transformer.py:307: UserWarning: enable_nested_tensor is True, but self.use_nested_tensor is False because encoder_layer.norm_first was True\n",
            "  warnings.warn(f\"enable_nested_tensor is True, but self.use_nested_tensor is False because {why_not_sparsity_fast_path}\")\n"
          ]
        },
        {
          "output_type": "execute_result",
          "data": {
            "text/plain": [
              "=============================================================================================================================\n",
              "Layer (type (var_name))                       Input Shape          Output Shape         Param #              Trainable\n",
              "=============================================================================================================================\n",
              "ViTScript (ViTScript)                         [32, 3, 224, 224]    [32, 3]              --                   True\n",
              "├─EmbeddingBlock (embedding_block)            [32, 3, 224, 224]    [32, 197, 768]       152,064              True\n",
              "│    └─PatchEmbedding (patch_emb)             [32, 3, 224, 224]    [32, 196, 768]       --                   True\n",
              "│    │    └─Conv2d (linear_projection)        [32, 3, 224, 224]    [32, 768, 14, 14]    590,592              True\n",
              "├─TransformerEncoder (encoder)                [32, 197, 768]       [32, 197, 768]       --                   True\n",
              "│    └─ModuleList (layers)                    --                   --                   --                   True\n",
              "│    │    └─TransformerEncoderLayer (0)       [32, 197, 768]       [32, 197, 768]       7,087,872            True\n",
              "│    │    └─TransformerEncoderLayer (1)       [32, 197, 768]       [32, 197, 768]       7,087,872            True\n",
              "│    │    └─TransformerEncoderLayer (2)       [32, 197, 768]       [32, 197, 768]       7,087,872            True\n",
              "│    │    └─TransformerEncoderLayer (3)       [32, 197, 768]       [32, 197, 768]       7,087,872            True\n",
              "│    │    └─TransformerEncoderLayer (4)       [32, 197, 768]       [32, 197, 768]       7,087,872            True\n",
              "│    │    └─TransformerEncoderLayer (5)       [32, 197, 768]       [32, 197, 768]       7,087,872            True\n",
              "│    │    └─TransformerEncoderLayer (6)       [32, 197, 768]       [32, 197, 768]       7,087,872            True\n",
              "│    │    └─TransformerEncoderLayer (7)       [32, 197, 768]       [32, 197, 768]       7,087,872            True\n",
              "│    │    └─TransformerEncoderLayer (8)       [32, 197, 768]       [32, 197, 768]       7,087,872            True\n",
              "│    │    └─TransformerEncoderLayer (9)       [32, 197, 768]       [32, 197, 768]       7,087,872            True\n",
              "│    │    └─TransformerEncoderLayer (10)      [32, 197, 768]       [32, 197, 768]       7,087,872            True\n",
              "│    │    └─TransformerEncoderLayer (11)      [32, 197, 768]       [32, 197, 768]       7,087,872            True\n",
              "├─Sequential (classifier)                     [32, 768]            [32, 3]              --                   True\n",
              "│    └─LayerNorm (0)                          [32, 768]            [32, 768]            1,536                True\n",
              "│    └─Linear (1)                             [32, 768]            [32, 3]              2,307                True\n",
              "=============================================================================================================================\n",
              "Total params: 85,800,963\n",
              "Trainable params: 85,800,963\n",
              "Non-trainable params: 0\n",
              "Total mult-adds (G): 3.70\n",
              "=============================================================================================================================\n",
              "Input size (MB): 19.27\n",
              "Forward/backward pass size (MB): 38.73\n",
              "Params size (MB): 2.38\n",
              "Estimated Total Size (MB): 60.38\n",
              "============================================================================================================================="
            ]
          },
          "metadata": {},
          "execution_count": 16
        }
      ]
    },
    {
      "cell_type": "markdown",
      "source": [
        "## 3. Train a pretrained ViT feature extractor model (like the one we made in [08. PyTorch Paper Replicating section 10](https://www.learnpytorch.io/08_pytorch_paper_replicating/#10-bring-in-pretrained-vit-from-torchvisionmodels-on-same-dataset)) on 20% of the pizza, steak and sushi data like the dataset we used in [07. PyTorch Experiment Tracking section 7.3](https://www.learnpytorch.io/07_pytorch_experiment_tracking/#73-download-different-datasets)\n",
        "* See how it performs compared to the EffNetB2 model we compared it to in [08. PyTorch Paper Replicating section 10.6](https://www.learnpytorch.io/08_pytorch_paper_replicating/#106-save-feature-extractor-vit-model-and-check-file-size)."
      ],
      "metadata": {
        "id": "aTKbje-e9118"
      }
    },
    {
      "cell_type": "code",
      "source": [
        "# TODO: your code\n",
        "image_path = download_data(source=\"https://github.com/mrdbourke/pytorch-deep-learning/raw/main/data/pizza_steak_sushi_20_percent.zip\",\n",
        "                           destination=\"pizza_steak_sushi_20\")\n",
        "image_path"
      ],
      "metadata": {
        "id": "R7iKYRAUVkA7",
        "colab": {
          "base_uri": "https://localhost:8080/"
        },
        "outputId": "bdbbd0a6-ab43-4a60-c12d-cfa69db9bbab"
      },
      "execution_count": 17,
      "outputs": [
        {
          "output_type": "stream",
          "name": "stdout",
          "text": [
            "[INFO] Did not find data/pizza_steak_sushi_20 directory, creating one...\n",
            "[INFO] Downloading pizza_steak_sushi_20_percent.zip from https://github.com/mrdbourke/pytorch-deep-learning/raw/main/data/pizza_steak_sushi_20_percent.zip...\n",
            "[INFO] Unzipping pizza_steak_sushi_20_percent.zip data...\n"
          ]
        },
        {
          "output_type": "execute_result",
          "data": {
            "text/plain": [
              "PosixPath('data/pizza_steak_sushi_20')"
            ]
          },
          "metadata": {},
          "execution_count": 17
        }
      ]
    },
    {
      "cell_type": "code",
      "source": [
        "weights = torchvision.models.ViT_B_16_Weights.DEFAULT\n",
        "weights.transforms()"
      ],
      "metadata": {
        "colab": {
          "base_uri": "https://localhost:8080/"
        },
        "id": "A6ikKI1Ral4M",
        "outputId": "92e7f9c3-68ff-4186-9b3d-eab4af60f4b4"
      },
      "execution_count": 44,
      "outputs": [
        {
          "output_type": "execute_result",
          "data": {
            "text/plain": [
              "ImageClassification(\n",
              "    crop_size=[224]\n",
              "    resize_size=[256]\n",
              "    mean=[0.485, 0.456, 0.406]\n",
              "    std=[0.229, 0.224, 0.225]\n",
              "    interpolation=InterpolationMode.BILINEAR\n",
              ")"
            ]
          },
          "metadata": {},
          "execution_count": 44
        }
      ]
    },
    {
      "cell_type": "code",
      "source": [
        "pretrained_vit = torchvision.models.vit_b_16(weights=weights)"
      ],
      "metadata": {
        "id": "_G_m4LaxbPrA"
      },
      "execution_count": 45,
      "outputs": []
    },
    {
      "cell_type": "code",
      "source": [
        "for parameter in pretrained_vit.parameters():\n",
        "    parameter.requires_grad = False\n",
        "\n",
        "set_seeds()\n",
        "pretrained_vit.heads = nn.Linear(in_features=768, out_features=len(class_names)).to(device)"
      ],
      "metadata": {
        "id": "ICq0QFTXcql4"
      },
      "execution_count": 46,
      "outputs": []
    },
    {
      "cell_type": "code",
      "source": [
        "summary(model=pretrained_vit,\n",
        "        input_size=(32, 3, 224, 224), # (batch_size, color_channels, height, width)\n",
        "        # col_names=[\"input_size\"], # uncomment for smaller output\n",
        "        col_names=[\"input_size\", \"output_size\", \"num_params\", \"trainable\"],\n",
        "        col_width=20,\n",
        "        row_settings=[\"var_names\"]\n",
        ")"
      ],
      "metadata": {
        "colab": {
          "base_uri": "https://localhost:8080/"
        },
        "id": "vOx07kUHcupX",
        "outputId": "74a26aa1-00f2-4ca7-c4bc-aadfe0f5253a"
      },
      "execution_count": 47,
      "outputs": [
        {
          "output_type": "execute_result",
          "data": {
            "text/plain": [
              "============================================================================================================================================\n",
              "Layer (type (var_name))                                      Input Shape          Output Shape         Param #              Trainable\n",
              "============================================================================================================================================\n",
              "VisionTransformer (VisionTransformer)                        [32, 3, 224, 224]    [32, 3]              768                  Partial\n",
              "├─Conv2d (conv_proj)                                         [32, 3, 224, 224]    [32, 768, 14, 14]    (590,592)            False\n",
              "├─Encoder (encoder)                                          [32, 197, 768]       [32, 197, 768]       151,296              False\n",
              "│    └─Dropout (dropout)                                     [32, 197, 768]       [32, 197, 768]       --                   --\n",
              "│    └─Sequential (layers)                                   [32, 197, 768]       [32, 197, 768]       --                   False\n",
              "│    │    └─EncoderBlock (encoder_layer_0)                   [32, 197, 768]       [32, 197, 768]       (7,087,872)          False\n",
              "│    │    └─EncoderBlock (encoder_layer_1)                   [32, 197, 768]       [32, 197, 768]       (7,087,872)          False\n",
              "│    │    └─EncoderBlock (encoder_layer_2)                   [32, 197, 768]       [32, 197, 768]       (7,087,872)          False\n",
              "│    │    └─EncoderBlock (encoder_layer_3)                   [32, 197, 768]       [32, 197, 768]       (7,087,872)          False\n",
              "│    │    └─EncoderBlock (encoder_layer_4)                   [32, 197, 768]       [32, 197, 768]       (7,087,872)          False\n",
              "│    │    └─EncoderBlock (encoder_layer_5)                   [32, 197, 768]       [32, 197, 768]       (7,087,872)          False\n",
              "│    │    └─EncoderBlock (encoder_layer_6)                   [32, 197, 768]       [32, 197, 768]       (7,087,872)          False\n",
              "│    │    └─EncoderBlock (encoder_layer_7)                   [32, 197, 768]       [32, 197, 768]       (7,087,872)          False\n",
              "│    │    └─EncoderBlock (encoder_layer_8)                   [32, 197, 768]       [32, 197, 768]       (7,087,872)          False\n",
              "│    │    └─EncoderBlock (encoder_layer_9)                   [32, 197, 768]       [32, 197, 768]       (7,087,872)          False\n",
              "│    │    └─EncoderBlock (encoder_layer_10)                  [32, 197, 768]       [32, 197, 768]       (7,087,872)          False\n",
              "│    │    └─EncoderBlock (encoder_layer_11)                  [32, 197, 768]       [32, 197, 768]       (7,087,872)          False\n",
              "│    └─LayerNorm (ln)                                        [32, 197, 768]       [32, 197, 768]       (1,536)              False\n",
              "├─Linear (heads)                                             [32, 768]            [32, 3]              2,307                True\n",
              "============================================================================================================================================\n",
              "Total params: 85,800,963\n",
              "Trainable params: 2,307\n",
              "Non-trainable params: 85,798,656\n",
              "Total mult-adds (G): 5.52\n",
              "============================================================================================================================================\n",
              "Input size (MB): 19.27\n",
              "Forward/backward pass size (MB): 3330.74\n",
              "Params size (MB): 229.20\n",
              "Estimated Total Size (MB): 3579.21\n",
              "============================================================================================================================================"
            ]
          },
          "metadata": {},
          "execution_count": 47
        }
      ]
    },
    {
      "cell_type": "code",
      "source": [
        "train_dir = image_path / \"train\"\n",
        "test_dir = image_path / \"test\"\n",
        "\n",
        "train_dataloader, test_dataloader, class_names = data_setup.create_dataloaders(\n",
        "    train_dir=train_dir,\n",
        "    test_dir=test_dir,\n",
        "    transform=weights.transforms(),\n",
        "    batch_size=BATCH_SIZE\n",
        ")"
      ],
      "metadata": {
        "id": "y3oQGQx4VIDV"
      },
      "execution_count": 36,
      "outputs": []
    },
    {
      "cell_type": "code",
      "source": [
        "from going_modular.going_modular import engine\n",
        "\n",
        "# Setup the optimizer to optimize our ViT model parameters using hyperparameters from the ViT paper\n",
        "optimizer = torch.optim.Adam(params=pretrained_vit.parameters(),\n",
        "                             lr=3e-3, # Base LR from Table 3 for ViT-* ImageNet-1k\n",
        "                             betas=(0.9, 0.999), # default values but also mentioned in ViT paper section 4.1 (Training & Fine-tuning)\n",
        "                             weight_decay=0.3) # from the ViT paper section 4.1 (Training & Fine-tuning) and Table 3 for ViT-* ImageNet-1k\n",
        "\n",
        "# Setup the loss function for multi-class classification\n",
        "loss_fn = torch.nn.CrossEntropyLoss()\n",
        "\n",
        "# Set the seeds\n",
        "set_seeds()\n",
        "\n",
        "# Train the model and save the training results to a dictionary\n",
        "results = engine.train(model=pretrained_vit,\n",
        "                       train_dataloader=train_dataloader,\n",
        "                       test_dataloader=test_dataloader,\n",
        "                       optimizer=optimizer,\n",
        "                       loss_fn=loss_fn,\n",
        "                       epochs=10,\n",
        "                       device=device)"
      ],
      "metadata": {
        "colab": {
          "base_uri": "https://localhost:8080/",
          "height": 231,
          "referenced_widgets": [
            "f81d483453a84bc096c57c35bfda9e4c",
            "6735b375eb9b4709afc14cec1694bab6",
            "7785550cb3a84b7099a33009b2c732e0",
            "008daf822a7c410f821d6a2d3739359a",
            "b3d5dd1918194deb977a7fd305fd7772",
            "30f7dfd7b0d0488181418d2153bf6e88",
            "be19b6afedaf40f785ecaaeddc51a4b2",
            "5b4d44ab748a4e06a85b27c4d840b5f9",
            "817e47b7662942cea18808b3b47b92c6",
            "b1c70e59e3004adc996c6e683573e1eb",
            "e486c621c5954824bb4d137e14d086f8"
          ]
        },
        "id": "r42zyTEAVXbH",
        "outputId": "5e88cac6-bd61-4f0f-d14b-19bcc442ee21"
      },
      "execution_count": 37,
      "outputs": [
        {
          "output_type": "display_data",
          "data": {
            "text/plain": [
              "  0%|          | 0/10 [00:00<?, ?it/s]"
            ],
            "application/vnd.jupyter.widget-view+json": {
              "version_major": 2,
              "version_minor": 0,
              "model_id": "f81d483453a84bc096c57c35bfda9e4c"
            }
          },
          "metadata": {}
        },
        {
          "output_type": "stream",
          "name": "stdout",
          "text": [
            "Epoch: 1 | train_loss: 0.5213 | train_acc: 0.8417 | test_loss: 0.0917 | test_acc: 0.9812\n",
            "Epoch: 2 | train_loss: 0.1444 | train_acc: 0.9604 | test_loss: 0.0965 | test_acc: 0.9756\n",
            "Epoch: 3 | train_loss: 0.1232 | train_acc: 0.9792 | test_loss: 0.0920 | test_acc: 0.9812\n",
            "Epoch: 4 | train_loss: 0.0981 | train_acc: 0.9854 | test_loss: 0.1012 | test_acc: 0.9812\n",
            "Epoch: 5 | train_loss: 0.1005 | train_acc: 0.9875 | test_loss: 0.1003 | test_acc: 0.9875\n",
            "Epoch: 6 | train_loss: 0.1350 | train_acc: 0.9521 | test_loss: 0.0964 | test_acc: 0.9875\n",
            "Epoch: 7 | train_loss: 0.1170 | train_acc: 0.9750 | test_loss: 0.1056 | test_acc: 0.9875\n",
            "Epoch: 8 | train_loss: 0.1314 | train_acc: 0.9812 | test_loss: 0.0947 | test_acc: 0.9750\n",
            "Epoch: 9 | train_loss: 0.1300 | train_acc: 0.9458 | test_loss: 0.0986 | test_acc: 0.9812\n",
            "Epoch: 10 | train_loss: 0.1055 | train_acc: 0.9812 | test_loss: 0.0872 | test_acc: 0.9938\n"
          ]
        }
      ]
    },
    {
      "cell_type": "markdown",
      "source": [
        "Vision Transformer performs much better than EffNetB2\n",
        "\n",
        "| **Model** | **Model size (MB)** | **Test loss** | **Test accuracy** |\n",
        "| ----- | ----- | ----- | ------ |\n",
        "| EffNetB2 | 29 | ~0.3906 | ~0.9384 |\n",
        "| ViT | 327 | ~0.0872 | ~0.9938 |"
      ],
      "metadata": {
        "id": "8Mc44RXQeiVZ"
      }
    },
    {
      "cell_type": "markdown",
      "source": [
        "## 4. Try repeating the steps from excercise 3 but this time use the \"`ViT_B_16_Weights.IMAGENET1K_SWAG_E2E_V1`\" pretrained weights from [`torchvision.models.vit_b_16()`](https://pytorch.org/vision/stable/models/generated/torchvision.models.vit_b_16.html#torchvision.models.vit_b_16).\n",
        "* Note: ViT pretrained with SWAG weights has a minimum input image size of (384, 384), though this is accessible in the weights `.transforms()` method."
      ],
      "metadata": {
        "id": "LH-vHr3m9_oH"
      }
    },
    {
      "cell_type": "code",
      "source": [
        "# TODO: your code\n",
        "weights = torchvision.models.ViT_B_16_Weights.IMAGENET1K_SWAG_E2E_V1\n",
        "weights.transforms()"
      ],
      "metadata": {
        "id": "dWxceTz3VmeB",
        "colab": {
          "base_uri": "https://localhost:8080/"
        },
        "outputId": "ff951a9d-b3be-4476-c1bd-7b5a29e049cc"
      },
      "execution_count": 38,
      "outputs": [
        {
          "output_type": "execute_result",
          "data": {
            "text/plain": [
              "ImageClassification(\n",
              "    crop_size=[384]\n",
              "    resize_size=[384]\n",
              "    mean=[0.485, 0.456, 0.406]\n",
              "    std=[0.229, 0.224, 0.225]\n",
              "    interpolation=InterpolationMode.BICUBIC\n",
              ")"
            ]
          },
          "metadata": {},
          "execution_count": 38
        }
      ]
    },
    {
      "cell_type": "code",
      "source": [
        "pretrained_vit = torchvision.models.vit_b_16(weights=weights)"
      ],
      "metadata": {
        "id": "jPseU-KEb84f"
      },
      "execution_count": 39,
      "outputs": []
    },
    {
      "cell_type": "code",
      "source": [
        "for parameter in pretrained_vit.parameters():\n",
        "    parameter.requires_grad = False\n",
        "\n",
        "set_seeds()\n",
        "pretrained_vit.heads = nn.Linear(in_features=768, out_features=len(class_names)).to(device)"
      ],
      "metadata": {
        "id": "znNX010WdRvX"
      },
      "execution_count": 40,
      "outputs": []
    },
    {
      "cell_type": "code",
      "source": [
        "summary(model=pretrained_vit,\n",
        "        input_size=(32, 3, 384, 384), # (batch_size, color_channels, height, width)\n",
        "        # col_names=[\"input_size\"], # uncomment for smaller output\n",
        "        col_names=[\"input_size\", \"output_size\", \"num_params\", \"trainable\"],\n",
        "        col_width=20,\n",
        "        row_settings=[\"var_names\"]\n",
        ")"
      ],
      "metadata": {
        "colab": {
          "base_uri": "https://localhost:8080/"
        },
        "id": "xvhgz86Pdku2",
        "outputId": "9d8225eb-2ceb-4d75-a9f1-ae97f297dd08"
      },
      "execution_count": 41,
      "outputs": [
        {
          "output_type": "execute_result",
          "data": {
            "text/plain": [
              "============================================================================================================================================\n",
              "Layer (type (var_name))                                      Input Shape          Output Shape         Param #              Trainable\n",
              "============================================================================================================================================\n",
              "VisionTransformer (VisionTransformer)                        [32, 3, 384, 384]    [32, 3]              768                  Partial\n",
              "├─Conv2d (conv_proj)                                         [32, 3, 384, 384]    [32, 768, 24, 24]    (590,592)            False\n",
              "├─Encoder (encoder)                                          [32, 577, 768]       [32, 577, 768]       443,136              False\n",
              "│    └─Dropout (dropout)                                     [32, 577, 768]       [32, 577, 768]       --                   --\n",
              "│    └─Sequential (layers)                                   [32, 577, 768]       [32, 577, 768]       --                   False\n",
              "│    │    └─EncoderBlock (encoder_layer_0)                   [32, 577, 768]       [32, 577, 768]       (7,087,872)          False\n",
              "│    │    └─EncoderBlock (encoder_layer_1)                   [32, 577, 768]       [32, 577, 768]       (7,087,872)          False\n",
              "│    │    └─EncoderBlock (encoder_layer_2)                   [32, 577, 768]       [32, 577, 768]       (7,087,872)          False\n",
              "│    │    └─EncoderBlock (encoder_layer_3)                   [32, 577, 768]       [32, 577, 768]       (7,087,872)          False\n",
              "│    │    └─EncoderBlock (encoder_layer_4)                   [32, 577, 768]       [32, 577, 768]       (7,087,872)          False\n",
              "│    │    └─EncoderBlock (encoder_layer_5)                   [32, 577, 768]       [32, 577, 768]       (7,087,872)          False\n",
              "│    │    └─EncoderBlock (encoder_layer_6)                   [32, 577, 768]       [32, 577, 768]       (7,087,872)          False\n",
              "│    │    └─EncoderBlock (encoder_layer_7)                   [32, 577, 768]       [32, 577, 768]       (7,087,872)          False\n",
              "│    │    └─EncoderBlock (encoder_layer_8)                   [32, 577, 768]       [32, 577, 768]       (7,087,872)          False\n",
              "│    │    └─EncoderBlock (encoder_layer_9)                   [32, 577, 768]       [32, 577, 768]       (7,087,872)          False\n",
              "│    │    └─EncoderBlock (encoder_layer_10)                  [32, 577, 768]       [32, 577, 768]       (7,087,872)          False\n",
              "│    │    └─EncoderBlock (encoder_layer_11)                  [32, 577, 768]       [32, 577, 768]       (7,087,872)          False\n",
              "│    └─LayerNorm (ln)                                        [32, 577, 768]       [32, 577, 768]       (1,536)              False\n",
              "├─Linear (heads)                                             [32, 768]            [32, 3]              2,307                True\n",
              "============================================================================================================================================\n",
              "Total params: 86,092,803\n",
              "Trainable params: 2,307\n",
              "Non-trainable params: 86,090,496\n",
              "Total mult-adds (G): 12.70\n",
              "============================================================================================================================================\n",
              "Input size (MB): 56.62\n",
              "Forward/backward pass size (MB): 9755.89\n",
              "Params size (MB): 229.20\n",
              "Estimated Total Size (MB): 10041.71\n",
              "============================================================================================================================================"
            ]
          },
          "metadata": {},
          "execution_count": 41
        }
      ]
    },
    {
      "cell_type": "code",
      "source": [
        "train_dir = image_path / \"train\"\n",
        "test_dir = image_path / \"test\"\n",
        "\n",
        "train_dataloader, test_dataloader, class_names = data_setup.create_dataloaders(\n",
        "    train_dir=train_dir,\n",
        "    test_dir=test_dir,\n",
        "    transform=weights.transforms(),\n",
        "    batch_size=BATCH_SIZE\n",
        ")"
      ],
      "metadata": {
        "id": "oUs0eFmfcAvG"
      },
      "execution_count": 42,
      "outputs": []
    },
    {
      "cell_type": "code",
      "source": [
        "from going_modular.going_modular import engine\n",
        "\n",
        "# Setup the optimizer to optimize our ViT model parameters using hyperparameters from the ViT paper\n",
        "optimizer = torch.optim.Adam(params=pretrained_vit.parameters(),\n",
        "                             lr=3e-3, # Base LR from Table 3 for ViT-* ImageNet-1k\n",
        "                             betas=(0.9, 0.999), # default values but also mentioned in ViT paper section 4.1 (Training & Fine-tuning)\n",
        "                             weight_decay=0.3) # from the ViT paper section 4.1 (Training & Fine-tuning) and Table 3 for ViT-* ImageNet-1k\n",
        "\n",
        "# Setup the loss function for multi-class classification\n",
        "loss_fn = torch.nn.CrossEntropyLoss()\n",
        "\n",
        "# Set the seeds\n",
        "set_seeds()\n",
        "\n",
        "# Train the model and save the training results to a dictionary\n",
        "results = engine.train(model=pretrained_vit,\n",
        "                       train_dataloader=train_dataloader,\n",
        "                       test_dataloader=test_dataloader,\n",
        "                       optimizer=optimizer,\n",
        "                       loss_fn=loss_fn,\n",
        "                       epochs=10,\n",
        "                       device=device)"
      ],
      "metadata": {
        "colab": {
          "base_uri": "https://localhost:8080/",
          "height": 231,
          "referenced_widgets": [
            "563a4788151b4d86b62613751374af71",
            "f8f55d45781b418e9b23e0fe1b0037b0",
            "0e580148f4e44d6690556e9b68931cef",
            "a81bcc08547d463da0eaef242e46d807",
            "b3a3a0c1660946c3aab48f7560dcd98b",
            "347979adcbb448fab41dd789a8236c4c",
            "14112c9818c74fc8b1c8aab105300846",
            "81408eea7faf40d0aaf5dcc39e3630aa",
            "9990a44d218949eaaef595140d88b697",
            "cf01f732bcfb428ead671347c62a3e21",
            "ee4bc30ec48f431082ba12e266f3d5f3"
          ]
        },
        "id": "TWGeBC6acDNn",
        "outputId": "9ceb117c-f104-4e60-af6d-62abbe1c9aaa"
      },
      "execution_count": 43,
      "outputs": [
        {
          "output_type": "display_data",
          "data": {
            "text/plain": [
              "  0%|          | 0/10 [00:00<?, ?it/s]"
            ],
            "application/vnd.jupyter.widget-view+json": {
              "version_major": 2,
              "version_minor": 0,
              "model_id": "563a4788151b4d86b62613751374af71"
            }
          },
          "metadata": {}
        },
        {
          "output_type": "stream",
          "name": "stdout",
          "text": [
            "Epoch: 1 | train_loss: 0.4319 | train_acc: 0.9167 | test_loss: 0.0033 | test_acc: 1.0000\n",
            "Epoch: 2 | train_loss: 0.0424 | train_acc: 0.9875 | test_loss: 0.0133 | test_acc: 1.0000\n",
            "Epoch: 3 | train_loss: 0.0153 | train_acc: 0.9979 | test_loss: 0.0044 | test_acc: 1.0000\n",
            "Epoch: 4 | train_loss: 0.0137 | train_acc: 0.9979 | test_loss: 0.0103 | test_acc: 1.0000\n",
            "Epoch: 5 | train_loss: 0.0168 | train_acc: 1.0000 | test_loss: 0.0149 | test_acc: 1.0000\n",
            "Epoch: 6 | train_loss: 0.0186 | train_acc: 1.0000 | test_loss: 0.0128 | test_acc: 1.0000\n",
            "Epoch: 7 | train_loss: 0.0173 | train_acc: 1.0000 | test_loss: 0.0111 | test_acc: 1.0000\n",
            "Epoch: 8 | train_loss: 0.0218 | train_acc: 1.0000 | test_loss: 0.0209 | test_acc: 1.0000\n",
            "Epoch: 9 | train_loss: 0.0231 | train_acc: 0.9958 | test_loss: 0.0139 | test_acc: 1.0000\n",
            "Epoch: 10 | train_loss: 0.0201 | train_acc: 0.9979 | test_loss: 0.0144 | test_acc: 1.0000\n"
          ]
        }
      ]
    },
    {
      "cell_type": "markdown",
      "source": [
        "# 5. Our custom ViT model architecture closely mimics that of the ViT paper, however, our training recipe misses a few things.\n",
        "* Research some of the following topics from Table 3 in the ViT paper that we miss and write a sentence about each and how it might help with training:\n",
        "    * **ImageNet-21k pretraining**\n",
        "    * **Learning rate warmup**\n",
        "    * **Learning rate decay**\n",
        "    * **Gradient clipping**"
      ],
      "metadata": {
        "id": "ZLcCgRhS-OhV"
      }
    },
    {
      "cell_type": "code",
      "source": [
        "# TODO: your explanations of the above terms"
      ],
      "metadata": {
        "id": "7HwonCSsVtnr"
      },
      "execution_count": null,
      "outputs": []
    },
    {
      "cell_type": "markdown",
      "source": [
        "- **ImageNet-21k pretraining** - bigger dataset on pretraining leads to better generalisation, and thus a better performance on transfer learning.\n",
        "- **Learning rate warmup** - it prevents instability in the early stages of training, and makes a smooth transition from lower to higher learning rates\n",
        "- **Learning rate decay** - as the weights approach optimum, smaller updates are needed or the optimal values may be \"overshooted\"\n",
        "- **Gradient clipping** - gradients are clipped to a maximum or minimum treshold, this is used to prevent exploding and diminishing gradients which otherwise could destabilize or even break the training."
      ],
      "metadata": {
        "id": "5UIiqMFegCXy"
      }
    },
    {
      "cell_type": "code",
      "source": [],
      "metadata": {
        "id": "8DOwUTZKgHSE"
      },
      "execution_count": null,
      "outputs": []
    }
  ]
}