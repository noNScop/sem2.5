{
 "cells": [
  {
   "cell_type": "markdown",
   "metadata": {
    "id": "ZKJFt7YxH8yl"
   },
   "source": [
    "# 02. PyTorch Classification Exercises\n",
    "\n",
    "The following is a template for 02. PyTorch Classification exercises.\n",
    "\n",
    "It's only starter code and it's your job to fill in the blanks.\n",
    "\n",
    "Because of the flexibility of PyTorch, there may be more than one way to answer the question.\n",
    "\n",
    "Don't worry about trying to be *right* just try writing code that suffices the question.\n",
    "\n",
    "## Resources\n",
    "* These exercises are based on [notebook 02 of the learn PyTorch course](https://www.learnpytorch.io/02_pytorch_classification/).\n",
    "* You can see one form of [solutions on GitHub](https://github.com/mrdbourke/pytorch-deep-learning/tree/main/extras/solutions) (but try the exercises below yourself first!)."
   ]
  },
  {
   "cell_type": "code",
   "execution_count": 1,
   "metadata": {
    "colab": {
     "base_uri": "https://localhost:8080/"
    },
    "executionInfo": {
     "elapsed": 10669,
     "status": "ok",
     "timestamp": 1725172830789,
     "user": {
      "displayName": "",
      "userId": ""
     },
     "user_tz": -120
    },
    "id": "CSrUPgapO0tf",
    "outputId": "330d9922-d335-47f6-b180-5f31663b4d55"
   },
   "outputs": [
    {
     "name": "stdout",
     "output_type": "stream",
     "text": [
      "cuda\n"
     ]
    }
   ],
   "source": [
    "# Import torch\n",
    "import torch\n",
    "\n",
    "# Setup device agnostic code\n",
    "device = \"cuda\" if torch.cuda.is_available() else \"cpu\"\n",
    "print(device)\n",
    "\n",
    "# Setup random seed\n",
    "RANDOM_SEED = 42"
   ]
  },
  {
   "cell_type": "markdown",
   "metadata": {
    "id": "pH7jIZ2SPFee"
   },
   "source": [
    "## 1. Make a binary classification dataset with Scikit-Learn's [`make_moons()`](https://scikit-learn.org/stable/modules/generated/sklearn.datasets.make_moons.html) function.\n",
    "  * For consistency, the dataset should have 1000 samples and a `random_state=42`.\n",
    "  * Turn the data into PyTorch tensors.\n",
    "  * Split the data into training and test sets using `train_test_split` with 80% training and 20% testing."
   ]
  },
  {
   "cell_type": "code",
   "execution_count": 2,
   "metadata": {
    "executionInfo": {
     "elapsed": 3574,
     "status": "ok",
     "timestamp": 1725172834361,
     "user": {
      "displayName": "",
      "userId": ""
     },
     "user_tz": -120
    },
    "id": "5t4VhPV1PX1X"
   },
   "outputs": [],
   "source": [
    "# Create a dataset with Scikit-Learn's make_moons()\n",
    "from sklearn.datasets import make_moons\n",
    "data = make_moons(n_samples=1000, random_state=42)"
   ]
  },
  {
   "cell_type": "code",
   "execution_count": 3,
   "metadata": {
    "colab": {
     "base_uri": "https://localhost:8080/"
    },
    "executionInfo": {
     "elapsed": 21,
     "status": "ok",
     "timestamp": 1725172834362,
     "user": {
      "displayName": "",
      "userId": ""
     },
     "user_tz": -120
    },
    "id": "FYjz5VVtLMtJ",
    "outputId": "a8edace5-b3da-4daf-c15c-1ef96d936bca"
   },
   "outputs": [
    {
     "data": {
      "text/plain": [
       "(1000, 2)"
      ]
     },
     "execution_count": 3,
     "metadata": {},
     "output_type": "execute_result"
    }
   ],
   "source": [
    "data[0].shape"
   ]
  },
  {
   "cell_type": "code",
   "execution_count": 4,
   "metadata": {
    "colab": {
     "base_uri": "https://localhost:8080/",
     "height": 423
    },
    "executionInfo": {
     "elapsed": 1791,
     "status": "ok",
     "timestamp": 1725172836133,
     "user": {
      "displayName": "",
      "userId": ""
     },
     "user_tz": -120
    },
    "id": "SUeHZ3-3P9C7",
    "outputId": "49c1548d-c740-4d98-a239-d3137ff70b5a"
   },
   "outputs": [
    {
     "data": {
      "text/html": [
       "<div>\n",
       "<style scoped>\n",
       "    .dataframe tbody tr th:only-of-type {\n",
       "        vertical-align: middle;\n",
       "    }\n",
       "\n",
       "    .dataframe tbody tr th {\n",
       "        vertical-align: top;\n",
       "    }\n",
       "\n",
       "    .dataframe thead th {\n",
       "        text-align: right;\n",
       "    }\n",
       "</style>\n",
       "<table border=\"1\" class=\"dataframe\">\n",
       "  <thead>\n",
       "    <tr style=\"text-align: right;\">\n",
       "      <th></th>\n",
       "      <th>group</th>\n",
       "      <th>x</th>\n",
       "      <th>y</th>\n",
       "    </tr>\n",
       "  </thead>\n",
       "  <tbody>\n",
       "    <tr>\n",
       "      <th>0</th>\n",
       "      <td>1</td>\n",
       "      <td>0.008727</td>\n",
       "      <td>0.368174</td>\n",
       "    </tr>\n",
       "    <tr>\n",
       "      <th>1</th>\n",
       "      <td>1</td>\n",
       "      <td>0.921384</td>\n",
       "      <td>-0.496905</td>\n",
       "    </tr>\n",
       "    <tr>\n",
       "      <th>2</th>\n",
       "      <td>1</td>\n",
       "      <td>0.940226</td>\n",
       "      <td>-0.498212</td>\n",
       "    </tr>\n",
       "    <tr>\n",
       "      <th>3</th>\n",
       "      <td>1</td>\n",
       "      <td>0.465875</td>\n",
       "      <td>-0.345406</td>\n",
       "    </tr>\n",
       "    <tr>\n",
       "      <th>4</th>\n",
       "      <td>0</td>\n",
       "      <td>-0.850412</td>\n",
       "      <td>0.526117</td>\n",
       "    </tr>\n",
       "    <tr>\n",
       "      <th>...</th>\n",
       "      <td>...</td>\n",
       "      <td>...</td>\n",
       "      <td>...</td>\n",
       "    </tr>\n",
       "    <tr>\n",
       "      <th>995</th>\n",
       "      <td>0</td>\n",
       "      <td>0.785463</td>\n",
       "      <td>0.618909</td>\n",
       "    </tr>\n",
       "    <tr>\n",
       "      <th>996</th>\n",
       "      <td>0</td>\n",
       "      <td>-0.128705</td>\n",
       "      <td>0.991683</td>\n",
       "    </tr>\n",
       "    <tr>\n",
       "      <th>997</th>\n",
       "      <td>1</td>\n",
       "      <td>1.640910</td>\n",
       "      <td>-0.267616</td>\n",
       "    </tr>\n",
       "    <tr>\n",
       "      <th>998</th>\n",
       "      <td>0</td>\n",
       "      <td>-0.919916</td>\n",
       "      <td>0.392115</td>\n",
       "    </tr>\n",
       "    <tr>\n",
       "      <th>999</th>\n",
       "      <td>0</td>\n",
       "      <td>0.800798</td>\n",
       "      <td>0.598934</td>\n",
       "    </tr>\n",
       "  </tbody>\n",
       "</table>\n",
       "<p>1000 rows × 3 columns</p>\n",
       "</div>"
      ],
      "text/plain": [
       "     group         x         y\n",
       "0        1  0.008727  0.368174\n",
       "1        1  0.921384 -0.496905\n",
       "2        1  0.940226 -0.498212\n",
       "3        1  0.465875 -0.345406\n",
       "4        0 -0.850412  0.526117\n",
       "..     ...       ...       ...\n",
       "995      0  0.785463  0.618909\n",
       "996      0 -0.128705  0.991683\n",
       "997      1  1.640910 -0.267616\n",
       "998      0 -0.919916  0.392115\n",
       "999      0  0.800798  0.598934\n",
       "\n",
       "[1000 rows x 3 columns]"
      ]
     },
     "execution_count": 4,
     "metadata": {},
     "output_type": "execute_result"
    }
   ],
   "source": [
    "# Turn data into a DataFrame\n",
    "import pandas as pd\n",
    "df = pd.DataFrame(data[0], data[1]).reset_index()\n",
    "df.columns = ['group', 'x', 'y']\n",
    "df"
   ]
  },
  {
   "cell_type": "code",
   "execution_count": 5,
   "metadata": {
    "colab": {
     "base_uri": "https://localhost:8080/",
     "height": 472
    },
    "executionInfo": {
     "elapsed": 1494,
     "status": "ok",
     "timestamp": 1725172837623,
     "user": {
      "displayName": "",
      "userId": ""
     },
     "user_tz": -120
    },
    "id": "owrkPSFvQPFI",
    "outputId": "2deabb59-0b42-4a9a-97e9-ec4dade04255"
   },
   "outputs": [
    {
     "data": {
      "text/plain": [
       "<Axes: xlabel='x', ylabel='y'>"
      ]
     },
     "execution_count": 5,
     "metadata": {},
     "output_type": "execute_result"
    },
    {
     "data": {
      "image/png": "[encoded data removed]",
      "text/plain": [
       "<Figure size 640x480 with 2 Axes>"
      ]
     },
     "metadata": {},
     "output_type": "display_data"
    }
   ],
   "source": [
    "# Visualize the data on a scatter plot\n",
    "import matplotlib.pyplot as plt\n",
    "df.plot.scatter(x='x', y='y', c='group', colormap='viridis')"
   ]
  },
  {
   "cell_type": "code",
   "execution_count": 6,
   "metadata": {
    "colab": {
     "base_uri": "https://localhost:8080/",
     "height": 423
    },
    "executionInfo": {
     "elapsed": 5,
     "status": "ok",
     "timestamp": 1725172837623,
     "user": {
      "displayName": "",
      "userId": ""
     },
     "user_tz": -120
    },
    "id": "7tY__QEtNoEr",
    "outputId": "fcca54dd-45d6-47ea-a4da-96fd8d94e44b"
   },
   "outputs": [
    {
     "data": {
      "text/html": [
       "<div>\n",
       "<style scoped>\n",
       "    .dataframe tbody tr th:only-of-type {\n",
       "        vertical-align: middle;\n",
       "    }\n",
       "\n",
       "    .dataframe tbody tr th {\n",
       "        vertical-align: top;\n",
       "    }\n",
       "\n",
       "    .dataframe thead th {\n",
       "        text-align: right;\n",
       "    }\n",
       "</style>\n",
       "<table border=\"1\" class=\"dataframe\">\n",
       "  <thead>\n",
       "    <tr style=\"text-align: right;\">\n",
       "      <th></th>\n",
       "      <th>x</th>\n",
       "      <th>y</th>\n",
       "    </tr>\n",
       "  </thead>\n",
       "  <tbody>\n",
       "    <tr>\n",
       "      <th>0</th>\n",
       "      <td>0.008727</td>\n",
       "      <td>0.368174</td>\n",
       "    </tr>\n",
       "    <tr>\n",
       "      <th>1</th>\n",
       "      <td>0.921384</td>\n",
       "      <td>-0.496905</td>\n",
       "    </tr>\n",
       "    <tr>\n",
       "      <th>2</th>\n",
       "      <td>0.940226</td>\n",
       "      <td>-0.498212</td>\n",
       "    </tr>\n",
       "    <tr>\n",
       "      <th>3</th>\n",
       "      <td>0.465875</td>\n",
       "      <td>-0.345406</td>\n",
       "    </tr>\n",
       "    <tr>\n",
       "      <th>4</th>\n",
       "      <td>-0.850412</td>\n",
       "      <td>0.526117</td>\n",
       "    </tr>\n",
       "    <tr>\n",
       "      <th>...</th>\n",
       "      <td>...</td>\n",
       "      <td>...</td>\n",
       "    </tr>\n",
       "    <tr>\n",
       "      <th>995</th>\n",
       "      <td>0.785463</td>\n",
       "      <td>0.618909</td>\n",
       "    </tr>\n",
       "    <tr>\n",
       "      <th>996</th>\n",
       "      <td>-0.128705</td>\n",
       "      <td>0.991683</td>\n",
       "    </tr>\n",
       "    <tr>\n",
       "      <th>997</th>\n",
       "      <td>1.640910</td>\n",
       "      <td>-0.267616</td>\n",
       "    </tr>\n",
       "    <tr>\n",
       "      <th>998</th>\n",
       "      <td>-0.919916</td>\n",
       "      <td>0.392115</td>\n",
       "    </tr>\n",
       "    <tr>\n",
       "      <th>999</th>\n",
       "      <td>0.800798</td>\n",
       "      <td>0.598934</td>\n",
       "    </tr>\n",
       "  </tbody>\n",
       "</table>\n",
       "<p>1000 rows × 2 columns</p>\n",
       "</div>"
      ],
      "text/plain": [
       "            x         y\n",
       "0    0.008727  0.368174\n",
       "1    0.921384 -0.496905\n",
       "2    0.940226 -0.498212\n",
       "3    0.465875 -0.345406\n",
       "4   -0.850412  0.526117\n",
       "..        ...       ...\n",
       "995  0.785463  0.618909\n",
       "996 -0.128705  0.991683\n",
       "997  1.640910 -0.267616\n",
       "998 -0.919916  0.392115\n",
       "999  0.800798  0.598934\n",
       "\n",
       "[1000 rows x 2 columns]"
      ]
     },
     "execution_count": 6,
     "metadata": {},
     "output_type": "execute_result"
    }
   ],
   "source": [
    "df.T.loc[['x', 'y']].T"
   ]
  },
  {
   "cell_type": "code",
   "execution_count": 7,
   "metadata": {
    "colab": {
     "base_uri": "https://localhost:8080/"
    },
    "executionInfo": {
     "elapsed": 541,
     "status": "ok",
     "timestamp": 1725172838160,
     "user": {
      "displayName": "",
      "userId": ""
     },
     "user_tz": -120
    },
    "id": "bDhyHn9fR4dq",
    "outputId": "0e24bcd9-09ed-4a7d-fde3-ceed4fb8957a"
   },
   "outputs": [
    {
     "name": "stdout",
     "output_type": "stream",
     "text": [
      "torch.Size([1000, 2]) torch.float32\n",
      "torch.Size([1000]) torch.float32\n"
     ]
    },
    {
     "data": {
      "text/plain": [
       "(800, 800, 200, 200)"
      ]
     },
     "execution_count": 7,
     "metadata": {},
     "output_type": "execute_result"
    }
   ],
   "source": [
    "# Turn data into tensors of dtype float\n",
    "x = torch.tensor(df.T.loc[['x', 'y']].T.to_numpy()).to(torch.float32)\n",
    "print(x.shape, x.dtype)\n",
    "\n",
    "y = torch.tensor(df.T.loc['group']).to(torch.float32)\n",
    "print(y.shape, y.dtype)\n",
    "\n",
    "# Split the data into train and test sets (80% train, 20% test)\n",
    "from sklearn.model_selection import train_test_split\n",
    "x_train, x_test, y_train, y_test = train_test_split(x, y, test_size=0.2)\n",
    "y_train, y_test = y_train[:, None], y_test[:, None]\n",
    "len(x_train), len(y_train), len(x_test), len(y_test)"
   ]
  },
  {
   "cell_type": "markdown",
   "metadata": {
    "id": "cMIjxZdzQfPz"
   },
   "source": [
    "## 2. Build a model by subclassing `nn.Module` that incorporates non-linear activation functions and is capable of fitting the data you created in 1.\n",
    "  * Feel free to use any combination of PyTorch layers (linear and non-linear) you want."
   ]
  },
  {
   "cell_type": "code",
   "execution_count": 8,
   "metadata": {
    "colab": {
     "base_uri": "https://localhost:8080/"
    },
    "executionInfo": {
     "elapsed": 4,
     "status": "ok",
     "timestamp": 1725172838161,
     "user": {
      "displayName": "",
      "userId": ""
     },
     "user_tz": -120
    },
    "id": "hwtyvm34Ri6Q",
    "outputId": "4e49099a-5414-4cc8-cff3-c52ba19525de"
   },
   "outputs": [
    {
     "data": {
      "text/plain": [
       "MoonModelV0(\n",
       "  (layers): Sequential(\n",
       "    (0): Linear(in_features=2, out_features=16, bias=True)\n",
       "    (1): ReLU()\n",
       "    (2): Linear(in_features=16, out_features=16, bias=True)\n",
       "    (3): ReLU()\n",
       "    (4): Linear(in_features=16, out_features=1, bias=True)\n",
       "  )\n",
       ")"
      ]
     },
     "execution_count": 8,
     "metadata": {},
     "output_type": "execute_result"
    }
   ],
   "source": [
    "import torch\n",
    "from torch import nn\n",
    "\n",
    "# Inherit from nn.Module to make a model capable of fitting the mooon data\n",
    "class MoonModelV0(nn.Module):\n",
    "    ## Your code here ##\n",
    "    def __init__(self):\n",
    "        super().__init__()\n",
    "        self.layers = nn.Sequential(\n",
    "            nn.Linear(2, 16),\n",
    "            nn.ReLU(),\n",
    "            nn.Linear(16, 16),\n",
    "            nn.ReLU(),\n",
    "            nn.Linear(16, 1)\n",
    "        )\n",
    "\n",
    "    def forward(self, x):\n",
    "        ## Your code here ##\n",
    "        return self.layers(x)\n",
    "\n",
    "# Instantiate the model\n",
    "## Your code here ##\n",
    "model = MoonModelV0().to(device)\n",
    "model"
   ]
  },
  {
   "cell_type": "markdown",
   "metadata": {
    "id": "DSj97RwyVeFE"
   },
   "source": [
    "## 3. Setup a binary classification compatible loss function and optimizer to use when training the model built in 2."
   ]
  },
  {
   "cell_type": "code",
   "execution_count": 9,
   "metadata": {
    "executionInfo": {
     "elapsed": 5317,
     "status": "ok",
     "timestamp": 1725172843475,
     "user": {
      "displayName": "",
      "userId": ""
     },
     "user_tz": -120
    },
    "id": "whSGw5qgVvxU"
   },
   "outputs": [],
   "source": [
    "# Setup loss function\n",
    "loss_func = nn.BCELoss()\n",
    "# Setup optimizer to optimize model's parameters\n",
    "optimizer = torch.optim.Adam(model.parameters(), lr=0.01)"
   ]
  },
  {
   "cell_type": "markdown",
   "metadata": {
    "id": "nvk4PfNTWUAt"
   },
   "source": [
    "## 4. Create a training and testing loop to fit the model you created in 2 to the data you created in 1.\n",
    "  * Do a forward pass of the model to see what's coming out in the form of logits, prediction probabilities and labels.\n",
    "  * To measure model accuray, you can create your own accuracy function or use the accuracy function in [TorchMetrics](https://torchmetrics.readthedocs.io/en/latest/).\n",
    "  * Train the model for long enough for it to reach over 96% accuracy.\n",
    "  * The training loop should output progress every 10 epochs of the model's training and test set loss and accuracy."
   ]
  },
  {
   "cell_type": "code",
   "execution_count": 10,
   "metadata": {
    "colab": {
     "base_uri": "https://localhost:8080/"
    },
    "executionInfo": {
     "elapsed": 22,
     "status": "ok",
     "timestamp": 1725172843475,
     "user": {
      "displayName": "",
      "userId": ""
     },
     "user_tz": -120
    },
    "id": "AgnFdlamd2-D",
    "outputId": "cf301f13-5bbc-449e-97c5-16c20d3d1fbd"
   },
   "outputs": [
    {
     "name": "stdout",
     "output_type": "stream",
     "text": [
      "Logits:\n",
      "tensor([[-0.1262],\n",
      "        [-0.1860],\n",
      "        [-0.1431],\n",
      "        [-0.1619],\n",
      "        [-0.1830]], device='cuda:0')\n",
      "Pred probs:\n",
      "tensor([[0.4685],\n",
      "        [0.4536],\n",
      "        [0.4643],\n",
      "        [0.4596],\n",
      "        [0.4544]], device='cuda:0')\n",
      "Pred labels:\n"
     ]
    },
    {
     "data": {
      "text/plain": [
       "tensor([[0.],\n",
       "        [0.],\n",
       "        [0.],\n",
       "        [0.],\n",
       "        [0.]], device='cuda:0')"
      ]
     },
     "execution_count": 10,
     "metadata": {},
     "output_type": "execute_result"
    }
   ],
   "source": [
    "# What's coming out of our model?\n",
    "\n",
    "# logits (raw outputs of model)\n",
    "print(\"Logits:\")\n",
    "## Your code here ##\n",
    "x_train, x_test, y_train, y_test = x_train.to(device), x_test.to(device), y_train.to(device), y_test.to(device)\n",
    "model.eval()\n",
    "with torch.inference_mode():\n",
    "    out = model(x_test)\n",
    "\n",
    "print(out[:5])\n",
    "# Prediction probabilities\n",
    "print(\"Pred probs:\")\n",
    "## Your code here ##\n",
    "print(out.sigmoid()[:5])\n",
    "# Prediction labels\n",
    "print(\"Pred labels:\")\n",
    "## Your code here ##\n",
    "out.sigmoid().round()[:5]"
   ]
  },
  {
   "cell_type": "code",
   "execution_count": 11,
   "metadata": {
    "colab": {
     "base_uri": "https://localhost:8080/"
    },
    "executionInfo": {
     "elapsed": 12299,
     "status": "ok",
     "timestamp": 1725172855753,
     "user": {
      "displayName": "",
      "userId": ""
     },
     "user_tz": -120
    },
    "id": "rUSDNHB4euoJ",
    "outputId": "f32e7c4f-0549-42d3-bfda-e6312ca957bf"
   },
   "outputs": [
    {
     "data": {
      "text/plain": [
       "MulticlassAccuracy()"
      ]
     },
     "execution_count": 11,
     "metadata": {},
     "output_type": "execute_result"
    }
   ],
   "source": [
    "# Let's calculuate the accuracy using accuracy from TorchMetrics\n",
    "!pip -q install torchmetrics # Colab doesn't come with torchmetrics\n",
    "from torchmetrics import Accuracy\n",
    "\n",
    "## TODO: Uncomment this code to use the Accuracy function\n",
    "acc_fn = Accuracy(task=\"multiclass\", num_classes=2).to(device) # send accuracy function to device\n",
    "acc_fn"
   ]
  },
  {
   "cell_type": "code",
   "execution_count": 12,
   "metadata": {
    "colab": {
     "base_uri": "https://localhost:8080/"
    },
    "executionInfo": {
     "elapsed": 915,
     "status": "ok",
     "timestamp": 1725172856665,
     "user": {
      "displayName": "",
      "userId": ""
     },
     "user_tz": -120
    },
    "id": "SHBY3h7XXnxt",
    "outputId": "2bed0acd-2637-4cd0-b730-c31df7d32d5e"
   },
   "outputs": [
    {
     "name": "stdout",
     "output_type": "stream",
     "text": [
      "Epoch: 0 | Train - [Loss: 0.701054036617279, Acc: 0.5162500143051147] | Test - [Loss: 0.695738673210144, Acc: 0.4350000023841858]\n",
      "Epoch: 10 | Train - [Loss: 0.5864030122756958, Acc: 0.8487499952316284] | Test - [Loss: 0.5826551914215088, Acc: 0.8149999976158142]\n",
      "Epoch: 20 | Train - [Loss: 0.4144434928894043, Acc: 0.8512499928474426] | Test - [Loss: 0.4226108491420746, Acc: 0.8149999976158142]\n",
      "Epoch: 30 | Train - [Loss: 0.282488077878952, Acc: 0.8637499809265137] | Test - [Loss: 0.3384026288986206, Acc: 0.824999988079071]\n",
      "Epoch: 40 | Train - [Loss: 0.24094413220882416, Acc: 0.8812500238418579] | Test - [Loss: 0.2983064651489258, Acc: 0.8550000190734863]\n",
      "Epoch: 50 | Train - [Loss: 0.21241170167922974, Acc: 0.893750011920929] | Test - [Loss: 0.24791793525218964, Acc: 0.8799999952316284]\n",
      "Epoch: 60 | Train - [Loss: 0.1962503045797348, Acc: 0.9037500023841858] | Test - [Loss: 0.2229592502117157, Acc: 0.875]\n",
      "Epoch: 70 | Train - [Loss: 0.1806720346212387, Acc: 0.9075000286102295] | Test - [Loss: 0.20870523154735565, Acc: 0.8999999761581421]\n",
      "Epoch: 80 | Train - [Loss: 0.16559821367263794, Acc: 0.9162499904632568] | Test - [Loss: 0.19158782064914703, Acc: 0.9049999713897705]\n",
      "Epoch: 90 | Train - [Loss: 0.14651133120059967, Acc: 0.9275000095367432] | Test - [Loss: 0.16889560222625732, Acc: 0.9200000166893005]\n",
      "Epoch: 100 | Train - [Loss: 0.12046178430318832, Acc: 0.9449999928474426] | Test - [Loss: 0.14037619531154633, Acc: 0.9399999976158142]\n",
      "Epoch: 110 | Train - [Loss: 0.08904414623975754, Acc: 0.9712499976158142] | Test - [Loss: 0.10471750050783157, Acc: 0.9599999785423279]\n",
      "Epoch: 120 | Train - [Loss: 0.058195505291223526, Acc: 0.9900000095367432] | Test - [Loss: 0.06873392313718796, Acc: 0.9900000095367432]\n",
      "Epoch: 130 | Train - [Loss: 0.034816887229681015, Acc: 0.9987499713897705] | Test - [Loss: 0.041845958679914474, Acc: 1.0]\n",
      "Epoch: 140 | Train - [Loss: 0.020538661628961563, Acc: 1.0] | Test - [Loss: 0.025163717567920685, Acc: 1.0]\n",
      "Epoch: 150 | Train - [Loss: 0.012824896723031998, Acc: 1.0] | Test - [Loss: 0.01592041552066803, Acc: 1.0]\n",
      "Epoch: 160 | Train - [Loss: 0.008651322685182095, Acc: 1.0] | Test - [Loss: 0.010907077230513096, Acc: 1.0]\n",
      "Epoch: 170 | Train - [Loss: 0.006283686030656099, Acc: 1.0] | Test - [Loss: 0.007991057820618153, Acc: 1.0]\n",
      "Epoch: 180 | Train - [Loss: 0.004831761587411165, Acc: 1.0] | Test - [Loss: 0.0061947051435709, Acc: 1.0]\n",
      "Epoch: 190 | Train - [Loss: 0.003875335678458214, Acc: 1.0] | Test - [Loss: 0.004999904427677393, Acc: 1.0]\n"
     ]
    }
   ],
   "source": [
    "## TODO: Uncomment this to set the seed\n",
    "torch.manual_seed(RANDOM_SEED)\n",
    "\n",
    "# Setup epochs\n",
    "epochs = 200\n",
    "\n",
    "# Send data to the device\n",
    "x_train, x_test, y_train, y_test = x_train.to(device), x_test.to(device), y_train.to(device), y_test.to(device)\n",
    "\n",
    "# Loop through the data\n",
    "for epoch in range(epochs):\n",
    "    ### Training\n",
    "    model.train()\n",
    "\n",
    "    # 1. Forward pass (logits output)\n",
    "    out = model(x_train)\n",
    "\n",
    "    # Turn logits into prediction probabilities\n",
    "    probs = out.sigmoid()\n",
    "\n",
    "    # Turn prediction probabilities into prediction labels\n",
    "    y_pred = probs.round()\n",
    "\n",
    "    # 2. Calculaute the loss\n",
    "    loss = loss_func(probs, y_train) # loss = compare model raw outputs to desired model outputs\n",
    "\n",
    "    # Calculate the accuracy\n",
    "    acc = acc_fn(y_pred, y_train.int()) # the accuracy function needs to compare pred labels (not logits) with actual labels\n",
    "\n",
    "    # 3. Zero the gradients\n",
    "    optimizer.zero_grad()\n",
    "\n",
    "    # 4. Loss backward (perform backpropagation) - https://brilliant.org/wiki/backpropagation/#:~:text=Backpropagation%2C%20short%20for%20%22backward%20propagation,to%20the%20neural%20network's%20weights.\n",
    "    loss.backward()\n",
    "\n",
    "    # 5. Step the optimizer (gradient descent) - https://towardsdatascience.com/gradient-descent-algorithm-a-deep-dive-cf04e8115f21#:~:text=Gradient%20descent%20(GD)%20is%20an,e.g.%20in%20a%20linear%20regression)\n",
    "    optimizer.step()\n",
    "\n",
    "    ### Testing\n",
    "    if epoch % 10 == 0:\n",
    "        model.eval()\n",
    "        with torch.inference_mode():\n",
    "            # 1. Forward pass (to get the logits)\n",
    "            out = model(x_test)\n",
    "\n",
    "            # Turn the test logits into prediction labels\n",
    "            probs = out.sigmoid()\n",
    "            preds = probs.round()\n",
    "\n",
    "            # 2. Caculate the test loss/acc\n",
    "            test_loss = loss_func(probs, y_test)\n",
    "            test_acc = acc_fn(preds, y_test.int())\n",
    "\n",
    "        # Print out what's happening every 100 epochs\n",
    "        print(f\"Epoch: {epoch} | Train - [Loss: {loss}, Acc: {acc}] | Test - [Loss: {test_loss}, Acc: {test_acc}]\")\n"
   ]
  },
  {
   "cell_type": "markdown",
   "metadata": {
    "id": "8Nwihtomj9JO"
   },
   "source": [
    "## 5. Make predictions with your trained model and plot them using the `plot_decision_boundary()` function created in this notebook."
   ]
  },
  {
   "cell_type": "code",
   "execution_count": 13,
   "metadata": {
    "executionInfo": {
     "elapsed": 3,
     "status": "ok",
     "timestamp": 1725172856665,
     "user": {
      "displayName": "",
      "userId": ""
     },
     "user_tz": -120
    },
    "id": "0YRzatb8a1P2"
   },
   "outputs": [],
   "source": [
    "# Plot the model predictions\n",
    "import numpy as np\n",
    "\n",
    "def plot_decision_boundary(model, X, y):\n",
    "\n",
    "    # Put everything to CPU (works better with NumPy + Matplotlib)\n",
    "    model.to(\"cpu\")\n",
    "    X, y = X.to(\"cpu\"), y.to(\"cpu\")\n",
    "\n",
    "    # Source - https://madewithml.com/courses/foundations/neural-networks/\n",
    "    # (with modifications)\n",
    "    x_min, x_max = X[:, 0].min() - 0.1, X[:, 0].max() + 0.1\n",
    "    y_min, y_max = X[:, 1].min() - 0.1, X[:, 1].max() + 0.1\n",
    "    xx, yy = np.meshgrid(np.linspace(x_min, x_max, 101),\n",
    "                         np.linspace(y_min, y_max, 101))\n",
    "\n",
    "    # Make features\n",
    "    X_to_pred_on = torch.from_numpy(np.column_stack((xx.ravel(), yy.ravel()))).float()\n",
    "\n",
    "    # Make predictions\n",
    "    model.eval()\n",
    "    with torch.inference_mode():\n",
    "        y_logits = model(X_to_pred_on)\n",
    "\n",
    "    # Test for multi-class or binary and adjust logits to prediction labels\n",
    "    if len(torch.unique(y)) > 2:\n",
    "        y_pred = torch.softmax(y_logits, dim=1).argmax(dim=1) # mutli-class\n",
    "    else:\n",
    "        y_pred = torch.round(torch.sigmoid(y_logits)) # binary\n",
    "\n",
    "    # Reshape preds and plot\n",
    "    y_pred = y_pred.reshape(xx.shape).detach().numpy()\n",
    "    plt.contourf(xx, yy, y_pred, cmap=plt.cm.RdYlBu, alpha=0.7)\n",
    "    plt.scatter(X[:, 0], X[:, 1], c=y, s=40, cmap=plt.cm.RdYlBu)\n",
    "    plt.xlim(xx.min(), xx.max())\n",
    "    plt.ylim(yy.min(), yy.max())"
   ]
  },
  {
   "cell_type": "code",
   "execution_count": 14,
   "metadata": {
    "colab": {
     "base_uri": "https://localhost:8080/",
     "height": 430
    },
    "executionInfo": {
     "elapsed": 908,
     "status": "ok",
     "timestamp": 1725172857571,
     "user": {
      "displayName": "",
      "userId": ""
     },
     "user_tz": -120
    },
    "id": "PMrcpyirig1d",
    "outputId": "41274264-78dd-4041-a794-1963f898a5df"
   },
   "outputs": [
    {
     "data": {
      "image/png": "[encoded data removed]",
      "text/plain": [
       "<Figure size 640x480 with 1 Axes>"
      ]
     },
     "metadata": {},
     "output_type": "display_data"
    }
   ],
   "source": [
    "# Plot decision boundaries for training and test sets\n",
    "plot_decision_boundary(model, x_train, y_train)"
   ]
  },
  {
   "cell_type": "code",
   "execution_count": 15,
   "metadata": {
    "colab": {
     "base_uri": "https://localhost:8080/",
     "height": 430
    },
    "executionInfo": {
     "elapsed": 949,
     "status": "ok",
     "timestamp": 1725172858517,
     "user": {
      "displayName": "",
      "userId": ""
     },
     "user_tz": -120
    },
    "id": "gbNnFONpsJKc",
    "outputId": "2770c323-e263-44e4-c259-43ec96dc99b3"
   },
   "outputs": [
    {
     "data": {
      "image/png": "[encoded data removed]",
      "text/plain": [
       "<Figure size 640x480 with 1 Axes>"
      ]
     },
     "metadata": {},
     "output_type": "display_data"
    }
   ],
   "source": [
    "plot_decision_boundary(model, x_test, y_test)"
   ]
  },
  {
   "cell_type": "markdown",
   "metadata": {
    "id": "EtMYBvtciiAU"
   },
   "source": [
    "## 6. Replicate the Tanh (hyperbolic tangent) activation function in pure PyTorch.\n",
    "  * Feel free to reference the [ML cheatsheet website](https://ml-cheatsheet.readthedocs.io/en/latest/activation_functions.html#tanh) for the formula."
   ]
  },
  {
   "cell_type": "code",
   "execution_count": 16,
   "metadata": {
    "colab": {
     "base_uri": "https://localhost:8080/"
    },
    "executionInfo": {
     "elapsed": 4,
     "status": "ok",
     "timestamp": 1725172858517,
     "user": {
      "displayName": "",
      "userId": ""
     },
     "user_tz": -120
    },
    "id": "BlXaWC5TkEUE",
    "outputId": "9fe60cad-7fbb-4c89-97c6-580a3e2fe02e"
   },
   "outputs": [
    {
     "data": {
      "text/plain": [
       "tensor([-1.0000e+01, -9.9000e+00, -9.8000e+00, -9.7000e+00, -9.6000e+00,\n",
       "        -9.5000e+00, -9.4000e+00, -9.3000e+00, -9.2000e+00, -9.1000e+00,\n",
       "        -9.0000e+00, -8.9000e+00, -8.8000e+00, -8.7000e+00, -8.6000e+00,\n",
       "        -8.5000e+00, -8.4000e+00, -8.3000e+00, -8.2000e+00, -8.1000e+00,\n",
       "        -8.0000e+00, -7.9000e+00, -7.8000e+00, -7.7000e+00, -7.6000e+00,\n",
       "        -7.5000e+00, -7.4000e+00, -7.3000e+00, -7.2000e+00, -7.1000e+00,\n",
       "        -7.0000e+00, -6.9000e+00, -6.8000e+00, -6.7000e+00, -6.6000e+00,\n",
       "        -6.5000e+00, -6.4000e+00, -6.3000e+00, -6.2000e+00, -6.1000e+00,\n",
       "        -6.0000e+00, -5.9000e+00, -5.8000e+00, -5.7000e+00, -5.6000e+00,\n",
       "        -5.5000e+00, -5.4000e+00, -5.3000e+00, -5.2000e+00, -5.1000e+00,\n",
       "        -5.0000e+00, -4.9000e+00, -4.8000e+00, -4.7000e+00, -4.6000e+00,\n",
       "        -4.5000e+00, -4.4000e+00, -4.3000e+00, -4.2000e+00, -4.1000e+00,\n",
       "        -4.0000e+00, -3.9000e+00, -3.8000e+00, -3.7000e+00, -3.6000e+00,\n",
       "        -3.5000e+00, -3.4000e+00, -3.3000e+00, -3.2000e+00, -3.1000e+00,\n",
       "        -3.0000e+00, -2.9000e+00, -2.8000e+00, -2.7000e+00, -2.6000e+00,\n",
       "        -2.5000e+00, -2.4000e+00, -2.3000e+00, -2.2000e+00, -2.1000e+00,\n",
       "        -2.0000e+00, -1.9000e+00, -1.8000e+00, -1.7000e+00, -1.6000e+00,\n",
       "        -1.5000e+00, -1.4000e+00, -1.3000e+00, -1.2000e+00, -1.1000e+00,\n",
       "        -1.0000e+00, -9.0000e-01, -8.0000e-01, -7.0000e-01, -6.0000e-01,\n",
       "        -5.0000e-01, -4.0000e-01, -3.0000e-01, -2.0000e-01, -1.0000e-01,\n",
       "        -5.9605e-09,  1.0000e-01,  2.0000e-01,  3.0000e-01,  4.0000e-01,\n",
       "         5.0000e-01,  6.0000e-01,  7.0000e-01,  8.0000e-01,  9.0000e-01,\n",
       "         1.0000e+00,  1.1000e+00,  1.2000e+00,  1.3000e+00,  1.4000e+00,\n",
       "         1.5000e+00,  1.6000e+00,  1.7000e+00,  1.8000e+00,  1.9000e+00,\n",
       "         2.0000e+00,  2.1000e+00,  2.2000e+00,  2.3000e+00,  2.4000e+00,\n",
       "         2.5000e+00,  2.6000e+00,  2.7000e+00,  2.8000e+00,  2.9000e+00,\n",
       "         3.0000e+00,  3.1000e+00,  3.2000e+00,  3.3000e+00,  3.4000e+00,\n",
       "         3.5000e+00,  3.6000e+00,  3.7000e+00,  3.8000e+00,  3.9000e+00,\n",
       "         4.0000e+00,  4.1000e+00,  4.2000e+00,  4.3000e+00,  4.4000e+00,\n",
       "         4.5000e+00,  4.6000e+00,  4.7000e+00,  4.8000e+00,  4.9000e+00,\n",
       "         5.0000e+00,  5.1000e+00,  5.2000e+00,  5.3000e+00,  5.4000e+00,\n",
       "         5.5000e+00,  5.6000e+00,  5.7000e+00,  5.8000e+00,  5.9000e+00,\n",
       "         6.0000e+00,  6.1000e+00,  6.2000e+00,  6.3000e+00,  6.4000e+00,\n",
       "         6.5000e+00,  6.6000e+00,  6.7000e+00,  6.8000e+00,  6.9000e+00,\n",
       "         7.0000e+00,  7.1000e+00,  7.2000e+00,  7.3000e+00,  7.4000e+00,\n",
       "         7.5000e+00,  7.6000e+00,  7.7000e+00,  7.8000e+00,  7.9000e+00,\n",
       "         8.0000e+00,  8.1000e+00,  8.2000e+00,  8.3000e+00,  8.4000e+00,\n",
       "         8.5000e+00,  8.6000e+00,  8.7000e+00,  8.8000e+00,  8.9000e+00,\n",
       "         9.0000e+00,  9.1000e+00,  9.2000e+00,  9.3000e+00,  9.4000e+00,\n",
       "         9.5000e+00,  9.6000e+00,  9.7000e+00,  9.8000e+00,  9.9000e+00])"
      ]
     },
     "execution_count": 16,
     "metadata": {},
     "output_type": "execute_result"
    }
   ],
   "source": [
    "# Create a straight line tensor\n",
    "line = torch.arange(-10, 10, 0.1)\n",
    "line"
   ]
  },
  {
   "cell_type": "code",
   "execution_count": 17,
   "metadata": {
    "colab": {
     "base_uri": "https://localhost:8080/",
     "height": 447
    },
    "executionInfo": {
     "elapsed": 900,
     "status": "ok",
     "timestamp": 1725172859414,
     "user": {
      "displayName": "",
      "userId": ""
     },
     "user_tz": -120
    },
    "id": "vZPCcQmIkZjO",
    "outputId": "3042a30f-fc48-4721-d3f8-00e9dbd6d17d"
   },
   "outputs": [
    {
     "data": {
      "text/plain": [
       "[<matplotlib.lines.Line2D at 0x793e64472120>]"
      ]
     },
     "execution_count": 17,
     "metadata": {},
     "output_type": "execute_result"
    },
    {
     "data": {
      "image/png": "[encoded data removed]",
      "text/plain": [
       "<Figure size 640x480 with 1 Axes>"
      ]
     },
     "metadata": {},
     "output_type": "display_data"
    }
   ],
   "source": [
    "# Test torch.tanh() on the tensor and plot it\n",
    "plt.plot(line.tanh())"
   ]
  },
  {
   "cell_type": "code",
   "execution_count": 18,
   "metadata": {
    "colab": {
     "base_uri": "https://localhost:8080/",
     "height": 447
    },
    "executionInfo": {
     "elapsed": 812,
     "status": "ok",
     "timestamp": 1725172860222,
     "user": {
      "displayName": "",
      "userId": ""
     },
     "user_tz": -120
    },
    "id": "J-ne__Kjkdc1",
    "outputId": "18015c7c-d4fd-4eb6-c03d-71e18910d062"
   },
   "outputs": [
    {
     "data": {
      "text/plain": [
       "[<matplotlib.lines.Line2D at 0x793e6454bec0>]"
      ]
     },
     "execution_count": 18,
     "metadata": {},
     "output_type": "execute_result"
    },
    {
     "data": {
      "image/png": "[encoded data removed]",
      "text/plain": [
       "<Figure size 640x480 with 1 Axes>"
      ]
     },
     "metadata": {},
     "output_type": "display_data"
    }
   ],
   "source": [
    "# Replicate torch.tanh() and plot it\n",
    "def tanh(x):\n",
    "    a = torch.exp(x) - torch.exp(-x)\n",
    "    b = torch.exp(x) + torch.exp(-x)\n",
    "    return a / b\n",
    "\n",
    "plt.plot(tanh(line))"
   ]
  },
  {
   "cell_type": "markdown",
   "metadata": {
    "id": "Lbt1bNcWk5G9"
   },
   "source": [
    "## 7. Create a multi-class dataset using the [spirals data creation function from CS231n](https://cs231n.github.io/neural-networks-case-study/) (see below for the code).\n",
    "  * Split the data into training and test sets (80% train, 20% test) as well as turn it into PyTorch tensors.\n",
    "  * Construct a model capable of fitting the data (you may need a combination of linear and non-linear layers).\n",
    "  * Build a loss function and optimizer capable of handling multi-class data (optional extension: use the Adam optimizer instead of SGD, you may have to experiment with different values of the learning rate to get it working).\n",
    "  * Make a training and testing loop for the multi-class data and train a model on it to reach over 95% testing accuracy (you can use any accuracy measuring function here that you like) - 1000 epochs should be plenty.\n",
    "  * Plot the decision boundaries on the spirals dataset from your model predictions, the `plot_decision_boundary()` function should work for this dataset too."
   ]
  },
  {
   "cell_type": "code",
   "execution_count": 19,
   "metadata": {
    "colab": {
     "base_uri": "https://localhost:8080/",
     "height": 430
    },
    "executionInfo": {
     "elapsed": 706,
     "status": "ok",
     "timestamp": 1725175867504,
     "user": {
      "displayName": "",
      "userId": ""
     },
     "user_tz": -120
    },
    "id": "tU-UNZsKlJls",
    "outputId": "c1219e64-2e2f-4608-ea42-01bbbf098254"
   },
   "outputs": [
    {
     "data": {
      "image/png": "[encoded data removed]",
      "text/plain": [
       "<Figure size 640x480 with 1 Axes>"
      ]
     },
     "metadata": {},
     "output_type": "display_data"
    }
   ],
   "source": [
    "# Code for creating a spiral dataset from CS231n\n",
    "import numpy as np\n",
    "import matplotlib.pyplot as plt\n",
    "RANDOM_SEED = 42\n",
    "np.random.seed(RANDOM_SEED)\n",
    "N = 100 # number of points per class\n",
    "D = 2 # dimensionality\n",
    "K = 3 # number of classes\n",
    "X = np.zeros((N*K,D)) # data matrix (each row = single example)\n",
    "y = np.zeros(N*K, dtype='uint8') # class labels\n",
    "for j in range(K):\n",
    "  ix = range(N*j,N*(j+1))\n",
    "  r = np.linspace(0.0,1,N) # radius\n",
    "  t = np.linspace(j*4,(j+1)*4,N) + np.random.randn(N)*0.2 # theta\n",
    "  X[ix] = np.c_[r*np.sin(t), r*np.cos(t)]\n",
    "  y[ix] = j\n",
    "# lets visualize the data\n",
    "plt.scatter(X[:, 0], X[:, 1], c=y, s=40, cmap=plt.cm.RdYlBu)\n",
    "plt.show()"
   ]
  },
  {
   "cell_type": "code",
   "execution_count": 20,
   "metadata": {
    "colab": {
     "base_uri": "https://localhost:8080/"
    },
    "executionInfo": {
     "elapsed": 237,
     "status": "ok",
     "timestamp": 1725175873296,
     "user": {
      "displayName": "",
      "userId": ""
     },
     "user_tz": -120
    },
    "id": "OWVrmkEyl0VP",
    "outputId": "d702655f-d9f8-4b9d-8d37-3bd98d8806ac"
   },
   "outputs": [
    {
     "data": {
      "text/plain": [
       "(240, 60, 240, 60)"
      ]
     },
     "execution_count": 20,
     "metadata": {},
     "output_type": "execute_result"
    }
   ],
   "source": [
    "# Turn data into tensors\n",
    "import torch\n",
    "X = torch.from_numpy(X).type(torch.float) # features as float32\n",
    "y = torch.from_numpy(y).type(torch.LongTensor) # labels need to be of type long\n",
    "\n",
    "# Create train and test splits\n",
    "from sklearn.model_selection import train_test_split\n",
    "train_x, test_x, train_y, test_y = train_test_split(X, y, test_size=0.2)\n",
    "len(train_x), len(test_x), len(train_y), len(test_y)"
   ]
  },
  {
   "cell_type": "code",
   "execution_count": 21,
   "metadata": {
    "colab": {
     "base_uri": "https://localhost:8080/"
    },
    "executionInfo": {
     "elapsed": 5704,
     "status": "ok",
     "timestamp": 1725175904950,
     "user": {
      "displayName": "",
      "userId": ""
     },
     "user_tz": -120
    },
    "id": "a-v-7f0op0tG",
    "outputId": "d3a9c68f-3b67-4d5d-a8f6-ccc8170c29db"
   },
   "outputs": [
    {
     "data": {
      "text/plain": [
       "MulticlassAccuracy()"
      ]
     },
     "execution_count": 21,
     "metadata": {},
     "output_type": "execute_result"
    }
   ],
   "source": [
    "# Let's calculuate the accuracy for when we fit our model\n",
    "!pip -q install torchmetrics # colab doesn't come with torchmetrics\n",
    "from torchmetrics import Accuracy\n",
    "\n",
    "## TODO: uncomment the two lines below to send the accuracy function to the device\n",
    "acc_fn = Accuracy(task=\"multiclass\", num_classes=3).to(device)\n",
    "acc_fn"
   ]
  },
  {
   "cell_type": "code",
   "execution_count": 22,
   "metadata": {
    "executionInfo": {
     "elapsed": 12,
     "status": "ok",
     "timestamp": 1725175904950,
     "user": {
      "displayName": "",
      "userId": ""
     },
     "user_tz": -120
    },
    "id": "DB3u3ldumapf"
   },
   "outputs": [],
   "source": [
    "# Prepare device agnostic code\n",
    "device = \"cuda\" if torch.cuda.is_available() else \"cpu\"\n",
    "\n",
    "# Create model by subclassing nn.Module\n",
    "class Classifier(nn.Module):\n",
    "    def __init__(self):\n",
    "        super().__init__()\n",
    "        self.layers = nn.Sequential(\n",
    "            nn.Linear(2, 32),\n",
    "            nn.ReLU(),\n",
    "            nn.Linear(32, 32),\n",
    "            nn.ReLU(),\n",
    "            nn.Linear(32, 3)\n",
    "        )\n",
    "\n",
    "    def forward(self, x):\n",
    "        return self.layers(x)\n",
    "\n",
    "\n",
    "# Instantiate model and send it to device\n",
    "model = Classifier().to(device)"
   ]
  },
  {
   "cell_type": "code",
   "execution_count": 23,
   "metadata": {
    "colab": {
     "base_uri": "https://localhost:8080/"
    },
    "executionInfo": {
     "elapsed": 12,
     "status": "ok",
     "timestamp": 1725175904950,
     "user": {
      "displayName": "",
      "userId": ""
     },
     "user_tz": -120
    },
    "id": "QE7XWSSunMTS",
    "outputId": "63b791a4-f6c1-4946-9e91-ddcf258194bf"
   },
   "outputs": [
    {
     "name": "stdout",
     "output_type": "stream",
     "text": [
      "Logits:\n",
      "tensor([[-0.1243,  0.0717,  0.0124],\n",
      "        [-0.1169,  0.0698, -0.0046],\n",
      "        [-0.1353,  0.0748, -0.0184],\n",
      "        [-0.1246,  0.0725,  0.0127],\n",
      "        [-0.0893,  0.0915,  0.0073],\n",
      "        [-0.1224,  0.0748,  0.0111],\n",
      "        [-0.1255,  0.0630, -0.0106],\n",
      "        [-0.1217,  0.0620, -0.0075],\n",
      "        [-0.1324,  0.0692,  0.0249],\n",
      "        [-0.1150,  0.0913,  0.0312]], device='cuda:0')\n",
      "Pred probs:\n",
      "tensor([[0.2973, 0.3617, 0.3409],\n",
      "        [0.3008, 0.3626, 0.3366],\n",
      "        [0.2978, 0.3674, 0.3347],\n",
      "        [0.2972, 0.3619, 0.3409],\n",
      "        [0.3031, 0.3631, 0.3338],\n",
      "        [0.2976, 0.3624, 0.3400],\n",
      "        [0.3004, 0.3627, 0.3370],\n",
      "        [0.3010, 0.3617, 0.3374],\n",
      "        [0.2947, 0.3605, 0.3449],\n",
      "        [0.2953, 0.3629, 0.3418]], device='cuda:0')\n",
      "Pred labels:\n",
      "tensor([1, 1, 1, 1, 1, 1, 1, 1, 1, 1], device='cuda:0')\n"
     ]
    }
   ],
   "source": [
    "# Setup data to be device agnostic\n",
    "train_x, test_x, train_y, test_y = train_x.to(device), test_x.to(device), train_y.to(device), test_y.to(device)\n",
    "\n",
    "\n",
    "# Print out first 10 untrained model outputs (forward pass)\n",
    "print(\"Logits:\")\n",
    "## Your code here ##\n",
    "model.eval()\n",
    "with torch.inference_mode():\n",
    "    logits = model(test_x)[:10]\n",
    "\n",
    "print(logits)\n",
    "\n",
    "print(\"Pred probs:\")\n",
    "## Your code here ##\n",
    "print(logits.softmax(dim=1))\n",
    "\n",
    "print(\"Pred labels:\")\n",
    "## Your code here ##\n",
    "print(logits.argmax(dim=1))"
   ]
  },
  {
   "cell_type": "code",
   "execution_count": 24,
   "metadata": {
    "executionInfo": {
     "elapsed": 11,
     "status": "ok",
     "timestamp": 1725175904950,
     "user": {
      "displayName": "",
      "userId": ""
     },
     "user_tz": -120
    },
    "id": "54EqLRKLo0AW"
   },
   "outputs": [],
   "source": [
    "# Setup loss function and optimizer\n",
    "loss_fn = nn.CrossEntropyLoss()\n",
    "optimizer = torch.optim.Adam(model.parameters(), lr=0.01)"
   ]
  },
  {
   "cell_type": "code",
   "execution_count": 25,
   "metadata": {
    "colab": {
     "base_uri": "https://localhost:8080/"
    },
    "executionInfo": {
     "elapsed": 3123,
     "status": "ok",
     "timestamp": 1725175908062,
     "user": {
      "displayName": "",
      "userId": ""
     },
     "user_tz": -120
    },
    "id": "vIlExkUHnmxi",
    "outputId": "b928356a-b07b-4878-bd51-e190f05170b1"
   },
   "outputs": [
    {
     "name": "stdout",
     "output_type": "stream",
     "text": [
      "Epoch: 0 | Train - [Loss: 1.1078022718429565, Acc: 0.34583333134651184] | Test - [Loss: 1.0905789136886597, Acc: 0.28333333134651184]\n",
      "Epoch: 100 | Train - [Loss: 0.06010712310671806, Acc: 0.987500011920929] | Test - [Loss: 0.09151504933834076, Acc: 0.9833333492279053]\n",
      "Epoch: 200 | Train - [Loss: 0.02937908098101616, Acc: 0.9916666746139526] | Test - [Loss: 0.039520878344774246, Acc: 1.0]\n",
      "Epoch: 300 | Train - [Loss: 0.02296251803636551, Acc: 0.9916666746139526] | Test - [Loss: 0.024376176297664642, Acc: 1.0]\n",
      "Epoch: 400 | Train - [Loss: 0.019946349784731865, Acc: 0.9916666746139526] | Test - [Loss: 0.016011454164981842, Acc: 1.0]\n",
      "Epoch: 500 | Train - [Loss: 0.018186401575803757, Acc: 0.9916666746139526] | Test - [Loss: 0.010965629480779171, Acc: 1.0]\n",
      "Epoch: 600 | Train - [Loss: 0.0170655008405447, Acc: 0.9916666746139526] | Test - [Loss: 0.007955708540976048, Acc: 1.0]\n",
      "Epoch: 700 | Train - [Loss: 0.016262855380773544, Acc: 0.9916666746139526] | Test - [Loss: 0.006137339398264885, Acc: 1.0]\n",
      "Epoch: 800 | Train - [Loss: 0.015660300850868225, Acc: 0.9916666746139526] | Test - [Loss: 0.004587912000715733, Acc: 1.0]\n",
      "Epoch: 900 | Train - [Loss: 0.015315651893615723, Acc: 0.9916666746139526] | Test - [Loss: 0.003190873423591256, Acc: 1.0]\n"
     ]
    }
   ],
   "source": [
    "# Build a training loop for the model\n",
    "\n",
    "# Loop over data\n",
    "\n",
    "\n",
    "    ## Training\n",
    "for epoch in range(1000):\n",
    "    model.train()\n",
    "    # 1. Forward pass\n",
    "    logits = model(train_x)\n",
    "\n",
    "    # 2. Calculate the loss\n",
    "    loss = loss_fn(logits, train_y)\n",
    "\n",
    "    # 3. Optimizer zero grad\n",
    "    optimizer.zero_grad()\n",
    "\n",
    "    # 4. Loss backward\n",
    "    loss.backward()\n",
    "\n",
    "    # 5. Optimizer step\n",
    "    optimizer.step()\n",
    "\n",
    "    ## Testing\n",
    "    if epoch % 100 == 0:\n",
    "        model.eval()\n",
    "        with torch.inference_mode():\n",
    "            test_logits = model(test_x)\n",
    "\n",
    "        test_loss = loss_fn(test_logits, test_y)\n",
    "        test_acc = acc_fn(test_logits.argmax(dim=1) ,test_y)\n",
    "\n",
    "        acc = acc_fn(logits.argmax(dim=1) ,train_y)\n",
    "\n",
    "        print(f\"Epoch: {epoch} | Train - [Loss: {loss}, Acc: {acc}] | Test - [Loss: {test_loss}, Acc: {test_acc}]\")\n",
    "\n",
    "    # 1. Forward pass\n",
    "\n",
    "    # 2. Caculate loss and acc\n",
    "\n",
    "    # Print out what's happening every 100 epochs\n"
   ]
  },
  {
   "cell_type": "code",
   "execution_count": 26,
   "metadata": {
    "colab": {
     "base_uri": "https://localhost:8080/",
     "height": 430
    },
    "executionInfo": {
     "elapsed": 846,
     "status": "ok",
     "timestamp": 1725175908906,
     "user": {
      "displayName": "",
      "userId": ""
     },
     "user_tz": -120
    },
    "id": "JrwVRbaE0keT",
    "outputId": "f2e892a2-9bea-431b-bd32-84a78ed4b7b4"
   },
   "outputs": [
    {
     "data": {
      "image/png": "[encoded data removed]",
      "text/plain": [
       "<Figure size 640x480 with 1 Axes>"
      ]
     },
     "metadata": {},
     "output_type": "display_data"
    }
   ],
   "source": [
    "# Plot decision boundaries for training and test sets\n",
    "plot_decision_boundary(model, test_x, test_y)"
   ]
  },
  {
   "cell_type": "code",
   "execution_count": 64,
   "metadata": {
    "executionInfo": {
     "elapsed": 4,
     "status": "ok",
     "timestamp": 1725175601001,
     "user": {
      "displayName": "",
      "userId": ""
     },
     "user_tz": -120
    },
    "id": "Ng_F1tk9em-1"
   },
   "outputs": [],
   "source": []
  }
 ],
 "metadata": {
  "colab": {
   "name": "02_pytorch_classification_exercises.ipynb",
   "provenance": [
    {
     "file_id": "https://github.com/mrdbourke/pytorch-deep-learning/blob/main/extras/exercises/02_pytorch_classification_exercises.ipynb",
     "timestamp": 1725175943808
    }
   ]
  },
  "kernelspec": {
   "display_name": "Python 3 (ipykernel)",
   "language": "python",
   "name": "python3"
  },
  "language_info": {
   "codemirror_mode": {
    "name": "ipython",
    "version": 3
   },
   "file_extension": ".py",
   "mimetype": "text/x-python",
   "name": "python",
   "nbconvert_exporter": "python",
   "pygments_lexer": "ipython3",
   "version": "3.12.4"
  }
 },
 "nbformat": 4,
 "nbformat_minor": 4
}
