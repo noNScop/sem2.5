{
 "cells": [
  {
   "cell_type": "markdown",
   "metadata": {
    "id": "N8LsPXZti9Sw"
   },
   "source": [
    "# 01. PyTorch Workflow Exercise Template\n",
    "\n",
    "The following is a template for the PyTorch workflow exercises.\n",
    "\n",
    "It's only starter code and it's your job to fill in the blanks.\n",
    "\n",
    "Because of the flexibility of PyTorch, there may be more than one way to answer the question.\n",
    "\n",
    "Don't worry about trying to be *right* just try writing code that suffices the question.\n",
    "\n",
    "You can see one form of [solutions on GitHub](https://github.com/mrdbourke/pytorch-deep-learning/tree/main/extras/solutions) (but try the exercises below yourself first!)."
   ]
  },
  {
   "cell_type": "code",
   "execution_count": 1,
   "metadata": {
    "id": "Glu2fM4dkNlx"
   },
   "outputs": [],
   "source": [
    "# Import necessary libraries\n",
    "import torch\n",
    "import matplotlib.pyplot as plt\n",
    "from torch import nn"
   ]
  },
  {
   "cell_type": "code",
   "execution_count": 2,
   "metadata": {
    "colab": {
     "base_uri": "https://localhost:8080/",
     "height": 35
    },
    "id": "LqKhXY26m31s",
    "outputId": "821490e1-f437-4916-e3fe-a0d7e608278f"
   },
   "outputs": [
    {
     "data": {
      "text/plain": [
       "'cuda'"
      ]
     },
     "execution_count": 2,
     "metadata": {},
     "output_type": "execute_result"
    }
   ],
   "source": [
    "# Setup device-agnostic code\n",
    "device = \"cuda\" if torch.cuda.is_available() else \"cpu\"\n",
    "device"
   ]
  },
  {
   "cell_type": "markdown",
   "metadata": {
    "id": "g7HUhxCxjeBx"
   },
   "source": [
    "## 1. Create a straight line dataset using the linear regression formula (`weight * X + bias`).\n",
    "  * Set `weight=0.3` and `bias=0.9` there should be at least 100 datapoints total.\n",
    "  * Split the data into 80% training, 20% testing.\n",
    "  * Plot the training and testing data so it becomes visual.\n",
    "\n",
    "Your output of the below cell should look something like:\n",
    "```\n",
    "Number of X samples: 100\n",
    "Number of y samples: 100\n",
    "First 10 X & y samples:\n",
    "X: tensor([0.0000, 0.0100, 0.0200, 0.0300, 0.0400, 0.0500, 0.0600, 0.0700, 0.0800,\n",
    "        0.0900])\n",
    "y: tensor([0.9000, 0.9030, 0.9060, 0.9090, 0.9120, 0.9150, 0.9180, 0.9210, 0.9240,\n",
    "        0.9270])\n",
    "```\n",
    "\n",
    "Of course the numbers in `X` and `y` may be different but ideally they're created using the linear regression formula."
   ]
  },
  {
   "cell_type": "code",
   "execution_count": 3,
   "metadata": {
    "colab": {
     "base_uri": "https://localhost:8080/"
    },
    "id": "KbDG5MV7jhvE",
    "outputId": "c83122f9-a7f3-4415-b015-1b6a26264b07"
   },
   "outputs": [
    {
     "name": "stdout",
     "output_type": "stream",
     "text": [
      "Number of X samples: 100\n",
      "Number of y samples: 100\n",
      "First 10 X & y samples:\n",
      "X: tensor([0.0000, 0.0100, 0.0200, 0.0300, 0.0400, 0.0500, 0.0600, 0.0700, 0.0800,\n",
      "        0.0900])\n",
      "y: tensor([0.9000, 0.9030, 0.9060, 0.9090, 0.9120, 0.9150, 0.9180, 0.9210, 0.9240,\n",
      "        0.9270])\n"
     ]
    }
   ],
   "source": [
    "# Create the data parameters\n",
    "weight = 0.3\n",
    "bias = 0.9\n",
    "\n",
    "# Make X and y using linear regression feature\n",
    "X = torch.arange(0, 1, 0.01)\n",
    "y = (weight * X + bias)\n",
    "\n",
    "print(f\"Number of X samples: {len(X)}\")\n",
    "print(f\"Number of y samples: {len(y)}\")\n",
    "print(f\"First 10 X & y samples:\\nX: {X[:10]}\\ny: {y[:10]}\")"
   ]
  },
  {
   "cell_type": "code",
   "execution_count": 4,
   "metadata": {
    "colab": {
     "base_uri": "https://localhost:8080/"
    },
    "id": "GlwtT1djkmLw",
    "outputId": "20f83ca7-1b5e-436a-bf42-030a431bd314"
   },
   "outputs": [
    {
     "data": {
      "text/plain": [
       "(80, 80, 20, 20)"
      ]
     },
     "execution_count": 4,
     "metadata": {},
     "output_type": "execute_result"
    }
   ],
   "source": [
    "# Split the data into training and testing\n",
    "split = int(0.8 * len(X))\n",
    "\n",
    "train_X = X[:split]\n",
    "train_y = y[:split]\n",
    "\n",
    "test_X = X[split:]\n",
    "test_y = y[split:]\n",
    "len(train_X),len(train_y),len(test_X),len(test_y)"
   ]
  },
  {
   "cell_type": "code",
   "execution_count": 5,
   "metadata": {
    "colab": {
     "base_uri": "https://localhost:8080/",
     "height": 540
    },
    "id": "29iQZFNhlYJ-",
    "outputId": "3f730979-15bc-4bdd-d765-0e14ec7d35bb"
   },
   "outputs": [
    {
     "data": {
      "text/plain": [
       "<matplotlib.legend.Legend at 0x7562fee3f7a0>"
      ]
     },
     "execution_count": 5,
     "metadata": {},
     "output_type": "execute_result"
    },
    {
     "data": {
      "image/png": "[encoded data removed]",
      "text/plain": [
       "<Figure size 900x600 with 1 Axes>"
      ]
     },
     "metadata": {},
     "output_type": "display_data"
    }
   ],
   "source": [
    "# Plot the training and testing data\n",
    "fig = plt.figure(figsize=(9, 6))\n",
    "ax = fig.add_subplot()\n",
    "ax.plot(train_X, train_y, '.', label=\"train\")\n",
    "ax.plot(test_X, test_y, '.', label=\"test\")\n",
    "ax.legend()"
   ]
  },
  {
   "cell_type": "markdown",
   "metadata": {
    "id": "ImZoe3v8jif8"
   },
   "source": [
    "## 2. Build a PyTorch model by subclassing `nn.Module`.\n",
    "  * Inside should be a randomly initialized `nn.Parameter()` with `requires_grad=True`, one for `weights` and one for `bias`.\n",
    "  * Implement the `forward()` method to compute the linear regression function you used to create the dataset in 1.\n",
    "  * Once you've constructed the model, make an instance of it and check its `state_dict()`.\n",
    "  * **Note:** If you'd like to use `nn.Linear()` instead of `nn.Parameter()` you can."
   ]
  },
  {
   "cell_type": "code",
   "execution_count": 6,
   "metadata": {
    "id": "qzd__Y5rjtB8"
   },
   "outputs": [],
   "source": [
    "# Create PyTorch linear regression model by subclassing nn.Module\n",
    "class LinearRegression(nn.Module):\n",
    "    def __init__(self):\n",
    "        super().__init__()\n",
    "        self.weight = nn.Parameter(torch.randn(1))\n",
    "        self.bias = nn.Parameter(torch.randn(1))\n",
    "\n",
    "    def forward(self, x):\n",
    "        return self.weight * x + self.bias"
   ]
  },
  {
   "cell_type": "code",
   "execution_count": 7,
   "metadata": {
    "colab": {
     "base_uri": "https://localhost:8080/"
    },
    "id": "5LdcDnmOmyQ2",
    "outputId": "88815cef-de44-406c-affd-dd8b70b710de"
   },
   "outputs": [
    {
     "data": {
      "text/plain": [
       "OrderedDict([('weight', tensor([-0.2050], device='cuda:0')),\n",
       "             ('bias', tensor([1.2720], device='cuda:0'))])"
      ]
     },
     "execution_count": 7,
     "metadata": {},
     "output_type": "execute_result"
    }
   ],
   "source": [
    "# Instantiate the model and put it to the target device\n",
    "model = LinearRegression().to(device)\n",
    "model.state_dict()"
   ]
  },
  {
   "cell_type": "markdown",
   "metadata": {
    "id": "G6nYOrJhjtfu"
   },
   "source": [
    "## 3. Create a loss function and optimizer using `nn.L1Loss()` and `torch.optim.SGD(params, lr)` respectively.\n",
    "  * Set the learning rate of the optimizer to be 0.01 and the parameters to optimize should be the model parameters from the model you created in 2.\n",
    "  * Write a training loop to perform the appropriate training steps for 300 epochs.\n",
    "  * The training loop should test the model on the test dataset every 20 epochs."
   ]
  },
  {
   "cell_type": "code",
   "execution_count": 8,
   "metadata": {
    "id": "ltvoZ-FWjv1j"
   },
   "outputs": [],
   "source": [
    "# Create the loss function and optimizer\n",
    "loss_func = nn.L1Loss()\n",
    "optimizer = torch.optim.SGD(model.parameters(), 0.01)"
   ]
  },
  {
   "cell_type": "code",
   "execution_count": 9,
   "metadata": {
    "colab": {
     "base_uri": "https://localhost:8080/"
    },
    "id": "xpE83NvNnkdV",
    "outputId": "50196554-7034-428d-fc18-d652198ccedf"
   },
   "outputs": [
    {
     "name": "stdout",
     "output_type": "stream",
     "text": [
      "Epoch: 0 | Train loss: 0.175 | Test loss: 0.091\n",
      "Epoch: 20 | Train loss: 0.113 | Test loss: 0.200\n",
      "Epoch: 40 | Train loss: 0.101 | Test loss: 0.220\n",
      "Epoch: 60 | Train loss: 0.094 | Test loss: 0.215\n",
      "Epoch: 80 | Train loss: 0.087 | Test loss: 0.201\n",
      "Epoch: 100 | Train loss: 0.080 | Test loss: 0.186\n",
      "Epoch: 120 | Train loss: 0.074 | Test loss: 0.171\n",
      "Epoch: 140 | Train loss: 0.067 | Test loss: 0.155\n",
      "Epoch: 160 | Train loss: 0.060 | Test loss: 0.140\n",
      "Epoch: 180 | Train loss: 0.053 | Test loss: 0.124\n",
      "Epoch: 200 | Train loss: 0.046 | Test loss: 0.108\n",
      "Epoch: 220 | Train loss: 0.039 | Test loss: 0.092\n",
      "Epoch: 240 | Train loss: 0.032 | Test loss: 0.076\n",
      "Epoch: 260 | Train loss: 0.026 | Test loss: 0.060\n",
      "Epoch: 280 | Train loss: 0.019 | Test loss: 0.044\n"
     ]
    }
   ],
   "source": [
    "# Training loop\n",
    "train_X = train_X.to(device)\n",
    "train_y = train_y.to(device)\n",
    "\n",
    "test_X = test_X.to(device)\n",
    "test_y = test_y.to(device)\n",
    "\n",
    "for epoch in range(300):\n",
    "    model.train()\n",
    "\n",
    "    preds = model(train_X)\n",
    "    loss = loss_func(preds, train_y)\n",
    "    loss.backward()\n",
    "    optimizer.step()\n",
    "    optimizer.zero_grad()\n",
    "\n",
    "    if epoch % 20 == 0:\n",
    "        model.eval()\n",
    "        with torch.inference_mode():\n",
    "            preds = model(test_X)\n",
    "            test_loss = loss_func(preds, test_y)\n",
    "\n",
    "        print(f\"Epoch: {epoch} | Train loss: {loss:.3f} | Test loss: {test_loss:.3f}\")\n",
    "\n",
    "# Train model for 300 epochs\n",
    "\n",
    "\n",
    "# Send data to target device\n",
    "\n",
    "\n",
    "for epoch in range(0):\n",
    "  ### Training\n",
    "\n",
    "  # Put model in train mode\n",
    "\n",
    "\n",
    "  # 1. Forward pass\n",
    "\n",
    "\n",
    "  # 2. Calculate loss\n",
    "\n",
    "\n",
    "  # 3. Zero gradients\n",
    "\n",
    "\n",
    "  # 4. Backpropagation\n",
    "\n",
    "\n",
    "  # 5. Step the optimizer\n",
    "\n",
    "\n",
    "  ### Perform testing every 20 epochs\n",
    "  if epoch % 20 == 0:\n",
    "\n",
    "    # Put model in evaluation mode and setup inference context\n",
    "\n",
    "      # 1. Forward pass\n",
    "\n",
    "      # 2. Calculate test loss\n",
    "\n",
    "      # Print out what's happening\n",
    "      print(f\"Epoch: {epoch} | Train loss: {loss:.3f} | Test loss: {test_loss:.3f}\")"
   ]
  },
  {
   "cell_type": "markdown",
   "metadata": {
    "id": "x4j4TM18jwa7"
   },
   "source": [
    "## 4. Make predictions with the trained model on the test data.\n",
    "  * Visualize these predictions against the original training and testing data (**note:** you may need to make sure the predictions are *not* on the GPU if you want to use non-CUDA-enabled libraries such as matplotlib to plot)."
   ]
  },
  {
   "cell_type": "code",
   "execution_count": 10,
   "metadata": {
    "id": "bbMPK5Qjjyx_"
   },
   "outputs": [],
   "source": [
    "# Make predictions with the model\n",
    "model.eval()\n",
    "with torch.inference_mode():\n",
    "    train_preds = model(train_X).to(\"cpu\")\n",
    "    test_preds = model(test_X).to(\"cpu\")"
   ]
  },
  {
   "cell_type": "code",
   "execution_count": 11,
   "metadata": {
    "colab": {
     "base_uri": "https://localhost:8080/",
     "height": 540
    },
    "id": "K3BdmQaDpFo8",
    "outputId": "4c9d1ca3-586d-4955-d0b2-9dc6d663a16d"
   },
   "outputs": [
    {
     "data": {
      "text/plain": [
       "<matplotlib.legend.Legend at 0x7562801d39e0>"
      ]
     },
     "execution_count": 11,
     "metadata": {},
     "output_type": "execute_result"
    },
    {
     "data": {
      "image/png": "[encoded data removed]",
      "text/plain": [
       "<Figure size 900x600 with 1 Axes>"
      ]
     },
     "metadata": {},
     "output_type": "display_data"
    }
   ],
   "source": [
    "# Plot the predictions (these may need to be on a specific device)\n",
    "fig = plt.figure(figsize=(9, 6))\n",
    "ax = fig.add_subplot()\n",
    "ax.plot(train_X.to(\"cpu\"), train_y.to(\"cpu\"), label=\"train\")\n",
    "ax.plot(test_X.to(\"cpu\"), test_y.to(\"cpu\"), label=\"test\")\n",
    "ax.plot(train_X.to(\"cpu\"), train_preds.to(\"cpu\"), label=\"train_preds\")\n",
    "ax.plot(test_X.to(\"cpu\"), test_preds.to(\"cpu\"), label=\"test_preds\")\n",
    "ax.legend()"
   ]
  },
  {
   "cell_type": "markdown",
   "metadata": {
    "id": "s2OnlMWKjzX8"
   },
   "source": [
    "## 5. Save your trained model's `state_dict()` to file.\n",
    "  * Create a new instance of your model class you made in 2. and load in the `state_dict()` you just saved to it.\n",
    "  * Perform predictions on your test data with the loaded model and confirm they match the original model predictions from 4."
   ]
  },
  {
   "cell_type": "code",
   "execution_count": 12,
   "metadata": {
    "id": "hgxhgD14qr-i"
   },
   "outputs": [],
   "source": [
    "from pathlib import Path\n",
    "\n",
    "# 1. Create models directory\n",
    "dir = Path(\"models\")\n",
    "\n",
    "# 2. Create model save path\n",
    "dir.mkdir(parents=True, exist_ok=True)\n",
    "\n",
    "# 3. Save the model state dict\n",
    "model_path = dir / \"lin_reg.pth\"\n",
    "torch.save(model.state_dict(), model_path)"
   ]
  },
  {
   "cell_type": "code",
   "execution_count": 13,
   "metadata": {
    "colab": {
     "base_uri": "https://localhost:8080/"
    },
    "id": "P9vTgiLRrJ7T",
    "outputId": "d46a98ce-d11c-4008-b6d8-ae0530541921"
   },
   "outputs": [
    {
     "name": "stderr",
     "output_type": "stream",
     "text": [
      "/tmp/ipykernel_4060/3278195737.py:3: FutureWarning: You are using `torch.load` with `weights_only=False` (the current default value), which uses the default pickle module implicitly. It is possible to construct malicious pickle data which will execute arbitrary code during unpickling (See https://github.com/pytorch/pytorch/blob/main/SECURITY.md#untrusted-models for more details). In a future release, the default value for `weights_only` will be flipped to `True`. This limits the functions that could be executed during unpickling. Arbitrary objects will no longer be allowed to be loaded via this mode unless they are explicitly allowlisted by the user via `torch.serialization.add_safe_globals`. We recommend you start setting `weights_only=True` for any use case where you don't have full control of the loaded file. Please open an issue on GitHub for any issues related to this experimental feature.\n",
      "  model2.load_state_dict(torch.load(model_path))\n"
     ]
    },
    {
     "data": {
      "text/plain": [
       "<All keys matched successfully>"
      ]
     },
     "execution_count": 13,
     "metadata": {},
     "output_type": "execute_result"
    }
   ],
   "source": [
    "# Create new instance of model and load saved state dict (make sure to put it on the target device)\n",
    "model2 = LinearRegression().to(device)\n",
    "model2.load_state_dict(torch.load(model_path))"
   ]
  },
  {
   "cell_type": "code",
   "execution_count": 14,
   "metadata": {
    "colab": {
     "base_uri": "https://localhost:8080/"
    },
    "id": "8UGX3VebrVtI",
    "outputId": "12e90275-5829-47d4-caa9-0bdd0d69b6a1"
   },
   "outputs": [
    {
     "data": {
      "text/plain": [
       "(tensor(True), tensor(True))"
      ]
     },
     "execution_count": 14,
     "metadata": {},
     "output_type": "execute_result"
    }
   ],
   "source": [
    "# Make predictions with loaded model and compare them to the previous\n",
    "model2.eval()\n",
    "with torch.inference_mode():\n",
    "    new_train_preds = model(train_X).to(\"cpu\")\n",
    "    new_test_preds = model(test_X).to(\"cpu\")\n",
    "\n",
    "(train_preds == new_train_preds).all(), (test_preds == new_test_preds).all()"
   ]
  },
  {
   "cell_type": "code",
   "execution_count": null,
   "metadata": {
    "id": "LlDA0K9z09Gn"
   },
   "outputs": [],
   "source": []
  }
 ],
 "metadata": {
  "colab": {
   "name": "01_pytorch_workflow_exercises.ipynb",
   "provenance": []
  },
  "kernelspec": {
   "display_name": "Python 3 (ipykernel)",
   "language": "python",
   "name": "python3"
  },
  "language_info": {
   "codemirror_mode": {
    "name": "ipython",
    "version": 3
   },
   "file_extension": ".py",
   "mimetype": "text/x-python",
   "name": "python",
   "nbconvert_exporter": "python",
   "pygments_lexer": "ipython3",
   "version": "3.12.4"
  }
 },
 "nbformat": 4,
 "nbformat_minor": 4
}
