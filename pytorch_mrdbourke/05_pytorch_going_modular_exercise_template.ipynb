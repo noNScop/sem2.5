{
 "cells": [
  {
   "cell_type": "markdown",
   "metadata": {
    "colab_type": "text",
    "id": "view-in-github"
   },
   "source": [
    "<a href=\"https://colab.research.google.com/github/mrdbourke/pytorch-deep-learning/blob/main/extras/exercises/05_pytorch_going_modular_exercise_template.ipynb\" target=\"_parent\"><img src=\"https://colab.research.google.com/assets/colab-badge.svg\" alt=\"Open In Colab\"/></a>"
   ]
  },
  {
   "cell_type": "markdown",
   "metadata": {
    "id": "zNqPNlYylluR"
   },
   "source": [
    "# 05. PyTorch Going Modular Exercises\n",
    "\n",
    "Welcome to the 05. PyTorch Going Modular exercise template notebook.\n",
    "\n",
    "There are several questions in this notebook and it's your goal to answer them by writing Python and PyTorch code.\n",
    "\n",
    "> **Note:** There may be more than one solution to each of the exercises, don't worry too much about the *exact* right answer. Try to write some code that works first and then improve it if you can.\n",
    "\n",
    "## Resources and solutions\n",
    "\n",
    "* These exercises/solutions are based on [section 05. PyTorch Going Modular](https://www.learnpytorch.io/05_pytorch_going_modular/) of the Learn PyTorch for Deep Learning course by Zero to Mastery.\n",
    "\n",
    "**Solutions:** \n",
    "\n",
    "Try to complete the code below *before* looking at these.\n",
    "\n",
    "* See a live [walkthrough of the solutions (errors and all) on YouTube](https://youtu.be/ijgFhMK3pp4).\n",
    "* See an example [solutions notebook for these exercises on GitHub](https://github.com/mrdbourke/pytorch-deep-learning/blob/main/extras/solutions/05_pytorch_going_modular_exercise_solutions.ipynb)."
   ]
  },
  {
   "cell_type": "markdown",
   "metadata": {
    "id": "bicbWSrPmfTU"
   },
   "source": [
    "## 1. Turn the code to get the data (from section 1. Get Data) into a Python script, such as `get_data.py`.\n",
    "\n",
    "* When you run the script using `python get_data.py` it should check if the data already exists and skip downloading if it does.\n",
    "* If the data download is successful, you should be able to access the `pizza_steak_sushi` images from the `data` directory."
   ]
  },
  {
   "cell_type": "code",
   "execution_count": 15,
   "metadata": {
    "id": "r0BCn1XIYZ8c"
   },
   "outputs": [
    {
     "name": "stdout",
     "output_type": "stream",
     "text": [
      "Overwriting /home/vertex/Desktop/pytorch-deep-learning/going_modular/going_modular/get_data.py\n"
     ]
    }
   ],
   "source": [
    "%%writefile /home/vertex/Desktop/pytorch-deep-learning/going_modular/going_modular/get_data.py\n",
    "import os\n",
    "from pathlib import Path\n",
    "import requests\n",
    "import zipfile\n",
    "import sys\n",
    "\n",
    "def main():\n",
    "    data_path = Path(\"/home/vertex/Desktop/pytorch-deep-learning/going_modular/data/pizza_steak_sushi\")\n",
    "    if data_path.is_dir():\n",
    "        print(\"pizza_steak_sushi dataset already exists\")\n",
    "        return\n",
    "\n",
    "    print(f\"Couldn't find the {data_path} directory, creating a new one and downloading the dataset...\")\n",
    "    data_path.mkdir(parents=True, exist_ok=True)\n",
    "    \n",
    "    with open(data_path / \"pizza_steak_sushi.zip\", \"wb\") as f:\n",
    "        request = requests.get(\"https://github.com/mrdbourke/pytorch-deep-learning/raw/main/data/pizza_steak_sushi.zip\")\n",
    "        f.write(request.content)\n",
    "\n",
    "    with zipfile.ZipFile(data_path / \"pizza_steak_sushi.zip\", \"r\") as zip_ref:\n",
    "        zip_ref.extractall(data_path)\n",
    "\n",
    "    os.remove(data_path / \"pizza_steak_sushi.zip\")\n",
    "    \n",
    "main()"
   ]
  },
  {
   "cell_type": "code",
   "execution_count": 17,
   "metadata": {
    "id": "_LrUOIC-YOP9"
   },
   "outputs": [
    {
     "name": "stdout",
     "output_type": "stream",
     "text": [
      "Couldn't find the /home/vertex/Desktop/pytorch-deep-learning/going_modular/data/pizza_steak_sushi directory, creating a new one and downloading the dataset...\n"
     ]
    }
   ],
   "source": [
    "# Example running of get_data.py\n",
    "!python /home/vertex/Desktop/pytorch-deep-learning/going_modular/going_modular/get_data.py"
   ]
  },
  {
   "cell_type": "code",
   "execution_count": 22,
   "metadata": {},
   "outputs": [
    {
     "name": "stdout",
     "output_type": "stream",
     "text": [
      "pizza_steak_sushi | number of directories: 2, number of files: 0\n",
      "train | number of directories: 3, number of files: 0\n",
      "pizza | number of directories: 0, number of files: 78\n",
      "sushi | number of directories: 0, number of files: 72\n",
      "steak | number of directories: 0, number of files: 75\n",
      "test | number of directories: 3, number of files: 0\n",
      "pizza | number of directories: 0, number of files: 25\n",
      "sushi | number of directories: 0, number of files: 31\n",
      "steak | number of directories: 0, number of files: 19\n"
     ]
    }
   ],
   "source": [
    "for dirpath, dirnames, filenames in os.walk(\"/home/vertex/Desktop/pytorch-deep-learning/going_modular/data/pizza_steak_sushi\"):\n",
    "    print(f\"{Path(dirpath).name} | number of directories: {len(dirnames)}, number of files: {len(filenames)}\")"
   ]
  },
  {
   "cell_type": "markdown",
   "metadata": {
    "id": "zjyn7LU3mvkR"
   },
   "source": [
    "## 2. Use [Python's `argparse` module](https://docs.python.org/3/library/argparse.html) to be able to send the `train.py` custom hyperparameter values for training procedures.\n",
    "* Add an argument flag for using a different:\n",
    "  * Training/testing directory\n",
    "  * Learning rate\n",
    "  * Batch size\n",
    "  * Number of epochs to train for\n",
    "  * Number of hidden units in the TinyVGG model\n",
    "    * Keep the default values for each of the above arguments as what they already are (as in notebook 05).\n",
    "* For example, you should be able to run something similar to the following line to train a TinyVGG model with a learning rate of 0.003 and a batch size of 64 for 20 epochs: `python train.py --learning_rate 0.003 batch_size 64 num_epochs 20`.\n",
    "* **Note:** Since `train.py` leverages the other scripts we created in section 05, such as, `model_builder.py`, `utils.py` and `engine.py`, you'll have to make sure they're available to use too. You can find these in the [`going_modular` folder on the course GitHub](https://github.com/mrdbourke/pytorch-deep-learning/tree/main/going_modular/going_modular). "
   ]
  },
  {
   "cell_type": "code",
   "execution_count": 1,
   "metadata": {
    "id": "MKNDUp45YaW-"
   },
   "outputs": [
    {
     "name": "stdout",
     "output_type": "stream",
     "text": [
      "Overwriting /home/vertex/Desktop/pytorch-deep-learning/going_modular/going_modular/train.py\n"
     ]
    }
   ],
   "source": [
    "%%writefile /home/vertex/Desktop/pytorch-deep-learning/going_modular/going_modular/train.py\n",
    "\"\"\"\n",
    "Trains a PyTorch image classification model using device-agnostic code.\n",
    "\"\"\"\n",
    "\n",
    "import os\n",
    "\n",
    "import torch\n",
    "\n",
    "from torchvision import transforms\n",
    "\n",
    "import data_setup, engine, model_builder, utils\n",
    "\n",
    "import argparse\n",
    "\n",
    "parser = argparse.ArgumentParser()\n",
    "parser.add_argument(\"--train_dir\", default=\"/home/vertex/Desktop/pytorch-deep-learning/going_modular/data/pizza_steak_sushi/train\")\n",
    "parser.add_argument(\"--test_dir\", default=\"/home/vertex/Desktop/pytorch-deep-learning/going_modular/data/pizza_steak_sushi/test\")\n",
    "parser.add_argument(\"--learning_rate\", default=0.001, type=float)\n",
    "parser.add_argument(\"--batch_size\", default=32, type=int)\n",
    "parser.add_argument(\"--num_epochs\", default=5, type=int)\n",
    "parser.add_argument(\"--hidden_units\", default=10, type=int)\n",
    "\n",
    "args = parser.parse_args()\n",
    "\n",
    "# Setup hyperparameters\n",
    "NUM_EPOCHS = args.num_epochs\n",
    "BATCH_SIZE = args.batch_size\n",
    "HIDDEN_UNITS = args.hidden_units\n",
    "LEARNING_RATE = args.learning_rate\n",
    "\n",
    "# Setup directories\n",
    "train_dir = args.train_dir\n",
    "test_dir = args.test_dir\n",
    "\n",
    "# Setup target device\n",
    "device = \"cuda\" if torch.cuda.is_available() else \"cpu\"\n",
    "\n",
    "# Create transforms\n",
    "data_transform = transforms.Compose([\n",
    "  transforms.Resize((64, 64)),\n",
    "  transforms.ToTensor()\n",
    "])\n",
    "\n",
    "# Create DataLoaders with help from data_setup.py\n",
    "train_dataloader, test_dataloader, class_names = data_setup.create_dataloaders(\n",
    "    train_dir=train_dir,\n",
    "    test_dir=test_dir,\n",
    "    transform=data_transform,\n",
    "    batch_size=BATCH_SIZE\n",
    ")\n",
    "\n",
    "# Create model with help from model_builder.py\n",
    "model = model_builder.TinyVGG(\n",
    "    input_shape=3,\n",
    "    hidden_units=HIDDEN_UNITS,\n",
    "    output_shape=len(class_names)\n",
    ").to(device)\n",
    "\n",
    "# Set loss and optimizer\n",
    "loss_fn = torch.nn.CrossEntropyLoss()\n",
    "optimizer = torch.optim.Adam(model.parameters(),\n",
    "                             lr=LEARNING_RATE)\n",
    "\n",
    "# Start training with help from engine.py\n",
    "engine.train(model=model,\n",
    "             train_dataloader=train_dataloader,\n",
    "             test_dataloader=test_dataloader,\n",
    "             loss_fn=loss_fn,\n",
    "             optimizer=optimizer,\n",
    "             epochs=NUM_EPOCHS,\n",
    "             device=device)\n",
    "\n",
    "# Save the model with help from utils.py\n",
    "utils.save_model(model=model,\n",
    "                 target_dir=\"models\",\n",
    "                 model_name=\"05_going_modular_script_mode_tinyvgg_model.pth\")"
   ]
  },
  {
   "cell_type": "code",
   "execution_count": 2,
   "metadata": {
    "id": "LzaJl39lC40N"
   },
   "outputs": [
    {
     "name": "stdout",
     "output_type": "stream",
     "text": [
      "  0%|                                                     | 0/5 [00:00<?, ?it/s]Epoch: 1 | train_loss: 1.0974 | train_acc: 0.3576 | test_loss: 1.0900 | test_acc: 0.3333\n",
      " 20%|█████████                                    | 1/5 [00:01<00:04,  1.15s/it]Epoch: 2 | train_loss: 1.0767 | train_acc: 0.3781 | test_loss: 1.0700 | test_acc: 0.3733\n",
      " 40%|██████████████████                           | 2/5 [00:02<00:03,  1.04s/it]Epoch: 3 | train_loss: 1.0338 | train_acc: 0.5049 | test_loss: 1.0192 | test_acc: 0.4800\n",
      " 60%|███████████████████████████                  | 3/5 [00:03<00:02,  1.00s/it]Epoch: 4 | train_loss: 0.9851 | train_acc: 0.5237 | test_loss: 1.0033 | test_acc: 0.4933\n",
      " 80%|████████████████████████████████████         | 4/5 [00:04<00:00,  1.01it/s]Epoch: 5 | train_loss: 0.9070 | train_acc: 0.5388 | test_loss: 0.9791 | test_acc: 0.4533\n",
      "100%|█████████████████████████████████████████████| 5/5 [00:04<00:00,  1.00it/s]\n",
      "[INFO] Saving model to: models/05_going_modular_script_mode_tinyvgg_model.pth\n"
     ]
    }
   ],
   "source": [
    "# Example running of train.py\n",
    "!python /home/vertex/Desktop/pytorch-deep-learning/going_modular/going_modular/train.py --num_epochs 5 --batch_size 128 --hidden_units 128 --learning_rate 0.0003"
   ]
  },
  {
   "cell_type": "markdown",
   "metadata": {
    "id": "P2g6EEYvm-46"
   },
   "source": [
    "## 3. Create a Python script to predict (such as `predict.py`) on a target image given a file path with a saved model.\n",
    "\n",
    "* For example, you should be able to run the command `python predict.py some_image.jpeg` and have a trained PyTorch model predict on the image and return its prediction.\n",
    "* To see example prediction code, check out the [predicting on a custom image section in notebook 04](https://www.learnpytorch.io/04_pytorch_custom_datasets/#113-putting-custom-image-prediction-together-building-a-function). \n",
    "* You may also have to write code to load in a trained model."
   ]
  },
  {
   "cell_type": "code",
   "execution_count": 53,
   "metadata": {
    "id": "HU7W6VZfYawP"
   },
   "outputs": [
    {
     "name": "stdout",
     "output_type": "stream",
     "text": [
      "Overwriting /home/vertex/Desktop/pytorch-deep-learning/going_modular/going_modular/predict.py\n"
     ]
    }
   ],
   "source": [
    "%%writefile /home/vertex/Desktop/pytorch-deep-learning/going_modular/going_modular/predict.py\n",
    "import argparse\n",
    "from pathlib import Path\n",
    "from torchvision import transforms\n",
    "import data_setup, model_builder\n",
    "from PIL import Image\n",
    "import torch\n",
    "import matplotlib.pyplot as plt\n",
    "import matplotlib\n",
    "import numpy as np\n",
    "np.set_printoptions(precision=2)\n",
    "\n",
    "matplotlib.use('TkAgg')\n",
    "\n",
    "device = \"cuda\" if torch.cuda.is_available() else \"cpu\"\n",
    "parser = argparse.ArgumentParser()\n",
    "parser.add_argument(\"--image\")\n",
    "\n",
    "args = parser.parse_args()\n",
    "img_path = Path(args.image)\n",
    "\n",
    "data_transform = transforms.Compose([\n",
    "  transforms.Resize((64, 64)),\n",
    "  transforms.ToTensor()\n",
    "])\n",
    "\n",
    "train_dir = \"/home/vertex/Desktop/pytorch-deep-learning/going_modular/data/pizza_steak_sushi/train\"\n",
    "test_dir = \"/home/vertex/Desktop/pytorch-deep-learning/going_modular/data/pizza_steak_sushi/test\"\n",
    "BATCH_SIZE = 32\n",
    "HIDDEN_UNITS = 10\n",
    "\n",
    "_, _, class_names = data_setup.create_dataloaders(\n",
    "    train_dir=train_dir,\n",
    "    test_dir=test_dir,\n",
    "    transform=data_transform,\n",
    "    batch_size=BATCH_SIZE\n",
    ")\n",
    "\n",
    "img = Image.open(img_path)\n",
    "\n",
    "model = model_builder.TinyVGG(\n",
    "    input_shape=3,\n",
    "    hidden_units=HIDDEN_UNITS,\n",
    "    output_shape=len(class_names)\n",
    ").to(device)\n",
    "\n",
    "model.load_state_dict(torch.load(\"/home/vertex/Desktop/pytorch-deep-learning/going_modular/models/05_going_modular_script_mode_tinyvgg_model.pth\"))\n",
    "model.eval()\n",
    "with torch.inference_mode():\n",
    "    out = model(data_transform(img).unsqueeze(0).to(device)).squeeze()\n",
    "    pred = class_names[out.argmax()]\n",
    "\n",
    "print(f\"Predicted class: {pred}\")\n",
    "fig = plt.figure()\n",
    "ax = fig.add_subplot(1, 2, 1)\n",
    "ax.set_title(\"Original:\")\n",
    "ax.axis(False)\n",
    "ax.imshow(img)\n",
    "\n",
    "ax = fig.add_subplot(1, 2, 2)\n",
    "ax.set_title(\"Transformed:\\n\"\n",
    "             \"(probabilities)\\n\"\n",
    "             f\"{out.softmax(0).cpu().numpy()}\")\n",
    "ax.axis(False)\n",
    "ax.imshow(data_transform(img).permute(1, 2, 0))\n",
    "fig.suptitle(f\"Class: {pred}\")\n",
    "plt.show()"
   ]
  },
  {
   "cell_type": "code",
   "execution_count": 54,
   "metadata": {
    "id": "Zcvw9sitIn6r"
   },
   "outputs": [
    {
     "name": "stdout",
     "output_type": "stream",
     "text": [
      "/home/vertex/Desktop/pytorch-deep-learning/going_modular/going_modular/predict.py:46: FutureWarning: You are using `torch.load` with `weights_only=False` (the current default value), which uses the default pickle module implicitly. It is possible to construct malicious pickle data which will execute arbitrary code during unpickling (See https://github.com/pytorch/pytorch/blob/main/SECURITY.md#untrusted-models for more details). In a future release, the default value for `weights_only` will be flipped to `True`. This limits the functions that could be executed during unpickling. Arbitrary objects will no longer be allowed to be loaded via this mode unless they are explicitly allowlisted by the user via `torch.serialization.add_safe_globals`. We recommend you start setting `weights_only=True` for any use case where you don't have full control of the loaded file. Please open an issue on GitHub for any issues related to this experimental feature.\n",
      "  model.load_state_dict(torch.load(\"/home/vertex/Desktop/pytorch-deep-learning/going_modular/models/05_going_modular_script_mode_tinyvgg_model.pth\"))\n",
      "Predicted class: sushi\n"
     ]
    }
   ],
   "source": [
    "# Example running of predict.py \n",
    "!python /home/vertex/Desktop/pytorch-deep-learning/going_modular/going_modular/predict.py --image /home/vertex/Desktop/pytorch-deep-learning/going_modular/data/pizza_steak_sushi/test/sushi/175783.jpg"
   ]
  },
  {
   "cell_type": "code",
   "execution_count": null,
   "metadata": {},
   "outputs": [],
   "source": []
  }
 ],
 "metadata": {
  "accelerator": "GPU",
  "colab": {
   "authorship_tag": "ABX9TyNcX0JATB1YsaAFGNe0TGWq",
   "collapsed_sections": [],
   "include_colab_link": true,
   "name": "05_pytorch_going_modular_exercise_template.ipynb",
   "provenance": []
  },
  "kernelspec": {
   "display_name": "Python 3 (ipykernel)",
   "language": "python",
   "name": "python3"
  },
  "language_info": {
   "codemirror_mode": {
    "name": "ipython",
    "version": 3
   },
   "file_extension": ".py",
   "mimetype": "text/x-python",
   "name": "python",
   "nbconvert_exporter": "python",
   "pygments_lexer": "ipython3",
   "version": "3.12.5"
  }
 },
 "nbformat": 4,
 "nbformat_minor": 4
}
