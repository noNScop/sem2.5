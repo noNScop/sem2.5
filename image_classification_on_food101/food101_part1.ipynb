{
 "cells": [
  {
   "cell_type": "markdown",
   "id": "50550e4f-4c0d-4df3-99c0-d4345df90130",
   "metadata": {},
   "source": [
    "# EffNet_B5 vs EffNetV2-S on Food101 images"
   ]
  },
  {
   "cell_type": "code",
   "execution_count": 31,
   "id": "cbd0cb4e-af8a-4b2b-8886-5b1b7243c754",
   "metadata": {},
   "outputs": [],
   "source": [
    "import pandas as pd\n",
    "import torch"
   ]
  },
  {
   "cell_type": "code",
   "execution_count": 32,
   "id": "b9a8ff03-3eff-453d-a7d3-4dd7cdd95e54",
   "metadata": {},
   "outputs": [],
   "source": [
    "names = [\"EfficientNet_B5\", \"EfficientNetV2-S\"]\n",
    "stats = {'top_1_acc': [83.444, 84.228],\n",
    "         'top_5_acc': [96.628, 96.878],\n",
    "         'params': [\"30.4M\", \"21.5M\"]}"
   ]
  },
  {
   "cell_type": "code",
   "execution_count": 33,
   "id": "79b59ec1-fedc-40c6-b20f-c1fe1a899c8a",
   "metadata": {},
   "outputs": [
    {
     "data": {
      "text/html": [
       "<div>\n",
       "<style scoped>\n",
       "    .dataframe tbody tr th:only-of-type {\n",
       "        vertical-align: middle;\n",
       "    }\n",
       "\n",
       "    .dataframe tbody tr th {\n",
       "        vertical-align: top;\n",
       "    }\n",
       "\n",
       "    .dataframe thead th {\n",
       "        text-align: right;\n",
       "    }\n",
       "</style>\n",
       "<table border=\"1\" class=\"dataframe\">\n",
       "  <thead>\n",
       "    <tr style=\"text-align: right;\">\n",
       "      <th></th>\n",
       "      <th>EfficientNet_B5</th>\n",
       "      <th>EfficientNetV2-S</th>\n",
       "    </tr>\n",
       "  </thead>\n",
       "  <tbody>\n",
       "    <tr>\n",
       "      <th>top_1_acc</th>\n",
       "      <td>83.444</td>\n",
       "      <td>84.228</td>\n",
       "    </tr>\n",
       "    <tr>\n",
       "      <th>top_5_acc</th>\n",
       "      <td>96.628</td>\n",
       "      <td>96.878</td>\n",
       "    </tr>\n",
       "    <tr>\n",
       "      <th>params</th>\n",
       "      <td>30.4M</td>\n",
       "      <td>21.5M</td>\n",
       "    </tr>\n",
       "  </tbody>\n",
       "</table>\n",
       "</div>"
      ],
      "text/plain": [
       "          EfficientNet_B5 EfficientNetV2-S\n",
       "top_1_acc          83.444           84.228\n",
       "top_5_acc          96.628           96.878\n",
       "params              30.4M            21.5M"
      ]
     },
     "execution_count": 33,
     "metadata": {},
     "output_type": "execute_result"
    }
   ],
   "source": [
    "stats = pd.DataFrame(stats).T\n",
    "stats.columns = names\n",
    "stats"
   ]
  },
  {
   "cell_type": "markdown",
   "id": "43b5b4be-349f-4f0d-b8fd-1fd02a3aabac",
   "metadata": {},
   "source": [
    "I decided to see how these 2 perform on Food101 data, because as it can be seen in the table above, even though EfficientNetV2-S has ~30% less parameters, it outperforms EfficientNet_B5 on ImageNet-1K. Let's see how this difference transfers to Food101 images."
   ]
  },
  {
   "cell_type": "code",
   "execution_count": 34,
   "id": "dca65270-710f-4d60-841e-0e684da1caf5",
   "metadata": {},
   "outputs": [
    {
     "data": {
      "text/plain": [
       "'cuda'"
      ]
     },
     "execution_count": 34,
     "metadata": {},
     "output_type": "execute_result"
    }
   ],
   "source": [
    "device = \"cuda\" if torch.cuda.is_available() else \"cpu\"\n",
    "device"
   ]
  },
  {
   "cell_type": "markdown",
   "id": "7ef6a6c5-c5bd-4bcd-85ea-fd6152934b30",
   "metadata": {},
   "source": [
    "## Prepare the data"
   ]
  },
  {
   "cell_type": "code",
   "execution_count": 35,
   "id": "90454689-8f90-42bb-9aa7-ca1fbf49b3a4",
   "metadata": {},
   "outputs": [],
   "source": [
    "import torchvision\n",
    "import random\n",
    "import os\n",
    "import shutil"
   ]
  },
  {
   "cell_type": "markdown",
   "id": "97fcc22d-0d86-449d-817c-4efc20dfbf51",
   "metadata": {},
   "source": [
    "### Download"
   ]
  },
  {
   "cell_type": "code",
   "execution_count": 36,
   "id": "1ab21917-1637-4cb1-bbb5-290147fcaf4b",
   "metadata": {},
   "outputs": [],
   "source": [
    "ds = torchvision.datasets.Food101(\"data\", download=True)"
   ]
  },
  {
   "cell_type": "markdown",
   "id": "2152ca1e-c309-46c9-98c6-c840e8e5b080",
   "metadata": {},
   "source": [
    "### Create a subset containing 20% of the full dataset"
   ]
  },
  {
   "cell_type": "markdown",
   "id": "d6f673ab-29c4-4e8f-9efc-76a1ee21bf7d",
   "metadata": {},
   "source": [
    "The full dataset is too big for experimenting, but I want to compare EfficientNet_B5 to EfficientNetV2-S and tune the hyperparameters before the final training, therefore I will create smaller subset to speed things up."
   ]
  },
  {
   "cell_type": "code",
   "execution_count": 37,
   "id": "f2d0eabc-aa16-4a30-8168-aa9fc174c0a3",
   "metadata": {
    "scrolled": true
   },
   "outputs": [],
   "source": [
    "random.seed(17)\n",
    "train_ratio = 0.75\n",
    "source_dir = \"data/food-101/images\"\n",
    "target_dir = \"data/food101_20_percent\"\n",
    "\n",
    "for dir_name in ds.classes:\n",
    "    source = os.path.join(source_dir, dir_name)\n",
    "    train_destination = os.path.join(target_dir, \"train\", dir_name)\n",
    "    valid_destination = os.path.join(target_dir, \"valid\", dir_name)\n",
    "\n",
    "    if os.path.exists(source) and os.path.isdir(source):\n",
    "        os.makedirs(train_destination, exist_ok=True)\n",
    "        os.makedirs(valid_destination, exist_ok=True)\n",
    "\n",
    "        all_images = os.listdir(source)\n",
    "        random.shuffle(all_images)\n",
    "\n",
    "        split_idx = int(len(all_images) * train_ratio)\n",
    "        train_images = all_images[:split_idx:5]\n",
    "        valid_images = all_images[split_idx::5]\n",
    "        # print(len(train_images), len(valid_images))\n",
    "\n",
    "        for image in train_images:\n",
    "            src_image_path = os.path.join(source, image)\n",
    "            dst_image_path = os.path.join(train_destination, image)\n",
    "            shutil.copy2(src_image_path, dst_image_path)\n",
    "        \n",
    "        for image in valid_images:\n",
    "            src_image_path = os.path.join(source, image)\n",
    "            dst_image_path = os.path.join(valid_destination, image)\n",
    "            shutil.copy2(src_image_path, dst_image_path)"
   ]
  },
  {
   "cell_type": "markdown",
   "id": "5f478e0b-3b1b-4f1e-a6c2-3cdf8580b547",
   "metadata": {},
   "source": [
    "## Models:"
   ]
  },
  {
   "cell_type": "code",
   "execution_count": 38,
   "id": "a5176756-9d55-4689-9566-2bcfc5d587d0",
   "metadata": {},
   "outputs": [],
   "source": [
    "from torch import nn\n",
    "from torchinfo import summary"
   ]
  },
  {
   "cell_type": "code",
   "execution_count": 39,
   "id": "c47f0dca-fbe1-4fa2-9402-be7572c9afe9",
   "metadata": {},
   "outputs": [],
   "source": [
    "# weights = torchvision.models.EfficientNet_B5_Weights.DEFAULT\n",
    "# model = torchvision.models.efficientnet_b5(weights=weights).to(device)\n",
    "\n",
    "# for p in model.features.parameters():\n",
    "#     p.requires_grad = False\n",
    "\n",
    "# model.classifier = nn.Sequential(\n",
    "#     nn.Dropout(p=0.4, inplace=True),\n",
    "#     nn.Linear(2048, 101)\n",
    "# ).to(device)\n",
    "\n",
    "# summary(model, input_size=(32, 3, 224, 224), col_width=20, row_settings=[\"var_names\"],\n",
    "#         col_names=[\"input_size\", \"output_size\", \"num_params\", \"trainable\"]), model.classifier"
   ]
  },
  {
   "cell_type": "code",
   "execution_count": 40,
   "id": "267d5e6b-ef86-4a0a-85c1-34392e636a06",
   "metadata": {},
   "outputs": [],
   "source": [
    "def create_effnetb5():\n",
    "    weights = torchvision.models.EfficientNet_B5_Weights.DEFAULT\n",
    "    model = torchvision.models.efficientnet_b5(weights=weights).to(device)\n",
    "    \n",
    "    for p in model.features.parameters():\n",
    "        p.requires_grad = False\n",
    "    \n",
    "    model.classifier = nn.Sequential(\n",
    "        nn.Dropout(p=0.4, inplace=True),\n",
    "        nn.Linear(2048, 101)\n",
    "    ).to(device)\n",
    "    \n",
    "    return model"
   ]
  },
  {
   "cell_type": "code",
   "execution_count": 41,
   "id": "b6a704c3-635d-4365-911a-315a7d105713",
   "metadata": {},
   "outputs": [],
   "source": [
    "# weights = torchvision.models.EfficientNet_V2_S_Weights.DEFAULT\n",
    "# model = torchvision.models.efficientnet_v2_s(weights=weights).to(device)\n",
    "\n",
    "# for p in model.features.parameters():\n",
    "#     p.requires_grad = False\n",
    "\n",
    "# model.classifier = nn.Sequential(\n",
    "#     nn.Dropout(p=0.2, inplace=True),\n",
    "#     nn.Linear(1280, 101)\n",
    "# ).to(device)\n",
    "\n",
    "# summary(model, input_size=(32, 3, 224, 224), col_width=20, row_settings=[\"var_names\"],\n",
    "#         col_names=[\"input_size\", \"output_size\", \"num_params\", \"trainable\"]), model.classifier"
   ]
  },
  {
   "cell_type": "code",
   "execution_count": 42,
   "id": "45e2a291-8c8e-42ae-bbec-f3ba01d04355",
   "metadata": {},
   "outputs": [],
   "source": [
    "def create_effnet_v2s():\n",
    "    weights = torchvision.models.EfficientNet_V2_S_Weights.DEFAULT\n",
    "    model = torchvision.models.efficientnet_v2_s(weights=weights).to(device)\n",
    "    \n",
    "    for p in model.features.parameters():\n",
    "        p.requires_grad = False\n",
    "    \n",
    "    model.classifier = nn.Sequential(\n",
    "        nn.Dropout(p=0.2, inplace=True),\n",
    "        nn.Linear(1280, 101)\n",
    "    ).to(device)\n",
    "    \n",
    "    return model"
   ]
  },
  {
   "cell_type": "markdown",
   "id": "30c8d6be-47f5-4ecb-9adb-0926937f915e",
   "metadata": {},
   "source": [
    "## Load the data"
   ]
  },
  {
   "cell_type": "code",
   "execution_count": 43,
   "id": "a1e14b26-fb42-425c-90fe-93967cdd4276",
   "metadata": {},
   "outputs": [],
   "source": [
    "from torchvision.datasets import ImageFolder\n",
    "from torch.utils.data import DataLoader"
   ]
  },
  {
   "cell_type": "markdown",
   "id": "deac710c-1719-42dc-adc7-45c321282292",
   "metadata": {},
   "source": [
    "### Transforms:"
   ]
  },
  {
   "cell_type": "code",
   "execution_count": 44,
   "id": "f0e5a79f-8787-4b52-854a-e733592cd35e",
   "metadata": {},
   "outputs": [
    {
     "data": {
      "text/plain": [
       "(ImageClassification(\n",
       "     crop_size=[456]\n",
       "     resize_size=[456]\n",
       "     mean=[0.485, 0.456, 0.406]\n",
       "     std=[0.229, 0.224, 0.225]\n",
       "     interpolation=InterpolationMode.BICUBIC\n",
       " ),\n",
       " ImageClassification(\n",
       "     crop_size=[384]\n",
       "     resize_size=[384]\n",
       "     mean=[0.485, 0.456, 0.406]\n",
       "     std=[0.229, 0.224, 0.225]\n",
       "     interpolation=InterpolationMode.BILINEAR\n",
       " ))"
      ]
     },
     "execution_count": 44,
     "metadata": {},
     "output_type": "execute_result"
    }
   ],
   "source": [
    "transform_b5 = torchvision.models.EfficientNet_B5_Weights.DEFAULT.transforms()\n",
    "transform_v2s = torchvision.models.EfficientNet_V2_S_Weights.DEFAULT.transforms()\n",
    "transform_b5, transform_v2s"
   ]
  },
  {
   "cell_type": "markdown",
   "id": "0c3cd214-db04-4b2b-9677-8d1790c17590",
   "metadata": {},
   "source": [
    "### Datasets:"
   ]
  },
  {
   "cell_type": "markdown",
   "id": "e8c6e8e8-1a40-4209-87ff-4893e86eb894",
   "metadata": {},
   "source": [
    "I need 4 pairs of train/valid datasets for I have 2 models and 2 subsets of data with 10 classes (for better representation of the whole dataset)"
   ]
  },
  {
   "cell_type": "code",
   "execution_count": 45,
   "id": "1d7d33e8-7e67-453a-891f-59df7c506aaf",
   "metadata": {
    "id": "YehliYnYoP1x"
   },
   "outputs": [],
   "source": [
    "train_ds20p_b5 = ImageFolder(\"data/food101_20_percent/train\", transform=transform_b5)\n",
    "valid_ds20p_b5 = ImageFolder(\"data/food101_20_percent/valid\", transform=transform_b5)\n",
    "\n",
    "train_ds20p_v2s = ImageFolder(\"data/food101_20_percent/train\", transform=transform_v2s)\n",
    "valid_ds20p_v2s = ImageFolder(\"data/food101_20_percent/valid\", transform=transform_v2s)"
   ]
  },
  {
   "cell_type": "markdown",
   "id": "2c296838-6180-4927-b3cb-8394063ac23a",
   "metadata": {},
   "source": [
    "### DataLoaders"
   ]
  },
  {
   "cell_type": "code",
   "execution_count": 46,
   "id": "0e1a0fae-ba3e-4817-9f01-c52a8f3e65b1",
   "metadata": {},
   "outputs": [
    {
     "data": {
      "text/plain": [
       "6"
      ]
     },
     "execution_count": 46,
     "metadata": {},
     "output_type": "execute_result"
    }
   ],
   "source": [
    "BATCH_SIZE = 32\n",
    "num_workers = os.cpu_count() // 2 \n",
    "num_workers"
   ]
  },
  {
   "cell_type": "code",
   "execution_count": 47,
   "id": "b5b843df-f0cf-4434-bbd1-8feb968ed501",
   "metadata": {},
   "outputs": [],
   "source": [
    "train_dl_20p_b5 = DataLoader(train_ds20p_b5, \n",
    "                         batch_size=BATCH_SIZE,\n",
    "                         shuffle=True,\n",
    "                         num_workers=num_workers,\n",
    "                         pin_memory=True)\n",
    "\n",
    "valid_dl_20p_b5 = DataLoader(valid_ds20p_b5, \n",
    "                         batch_size=BATCH_SIZE,\n",
    "                         shuffle=False,\n",
    "                         num_workers=num_workers,\n",
    "                         pin_memory=True)\n",
    "\n",
    "train_dl_20p_v2s = DataLoader(train_ds20p_v2s, \n",
    "                         batch_size=BATCH_SIZE,\n",
    "                         shuffle=True,\n",
    "                         num_workers=num_workers,\n",
    "                         pin_memory=True)\n",
    "\n",
    "valid_dl_20p_v2s = DataLoader(valid_ds20p_v2s, \n",
    "                         batch_size=BATCH_SIZE,\n",
    "                         shuffle=False,\n",
    "                         num_workers=num_workers,\n",
    "                         pin_memory=True)"
   ]
  },
  {
   "cell_type": "markdown",
   "id": "51d8f73b-4830-41ef-867b-9d465d8573e9",
   "metadata": {},
   "source": [
    "## Find learning rate"
   ]
  },
  {
   "cell_type": "code",
   "execution_count": 48,
   "id": "884c6292-98fc-46d2-abb6-278957f5172e",
   "metadata": {},
   "outputs": [],
   "source": [
    "import matplotlib.pyplot as plt\n",
    "from tqdm.auto import tqdm\n",
    "from torch.optim.lr_scheduler import LambdaLR"
   ]
  },
  {
   "cell_type": "code",
   "execution_count": 49,
   "id": "82dcc330-9d27-4c08-b591-757125eb7f66",
   "metadata": {},
   "outputs": [],
   "source": [
    "class LRFinder:\n",
    "    \"\"\"\n",
    "    My implementation of learning rate finder for pytorch, based on https://docs.fast.ai/callback.schedule.html#lrfinder\n",
    "    Methods:\n",
    "        LRFinder.find_lr()\n",
    "        LRFinder.plot()\n",
    "    \"\"\"\n",
    "    def __init__(self, model, dataloader, loss_fn, optimizer):\n",
    "        self.model = model\n",
    "        self.dataloader = dataloader\n",
    "        self.loss_fn = loss_fn\n",
    "        self.optimizer = optimizer\n",
    "        self.stats = {'lr': [], 'loss': []}\n",
    "\n",
    "    def find_lr(self, start_lr=1e-7, end_lr=10, num_iters=100):\n",
    "        \"\"\"\n",
    "        Runs the learning rate test in a specified range.\n",
    "\n",
    "        Args:\n",
    "            start_lr: minimum learning rate to test\n",
    "            end_lr: maximum learning rate to test\n",
    "            num_iters: number of testing iterations\n",
    "            \n",
    "        I want my learning rate finder to handle only the case when all parameters have the same learning rate\n",
    "        and I want my finder to be independent from learning rate set during the initialisation of optimizer, therefore\n",
    "        I am setting 'lr' parameter of all parameter gropups to 1, as my scheduler is multiplying it later on\n",
    "        \"\"\"\n",
    "        device = next(self.model.parameters()).device\n",
    "        \n",
    "        best_loss = float('inf')\n",
    "        for param_group in self.optimizer.param_groups:\n",
    "            param_group['lr'] = 1\n",
    "\n",
    "        lr_lambda = lambda x: start_lr * (end_lr / start_lr) ** (x/num_iters)\n",
    "        scheduler = LambdaLR(self.optimizer, lr_lambda)\n",
    "\n",
    "        epochs = num_iters // len(self.dataloader)\n",
    "\n",
    "        for epoch in range(epochs+1):\n",
    "            # set the total number of iterations in epoch for tqdm progress bar\n",
    "            if epochs == 0:\n",
    "                total = num_iters\n",
    "            elif epoch == epochs:\n",
    "                total = num_iters % len(self.dataloader)\n",
    "            else:\n",
    "                total = len(self.dataloader)\n",
    "                \n",
    "            # Separating tqdm from dataloader to avoid conflicts between them\n",
    "            dl_iterator = iter(self.dataloader)\n",
    "            for _ in tqdm(range(len(self.dataloader)), total=total, desc=\"Iterations\", leave=False):\n",
    "                batch, targets = next(dl_iterator)\n",
    "                batch, targets = batch.to(device), targets.to(device)\n",
    "                \n",
    "                logits = self.model(batch)\n",
    "                loss = self.loss_fn(logits, targets)\n",
    "                \n",
    "                best_loss = min(best_loss, loss)\n",
    "                if loss > 4 * best_loss:\n",
    "                    print(\"Loss diverged, stopping early\")\n",
    "                    return\n",
    "            \n",
    "                self.optimizer.zero_grad()\n",
    "                loss.backward()\n",
    "                self.optimizer.step()\n",
    "                \n",
    "                self.stats['lr'].append(scheduler.get_last_lr()[0])\n",
    "                self.stats['loss'].append(loss.item())\n",
    "                \n",
    "                scheduler.step()\n",
    "                if scheduler.get_last_lr()[0] > end_lr:\n",
    "                    return\n",
    "\n",
    "    def plot(self, skip_start=0, skip_end=5):\n",
    "        \"\"\"\n",
    "        Plots the results of the learning rate test.\n",
    "\n",
    "        Args:\n",
    "            skip_start: skip n first data points\n",
    "            skip_start: skip n last data points\n",
    "        \"\"\"\n",
    "        stats = self.stats\n",
    "        \n",
    "        fig = plt.figure()\n",
    "        ax = fig.add_subplot()\n",
    "        \n",
    "        ax.plot(stats['lr'][skip_start:-skip_end], stats['loss'][skip_start:-skip_end])\n",
    "        \n",
    "        ax.set_xscale(\"log\")\n",
    "        ax.set_xlabel(\"learning rate\")\n",
    "        ax.set_ylabel(\"loss\")"
   ]
  },
  {
   "cell_type": "code",
   "execution_count": 50,
   "id": "61a88e37-5828-40e2-965c-566093a28972",
   "metadata": {},
   "outputs": [
    {
     "data": {
      "application/vnd.jupyter.widget-view+json": {
       "model_id": "6e5567879ae541c6a2d00532f4602312",
       "version_major": 2,
       "version_minor": 0
      },
      "text/plain": [
       "Iterations:   0%|          | 0/100 [00:00<?, ?it/s]"
      ]
     },
     "metadata": {},
     "output_type": "display_data"
    },
    {
     "name": "stdout",
     "output_type": "stream",
     "text": [
      "Loss diverged, stopping early\n"
     ]
    }
   ],
   "source": [
    "model = create_effnetb5()\n",
    "loss_fn = nn.CrossEntropyLoss()\n",
    "optimizer = torch.optim.Adam(params=model.parameters(), lr=1)\n",
    "\n",
    "lr_finder = LRFinder(model, train_dl_20p_b5, loss_fn, optimizer)\n",
    "lr_finder.find_lr()"
   ]
  },
  {
   "cell_type": "code",
   "execution_count": 22,
   "id": "f0b2db6f-2672-4fbf-920a-6dc6416918b6",
   "metadata": {},
   "outputs": [
    {
     "data": {
      "image/png": "[encoded data removed]",
      "text/plain": [
       "<Figure size 640x480 with 1 Axes>"
      ]
     },
     "metadata": {},
     "output_type": "display_data"
    }
   ],
   "source": [
    "lr_finder.plot()"
   ]
  },
  {
   "cell_type": "code",
   "execution_count": 51,
   "id": "65ad8564-4fab-4aa5-97dc-3b1d1113dab8",
   "metadata": {},
   "outputs": [
    {
     "data": {
      "application/vnd.jupyter.widget-view+json": {
       "model_id": "557ebb91f3a549ab811b0468fe303fee",
       "version_major": 2,
       "version_minor": 0
      },
      "text/plain": [
       "Iterations:   0%|          | 0/100 [00:00<?, ?it/s]"
      ]
     },
     "metadata": {},
     "output_type": "display_data"
    },
    {
     "name": "stdout",
     "output_type": "stream",
     "text": [
      "Loss diverged, stopping early\n"
     ]
    }
   ],
   "source": [
    "model = create_effnet_v2s()\n",
    "loss_fn = nn.CrossEntropyLoss()\n",
    "optimizer = torch.optim.Adam(params=model.parameters(), lr=1)\n",
    "\n",
    "lr_finder = LRFinder(model, train_dl_20p_v2s, loss_fn, optimizer)\n",
    "lr_finder.find_lr()"
   ]
  },
  {
   "cell_type": "code",
   "execution_count": 52,
   "id": "a68d096d-40ac-4eb0-9320-d5bac48bf1bb",
   "metadata": {},
   "outputs": [
    {
     "data": {
      "image/png": "[encoded data removed]",
      "text/plain": [
       "<Figure size 640x480 with 1 Axes>"
      ]
     },
     "metadata": {},
     "output_type": "display_data"
    }
   ],
   "source": [
    "lr_finder.plot()"
   ]
  },
  {
   "cell_type": "markdown",
   "id": "efb07a3a-b407-43a4-9a78-11ed7b83d42c",
   "metadata": {},
   "source": [
    "I will set the the following learning rates:\n",
    "\n",
    "effnet_v2s lr: 0.005\n",
    "\n",
    "effnet_b5 lr: 0.005"
   ]
  },
  {
   "cell_type": "markdown",
   "id": "bfe65edf-4a6a-46d3-96b9-88ce9f7d2ffc",
   "metadata": {},
   "source": [
    "## Setup training functions"
   ]
  },
  {
   "cell_type": "code",
   "execution_count": 19,
   "id": "e4db46ea-a38d-482b-87fc-7930236fb446",
   "metadata": {},
   "outputs": [],
   "source": [
    "from torchmetrics import Accuracy\n",
    "from torch.optim.lr_scheduler import OneCycleLR"
   ]
  },
  {
   "cell_type": "code",
   "execution_count": 20,
   "id": "aa1f8e15-5c95-4d11-818d-6a601b649f14",
   "metadata": {},
   "outputs": [],
   "source": [
    "def train_step(model, dataloader, optimizer, scheduler, loss_fn, device, accuracy):\n",
    "    avg_accuracy = 0\n",
    "    avg_loss = 0\n",
    "    model.train()\n",
    "\n",
    "    # Necessary for dataloader to work with tqdm without errors, tqdm interferes with dataloader workers shutdown process,\n",
    "    # therefore I separated them\n",
    "    dl_iterator = iter(dataloader)\n",
    "    for _ in tqdm(range(len(dataloader)), desc=\"Training\", leave=False):\n",
    "        batch, target = next(dl_iterator)\n",
    "        batch, target = batch.to(device), target.to(device)\n",
    "        \n",
    "        logits = model(batch)\n",
    "        loss = loss_fn(logits, target)\n",
    "\n",
    "        loss.backward()\n",
    "        optimizer.step()\n",
    "        optimizer.zero_grad(set_to_none=True)\n",
    "        scheduler.step()\n",
    "\n",
    "        avg_loss += loss.item()\n",
    "        avg_accuracy += accuracy(logits, target).item()\n",
    "\n",
    "    avg_loss /= len(dataloader)\n",
    "    avg_accuracy /= len(dataloader)\n",
    "    return avg_loss, avg_accuracy\n",
    "\n",
    "def valid_step(model, dataloader, loss_fn, device, accuracy):\n",
    "    avg_accuracy = 0\n",
    "    avg_loss = 0\n",
    "    model.eval()\n",
    "\n",
    "    # Necessary for dataloader to work with tqdm without errors\n",
    "    dl_iterator = iter(dataloader)\n",
    "    with torch.inference_mode():\n",
    "        for _ in tqdm(range(len(dataloader)), desc=\"Validation\", leave=False):\n",
    "            batch, target = next(dl_iterator)\n",
    "            batch, target = batch.to(device), target.to(device)\n",
    "            \n",
    "            logits = model(batch)\n",
    "            loss = loss_fn(logits, target)\n",
    "\n",
    "            avg_loss += loss.item()\n",
    "            avg_accuracy += accuracy(logits, target).item()\n",
    "\n",
    "    avg_loss /= len(dataloader)\n",
    "    avg_accuracy /= len(dataloader)\n",
    "    return avg_loss, avg_accuracy"
   ]
  },
  {
   "cell_type": "code",
   "execution_count": 21,
   "id": "a3a0dcba-7b78-4023-bcf0-706600a4fe9b",
   "metadata": {},
   "outputs": [],
   "source": [
    "def train(model, train_dl, valid_dl, optimizer, loss_fn, epochs, writer=None):\n",
    "    device = next(iter(model.parameters())).device\n",
    "    acc_fn = Accuracy(task=\"multiclass\", num_classes=len(train_dl.dataset.classes)).to(device)\n",
    "    max_lr = optimizer.defaults['lr']\n",
    "    scheduler = OneCycleLR(optimizer, max_lr=max_lr, steps_per_epoch=len(train_dl), epochs=epochs)\n",
    "\n",
    "    for epoch in tqdm(range(epochs), desc=\"Epochs\"):\n",
    "        train_loss, train_acc = train_step(\n",
    "            model,\n",
    "            train_dl,\n",
    "            optimizer,\n",
    "            scheduler,\n",
    "            loss_fn,\n",
    "            device,\n",
    "            acc_fn\n",
    "        )\n",
    "\n",
    "        valid_loss, valid_acc = valid_step(\n",
    "            model,\n",
    "            valid_dl,\n",
    "            loss_fn,\n",
    "            device,\n",
    "            acc_fn\n",
    "        )\n",
    "\n",
    "        if writer is not None:\n",
    "            writer.add_scalar(\"train_loss\", train_loss, global_step=epoch)\n",
    "            writer.add_scalar(\"validation_loss\", valid_loss, global_step=epoch)\n",
    "            \n",
    "            writer.add_scalar(\"train_accuracy\", train_acc, global_step=epoch)\n",
    "            writer.add_scalar(\"validation_accuracy\", valid_acc, global_step=epoch)\n",
    "\n",
    "        print(\n",
    "            f\"Epoch: {epoch+1} | \"\n",
    "            f\"train_loss: {train_loss:.4f} | \"\n",
    "            f\"train_acc: {train_acc:.4f} | \"\n",
    "            f\"valid_loss: {valid_loss:.4f} | \"\n",
    "            f\"valid_acc: {valid_acc:.4f}\"\n",
    "        )"
   ]
  },
  {
   "cell_type": "markdown",
   "id": "4bb0d270-5ef0-4d39-98c2-1233b352ce25",
   "metadata": {},
   "source": [
    "### Let's test the training functions"
   ]
  },
  {
   "cell_type": "markdown",
   "id": "bbb22159-2775-4fd8-b31a-7a021ea01c80",
   "metadata": {},
   "source": [
    "I will also test how long does it take to train both models for 1 epoch"
   ]
  },
  {
   "cell_type": "code",
   "execution_count": 109,
   "id": "77271283-a178-43b0-b102-0dee884290da",
   "metadata": {},
   "outputs": [],
   "source": [
    "model = create_effnetb5()\n",
    "\n",
    "train_dl = train_dl_20p_b5\n",
    "valid_dl = valid_dl_20p_b5\n",
    "\n",
    "loss_fn = nn.CrossEntropyLoss()\n",
    "optimizer = torch.optim.Adam(params=model.parameters(), lr=0.03)"
   ]
  },
  {
   "cell_type": "code",
   "execution_count": 110,
   "id": "2945d9c8-edcc-4f4d-8dd1-2b93387da073",
   "metadata": {},
   "outputs": [
    {
     "data": {
      "application/vnd.jupyter.widget-view+json": {
       "model_id": "6e9ad85623c34fb6b4bc5f9be0f2f9c1",
       "version_major": 2,
       "version_minor": 0
      },
      "text/plain": [
       "Epochs:   0%|          | 0/1 [00:00<?, ?it/s]"
      ]
     },
     "metadata": {},
     "output_type": "display_data"
    },
    {
     "data": {
      "application/vnd.jupyter.widget-view+json": {
       "model_id": "",
       "version_major": 2,
       "version_minor": 0
      },
      "text/plain": [
       "Training:   0%|          | 0/474 [00:00<?, ?it/s]"
      ]
     },
     "metadata": {},
     "output_type": "display_data"
    },
    {
     "data": {
      "application/vnd.jupyter.widget-view+json": {
       "model_id": "",
       "version_major": 2,
       "version_minor": 0
      },
      "text/plain": [
       "Validation:   0%|          | 0/158 [00:00<?, ?it/s]"
      ]
     },
     "metadata": {},
     "output_type": "display_data"
    },
    {
     "name": "stdout",
     "output_type": "stream",
     "text": [
      "Epoch: 1 | train_loss: 4.2044 | train_acc: 0.3297 | valid_loss: 2.9534 | valid_acc: 0.4915\n",
      "CPU times: user 6min 53s, sys: 18.2 s, total: 7min 11s\n",
      "Wall time: 6min 56s\n"
     ]
    }
   ],
   "source": [
    "%%time\n",
    "train(model, train_dl, valid_dl, optimizer, loss_fn, epochs=1)"
   ]
  },
  {
   "cell_type": "code",
   "execution_count": 94,
   "id": "85a64ce4-da31-44d4-8c6f-f0cafee65405",
   "metadata": {},
   "outputs": [],
   "source": [
    "model = create_effnet_v2s()\n",
    "\n",
    "train_dl = train_dl_20p_v2s\n",
    "valid_dl = valid_dl_20p_v2s\n",
    "\n",
    "loss_fn = nn.CrossEntropyLoss()\n",
    "optimizer = torch.optim.Adam(params=model.parameters(), lr=0.01)"
   ]
  },
  {
   "cell_type": "code",
   "execution_count": 95,
   "id": "260551ca-dcb8-44fc-a816-d8e11c730850",
   "metadata": {},
   "outputs": [
    {
     "data": {
      "application/vnd.jupyter.widget-view+json": {
       "model_id": "9c000541278d4395add0dcceeb56c99e",
       "version_major": 2,
       "version_minor": 0
      },
      "text/plain": [
       "Epochs:   0%|          | 0/1 [00:00<?, ?it/s]"
      ]
     },
     "metadata": {},
     "output_type": "display_data"
    },
    {
     "data": {
      "application/vnd.jupyter.widget-view+json": {
       "model_id": "",
       "version_major": 2,
       "version_minor": 0
      },
      "text/plain": [
       "Training:   0%|          | 0/474 [00:00<?, ?it/s]"
      ]
     },
     "metadata": {},
     "output_type": "display_data"
    },
    {
     "data": {
      "application/vnd.jupyter.widget-view+json": {
       "model_id": "",
       "version_major": 2,
       "version_minor": 0
      },
      "text/plain": [
       "Validation:   0%|          | 0/158 [00:00<?, ?it/s]"
      ]
     },
     "metadata": {},
     "output_type": "display_data"
    },
    {
     "name": "stdout",
     "output_type": "stream",
     "text": [
      "Epoch: 1 | train_loss: 2.9529 | train_acc: 0.3284 | valid_loss: 2.1024 | valid_acc: 0.4778\n",
      "CPU times: user 2min 45s, sys: 11.9 s, total: 2min 57s\n",
      "Wall time: 2min 42s\n"
     ]
    }
   ],
   "source": [
    "%%time\n",
    "train(model, train_dl, valid_dl, optimizer, loss_fn, epochs=1)"
   ]
  },
  {
   "cell_type": "markdown",
   "id": "6233397e-5281-45ea-ae9d-c2843a246483",
   "metadata": {},
   "source": [
    "## EffNet_B5 vs EffNetV2-S"
   ]
  },
  {
   "cell_type": "markdown",
   "id": "aceeef12-2869-47ed-907c-38ffda131f74",
   "metadata": {},
   "source": [
    "Let's compare the performance of these 2 models on a subset of Food101."
   ]
  },
  {
   "cell_type": "code",
   "execution_count": 29,
   "id": "6cc4fd22-17a9-47b9-b4fd-5edfbf460c0c",
   "metadata": {},
   "outputs": [],
   "source": [
    "model_names = [\"EffNet_B5\", \"EffNetV2-S\"]"
   ]
  },
  {
   "cell_type": "code",
   "execution_count": 30,
   "id": "aa0063fc-f359-4b0c-a3a8-5b0e5157aeb0",
   "metadata": {},
   "outputs": [
    {
     "name": "stdout",
     "output_type": "stream",
     "text": [
      "[INFO] Experiment numer: 1\n",
      "[INFO] Model: EffNet_B5\n"
     ]
    },
    {
     "data": {
      "application/vnd.jupyter.widget-view+json": {
       "model_id": "fc6e79cae2c441e1957babd0de755277",
       "version_major": 2,
       "version_minor": 0
      },
      "text/plain": [
       "Epochs:   0%|          | 0/5 [00:00<?, ?it/s]"
      ]
     },
     "metadata": {},
     "output_type": "display_data"
    },
    {
     "data": {
      "application/vnd.jupyter.widget-view+json": {
       "model_id": "",
       "version_major": 2,
       "version_minor": 0
      },
      "text/plain": [
       "Training:   0%|          | 0/474 [00:00<?, ?it/s]"
      ]
     },
     "metadata": {},
     "output_type": "display_data"
    },
    {
     "data": {
      "application/vnd.jupyter.widget-view+json": {
       "model_id": "",
       "version_major": 2,
       "version_minor": 0
      },
      "text/plain": [
       "Validation:   0%|          | 0/158 [00:00<?, ?it/s]"
      ]
     },
     "metadata": {},
     "output_type": "display_data"
    },
    {
     "name": "stdout",
     "output_type": "stream",
     "text": [
      "Epoch: 1 | train_loss: 3.5818 | train_acc: 0.2884 | valid_loss: 2.2565 | valid_acc: 0.5028\n"
     ]
    },
    {
     "data": {
      "application/vnd.jupyter.widget-view+json": {
       "model_id": "",
       "version_major": 2,
       "version_minor": 0
      },
      "text/plain": [
       "Training:   0%|          | 0/474 [00:00<?, ?it/s]"
      ]
     },
     "metadata": {},
     "output_type": "display_data"
    },
    {
     "data": {
      "application/vnd.jupyter.widget-view+json": {
       "model_id": "",
       "version_major": 2,
       "version_minor": 0
      },
      "text/plain": [
       "Validation:   0%|          | 0/158 [00:00<?, ?it/s]"
      ]
     },
     "metadata": {},
     "output_type": "display_data"
    },
    {
     "name": "stdout",
     "output_type": "stream",
     "text": [
      "Epoch: 2 | train_loss: 2.0028 | train_acc: 0.5190 | valid_loss: 1.8200 | valid_acc: 0.5577\n"
     ]
    },
    {
     "data": {
      "application/vnd.jupyter.widget-view+json": {
       "model_id": "",
       "version_major": 2,
       "version_minor": 0
      },
      "text/plain": [
       "Training:   0%|          | 0/474 [00:00<?, ?it/s]"
      ]
     },
     "metadata": {},
     "output_type": "display_data"
    },
    {
     "data": {
      "application/vnd.jupyter.widget-view+json": {
       "model_id": "",
       "version_major": 2,
       "version_minor": 0
      },
      "text/plain": [
       "Validation:   0%|          | 0/158 [00:00<?, ?it/s]"
      ]
     },
     "metadata": {},
     "output_type": "display_data"
    },
    {
     "name": "stdout",
     "output_type": "stream",
     "text": [
      "Epoch: 3 | train_loss: 1.5796 | train_acc: 0.5988 | valid_loss: 1.7336 | valid_acc: 0.5768\n"
     ]
    },
    {
     "data": {
      "application/vnd.jupyter.widget-view+json": {
       "model_id": "",
       "version_major": 2,
       "version_minor": 0
      },
      "text/plain": [
       "Training:   0%|          | 0/474 [00:00<?, ?it/s]"
      ]
     },
     "metadata": {},
     "output_type": "display_data"
    },
    {
     "data": {
      "application/vnd.jupyter.widget-view+json": {
       "model_id": "",
       "version_major": 2,
       "version_minor": 0
      },
      "text/plain": [
       "Validation:   0%|          | 0/158 [00:00<?, ?it/s]"
      ]
     },
     "metadata": {},
     "output_type": "display_data"
    },
    {
     "name": "stdout",
     "output_type": "stream",
     "text": [
      "Epoch: 4 | train_loss: 1.2750 | train_acc: 0.6642 | valid_loss: 1.6892 | valid_acc: 0.5850\n"
     ]
    },
    {
     "data": {
      "application/vnd.jupyter.widget-view+json": {
       "model_id": "",
       "version_major": 2,
       "version_minor": 0
      },
      "text/plain": [
       "Training:   0%|          | 0/474 [00:00<?, ?it/s]"
      ]
     },
     "metadata": {},
     "output_type": "display_data"
    },
    {
     "data": {
      "application/vnd.jupyter.widget-view+json": {
       "model_id": "",
       "version_major": 2,
       "version_minor": 0
      },
      "text/plain": [
       "Validation:   0%|          | 0/158 [00:00<?, ?it/s]"
      ]
     },
     "metadata": {},
     "output_type": "display_data"
    },
    {
     "name": "stdout",
     "output_type": "stream",
     "text": [
      "Epoch: 5 | train_loss: 1.1127 | train_acc: 0.7073 | valid_loss: 1.6814 | valid_acc: 0.5874\n",
      "--------------------------------------------------\n",
      "\n",
      "[INFO] Experiment numer: 2\n",
      "[INFO] Model: EffNetV2-S\n"
     ]
    },
    {
     "data": {
      "application/vnd.jupyter.widget-view+json": {
       "model_id": "dda63270abce49b5a18dbca1f0b46200",
       "version_major": 2,
       "version_minor": 0
      },
      "text/plain": [
       "Epochs:   0%|          | 0/5 [00:00<?, ?it/s]"
      ]
     },
     "metadata": {},
     "output_type": "display_data"
    },
    {
     "data": {
      "application/vnd.jupyter.widget-view+json": {
       "model_id": "",
       "version_major": 2,
       "version_minor": 0
      },
      "text/plain": [
       "Training:   0%|          | 0/474 [00:00<?, ?it/s]"
      ]
     },
     "metadata": {},
     "output_type": "display_data"
    },
    {
     "data": {
      "application/vnd.jupyter.widget-view+json": {
       "model_id": "",
       "version_major": 2,
       "version_minor": 0
      },
      "text/plain": [
       "Validation:   0%|          | 0/158 [00:00<?, ?it/s]"
      ]
     },
     "metadata": {},
     "output_type": "display_data"
    },
    {
     "name": "stdout",
     "output_type": "stream",
     "text": [
      "Epoch: 1 | train_loss: 3.5984 | train_acc: 0.2412 | valid_loss: 2.3802 | valid_acc: 0.4351\n"
     ]
    },
    {
     "data": {
      "application/vnd.jupyter.widget-view+json": {
       "model_id": "",
       "version_major": 2,
       "version_minor": 0
      },
      "text/plain": [
       "Training:   0%|          | 0/474 [00:00<?, ?it/s]"
      ]
     },
     "metadata": {},
     "output_type": "display_data"
    },
    {
     "data": {
      "application/vnd.jupyter.widget-view+json": {
       "model_id": "",
       "version_major": 2,
       "version_minor": 0
      },
      "text/plain": [
       "Validation:   0%|          | 0/158 [00:00<?, ?it/s]"
      ]
     },
     "metadata": {},
     "output_type": "display_data"
    },
    {
     "name": "stdout",
     "output_type": "stream",
     "text": [
      "Epoch: 2 | train_loss: 2.2182 | train_acc: 0.4587 | valid_loss: 2.0622 | valid_acc: 0.4894\n"
     ]
    },
    {
     "data": {
      "application/vnd.jupyter.widget-view+json": {
       "model_id": "",
       "version_major": 2,
       "version_minor": 0
      },
      "text/plain": [
       "Training:   0%|          | 0/474 [00:00<?, ?it/s]"
      ]
     },
     "metadata": {},
     "output_type": "display_data"
    },
    {
     "data": {
      "application/vnd.jupyter.widget-view+json": {
       "model_id": "",
       "version_major": 2,
       "version_minor": 0
      },
      "text/plain": [
       "Validation:   0%|          | 0/158 [00:00<?, ?it/s]"
      ]
     },
     "metadata": {},
     "output_type": "display_data"
    },
    {
     "name": "stdout",
     "output_type": "stream",
     "text": [
      "Epoch: 3 | train_loss: 1.8511 | train_acc: 0.5324 | valid_loss: 1.9801 | valid_acc: 0.5123\n"
     ]
    },
    {
     "data": {
      "application/vnd.jupyter.widget-view+json": {
       "model_id": "",
       "version_major": 2,
       "version_minor": 0
      },
      "text/plain": [
       "Training:   0%|          | 0/474 [00:00<?, ?it/s]"
      ]
     },
     "metadata": {},
     "output_type": "display_data"
    },
    {
     "data": {
      "application/vnd.jupyter.widget-view+json": {
       "model_id": "",
       "version_major": 2,
       "version_minor": 0
      },
      "text/plain": [
       "Validation:   0%|          | 0/158 [00:00<?, ?it/s]"
      ]
     },
     "metadata": {},
     "output_type": "display_data"
    },
    {
     "name": "stdout",
     "output_type": "stream",
     "text": [
      "Epoch: 4 | train_loss: 1.5392 | train_acc: 0.5950 | valid_loss: 1.9118 | valid_acc: 0.5299\n"
     ]
    },
    {
     "data": {
      "application/vnd.jupyter.widget-view+json": {
       "model_id": "",
       "version_major": 2,
       "version_minor": 0
      },
      "text/plain": [
       "Training:   0%|          | 0/474 [00:00<?, ?it/s]"
      ]
     },
     "metadata": {},
     "output_type": "display_data"
    },
    {
     "data": {
      "application/vnd.jupyter.widget-view+json": {
       "model_id": "",
       "version_major": 2,
       "version_minor": 0
      },
      "text/plain": [
       "Validation:   0%|          | 0/158 [00:00<?, ?it/s]"
      ]
     },
     "metadata": {},
     "output_type": "display_data"
    },
    {
     "name": "stdout",
     "output_type": "stream",
     "text": [
      "Epoch: 5 | train_loss: 1.3526 | train_acc: 0.6441 | valid_loss: 1.9058 | valid_acc: 0.5254\n",
      "--------------------------------------------------\n",
      "\n"
     ]
    }
   ],
   "source": [
    "from torch.utils.tensorboard.writer import SummaryWriter\n",
    "\n",
    "experiment_number = 0\n",
    "for model_name in model_names:\n",
    "    experiment_number += 1\n",
    "    print(f\"[INFO] Experiment numer: {experiment_number}\")\n",
    "    print(f\"[INFO] Model: {model_name}\")\n",
    "    \n",
    "    if model_name == \"EffNet_B5\":\n",
    "        model = create_effnetb5()\n",
    "        train_dl = train_dl_20p_b5\n",
    "        valid_dl = valid_dl_20p_b5\n",
    "    else:\n",
    "        model = create_effnet_v2s()\n",
    "        train_dl = train_dl_20p_v2s\n",
    "        valid_dl = valid_dl_20p_v2s\n",
    "\n",
    "    optimizer = torch.optim.Adam(params=model.parameters(), lr=0.005)\n",
    "    loss_fn = nn.CrossEntropyLoss()\n",
    "    writer = SummaryWriter(log_dir=f\"tensorboard_stats/models_comparison/{model_name}\")\n",
    "        \n",
    "    train(model, train_dl, valid_dl, optimizer, loss_fn, epochs=5, writer=writer)\n",
    "        \n",
    "    print(\"-\"*50 + '\\n')"
   ]
  },
  {
   "cell_type": "markdown",
   "id": "bcf7f5e2-a7ce-4886-8547-55b567b17a19",
   "metadata": {
    "editable": true,
    "slideshow": {
     "slide_type": ""
    },
    "tags": []
   },
   "source": [
    "It turns out that **the bigger model performs better**, this shows that when doing transfer learning, relying solely on models performance on IMAGENET is not enough and some testing is required. However EffNetV2-S **trains 2.5x faster**, which makes me think that I shouldn't have considered those 2 models as of the same size category. I will use **EffNetV2-S** on the full dataset, because having more accuracy here is not worth the amount of extra time I would have to wait for the model to train."
   ]
  },
  {
   "cell_type": "markdown",
   "id": "eb5ef85c-2b57-4cff-ae10-48b88b7a2301",
   "metadata": {},
   "source": [
    "If I could, I would have used **mixed precision training**, however my gpu doesn't support it. \n",
    "And I don't see any good reason to pay for google collab or some GPU server (in this particular case)."
   ]
  },
  {
   "cell_type": "markdown",
   "id": "e6799a64-b57f-4fe7-9b57-5e9fd758f570",
   "metadata": {},
   "source": [
    "Now that I know which model I will use and I have train function and LRFinder class ready, I can move to the next stage of tuning hyper parameters. In order to keep things clean I will do it in a separate jupyter notebook"
   ]
  },
  {
   "cell_type": "code",
   "execution_count": null,
   "id": "d821bf46-1abd-49e6-a187-7df2efa2f27f",
   "metadata": {},
   "outputs": [],
   "source": []
  }
 ],
 "metadata": {
  "kernelspec": {
   "display_name": "Python 3 (ipykernel)",
   "language": "python",
   "name": "python3"
  },
  "language_info": {
   "codemirror_mode": {
    "name": "ipython",
    "version": 3
   },
   "file_extension": ".py",
   "mimetype": "text/x-python",
   "name": "python",
   "nbconvert_exporter": "python",
   "pygments_lexer": "ipython3",
   "version": "3.12.5"
  }
 },
 "nbformat": 4,
 "nbformat_minor": 5
}
